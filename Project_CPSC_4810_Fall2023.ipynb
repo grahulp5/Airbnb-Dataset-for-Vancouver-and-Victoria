{
  "cells": [
    {
      "cell_type": "markdown",
      "source": [
        "A combined dataset from two cities: Vancouver and Victoria\n",
        "\n",
        "Objective: Prepare data to compare the Airbnb offer in 2 BC cities.  \n",
        "Objective: Airbnb from the neighborhood & host perspective"
      ],
      "metadata": {
        "datalore": {
          "node_id": "WWslHpffqHO22oHU4xChiU",
          "type": "MD",
          "hide_input_from_viewers": true,
          "hide_output_from_viewers": true
        },
        "id": "YGeoKFOrKlRF"
      }
    },
    {
      "cell_type": "markdown",
      "source": [
        "# **Table of content**\n",
        "\n",
        "## A. Introduction\n",
        "   - a. Source of file: http://insideairbnb.com/get-the-data/\n",
        "   - b. Problem Statement\n",
        "   - c. The Data\n",
        "\n",
        "## B. Data cleaning and pre-processing\n",
        "   - a. Column description from the website\n",
        "   - b. Loading the dataset\n",
        "   - c. Calculate the distance of a listing to the center of the city\n",
        "   - d. Basic check before combining 2 cities\n",
        "   - e. Creating New Column \"City\"\n",
        "   - f. Concatenate the 2 cities in one file\n",
        "   - g. Dropping some of the initial columns\n",
        "   - h. Rename Column names\n",
        "   - i. Information about the original datasets with datatypes\n",
        "   - j. Analysing columns in df_listings\n",
        "   - l. Analysing columns in df_reviews\n",
        "   - k. Analysing columns in df_calendar\n",
        "   - m. Analysing columns in df_neighborhoods\n",
        "   - n. Missing values\n",
        "     - i. Identify rows with only '-' or '.' in the comment column\n",
        "     - ii. Checking bad characters in comment\n",
        "     - iii. Summary of missing values\n",
        "   - o. Outliers\n",
        "\n",
        "## C. Master Dataset\n",
        "   - a. Adding new columns\n",
        "   - b. Add a new column \"Sentiment\" in df_reviews\n",
        "   - c. Average price per listing id per quarter\n",
        "   - d. Total Number of reviews per host\n",
        "   - e. Calculated number of reviews for the last twelve months\n",
        "   - f. Add price range and avg price for the coming year for each listing in df_listings\n",
        "   - g. COMBINE THE DATASETS\n",
        "   - h. Calculate no of reviews per listing and compare with existing column\n",
        "\n",
        "## D. Create sum_hosts dataset, the summary of data by host\n",
        "   - a. Create the base of the dataset\n",
        "   - b. Add calculated columns\n",
        "\n",
        "## E. Create sum_neighbourhoods dataset, the summary of data by neighbourhood\n",
        "   - a. Create the base of the dataset\n",
        "   - b. Add calculated columns\n",
        "   - c. Read Geojson file and generate a map in an HTML file\n",
        "\n",
        "## F. Graph\n",
        "   - a. Average price comparison between Vancouver & Victoria city\n",
        "   - b. Average price for Quarter 1 comparing Vancouver and Victoria city\n",
        "   - c. Average price for Quarter 2 comparing Vancouver and Victoria city\n",
        "   - d. Average price for Quarter 3 comparing Vancouver and Victoria city\n",
        "   - e. Average price for Quarter 4 comparing Vancouver and Victoria city\n",
        "   - f. Number of reviews comparison between Vancouver & Victoria city\n",
        "   - g. Review sentiment comparison between Vancouver & Victoria city\n",
        "\n",
        "## G. Conclusion"
      ],
      "metadata": {
        "datalore": {
          "node_id": "STXULCumuLBdehSX9oSolG",
          "type": "MD",
          "hide_input_from_viewers": true,
          "hide_output_from_viewers": true
        },
        "id": "IOWo45z4KlRG"
      }
    },
    {
      "cell_type": "code",
      "source": [
        "# Load libraries\n",
        "import pandas as pd\n",
        "import numpy as np\n",
        "pd.set_option('display.max_columns', None)\n",
        "pd.set_option('display.max_colwidth', 100)\n",
        "import re # for regexp\n",
        "\n",
        "from datetime import date, datetime, timedelta # for date\n",
        "\n",
        "import folium # to map coordinates\n",
        "import json # to read json\n",
        "\n",
        "import matplotlib.pyplot as plt # for vizualisations\n",
        "import seaborn as sns"
      ],
      "execution_count": null,
      "outputs": [],
      "metadata": {
        "datalore": {
          "node_id": "VVLtuASd1R8JJXtQtVEFnq",
          "type": "CODE",
          "hide_input_from_viewers": false,
          "hide_output_from_viewers": false,
          "report_properties": {
            "rowId": "p3GaBDPX5tJLMxykKURjNQ",
            "x": 0.5833333333333344,
            "relativeY": 0,
            "width": 0.41666666666666735,
            "height": 8,
            "isDynamicHeight": false
          }
        },
        "id": "BijpF9ZqKlRH"
      }
    },
    {
      "cell_type": "markdown",
      "source": [
        "# A. Introduction"
      ],
      "metadata": {
        "datalore": {
          "node_id": "fsqWbbnr9Svqy9Pccepks0",
          "type": "MD",
          "hide_input_from_viewers": true,
          "hide_output_from_viewers": true
        },
        "id": "lcil9X73KlRI"
      }
    },
    {
      "cell_type": "markdown",
      "source": [
        "### a. Source of file: http://insideairbnb.com/get-the-data/"
      ],
      "metadata": {
        "datalore": {
          "node_id": "D8nPBwZyFh3fPpmxMTfntw",
          "type": "MD",
          "hide_input_from_viewers": false,
          "hide_output_from_viewers": false,
          "report_properties": {
            "rowId": "4d6bEXv5WoNfUp8PB8AFaT",
            "x": 0,
            "relativeY": 0,
            "width": 0.9791666666666683
          }
        },
        "id": "DE4EN4AAKlRI"
      }
    },
    {
      "cell_type": "markdown",
      "source": [
        "### b. Problem Statement\n",
        "\n",
        "In the intriguing world of Data Science with multiple raw data, this project takes us through the Airbnb dataset of Vancouver and Victoria. With over 10k listings under the both of them, we're trying to find the number of stays and its insights. This covers whether the entire homes were shared or some shared spaces; we're decoding which place is popular for Airbnb activity — by taking average nights booked, nightly prices into account. Additionally, we will be delving into licenses (if they have it or not), and deciphering the subtle shift between short-term and long-term stays. Top hosts take the spotlight, revealing the listing data to better understand how Airbnb functions. The Airbnb dataset can be found <a href=\"http://insideairbnb.com/get-the-data/\" target=\"_blank\">here</a>."
      ],
      "metadata": {
        "datalore": {
          "node_id": "AJunn2bn6mc5tKAF1yw6WA",
          "type": "MD",
          "hide_input_from_viewers": true,
          "hide_output_from_viewers": true
        },
        "id": "r9-3iKT1KlRI"
      }
    },
    {
      "cell_type": "markdown",
      "source": [
        "### c. The Data\n",
        "\n",
        "The original dataset is downloaded from this <a href=\"http://insideairbnb.com/get-the-data/\" target=\"_blank\">link</a>.\n",
        "\n",
        "We have combined and formed our master dataset from two cities in the Airbnb dataset mentioned above (<a href=\"http://insideairbnb.com/vancouver\" target=\"blank\">Vancouver</a> and <a href=\"http://insideairbnb.com/victoria\" target=\"_blank\">Victoria</a>). We would like to compare these cities and monitor the activities like minimum stay, price, number of nights booked and the income of each listing for the last 12 months.\n",
        "\n",
        "Both of the datasets have seven files in them as follows:\n",
        "\n",
        "1. Listing: Contains detailed listings data with columns such as URLs, IDs, Name and description to match with other files combined.\n",
        "2. Calendar: Contains future date to show the availability available for booking in Airbnb dataset.\n",
        "3. Reviews: Contains detailed review data with IDs, dates, Name and comments for each review.\n",
        "4. Listing (Summary information): Contains summarized information of data from listing column as IDs, Names, neighbourhood details, geo location, price, minimum number of nights, number of reviews, summary of reviews and license details.\n",
        "5. Reviews (Summary information): Contains listing_id and date as summarized information from review data.\n",
        "6. Neighbourhood: Contains neighbour details and name as a part of the dataset.  \n",
        "7. Neighbourhoods GeoJSON format: Contains coordinates to map the neighbourhoods, with its name.  \n",
        "\n",
        "\n",
        "With over 80 columns present in the dataset, we won't be focusing on every column as they are not required. Listing down are a few columns with its details below.\n",
        "\n",
        "* IDs: Here id represent the primary key with which the user details are assigned and stored in the data in integer format.\n",
        "  * Listing_id: Represents Airbnb's unique identifier for listing file.\n",
        "  * Host_id: Represents Airbnb's unique identifier for host.\n",
        "* host_url: Represents the Airbnb page for the host.\n",
        "* host_name: Represents the name of the host. It usually contains just the first name(s).\n",
        "* host_acceptance_rate: Contains the rate at which a host accepts booking requests.\n",
        "* host_listings_count: Contains the number of listings the host has (per Airbnb calculations).\n",
        "* property_type: Contains the selected property type. Additionally, the Hotels and Bed and Breakfasts are kept as described by their hosts in this field.\n",
        "* room_type: All the available homes are grouped in three formats as Entire place, Private room, Shared room, and Entire place.\n",
        "* price: Contains the price stored in currency (CAD).\n",
        "* first_review: Contains the date of the first/oldest review.\n",
        "* last_review: Contains the date of the last/newest review.\n",
        "* reviews_per_month: Contains the number of reviews the listing has over the lifetime of the listing.\n",
        "\n"
      ],
      "metadata": {
        "datalore": {
          "node_id": "HBb0CfUygbnji17j3RS0jc",
          "type": "MD",
          "hide_input_from_viewers": true,
          "hide_output_from_viewers": true
        },
        "id": "BKsHssPNKlRI"
      }
    },
    {
      "cell_type": "markdown",
      "source": [
        "# B. Data cleaning and pre-processing"
      ],
      "metadata": {
        "datalore": {
          "node_id": "cPCcc9lfjLT2HTzBymJcQa",
          "type": "MD",
          "hide_input_from_viewers": true,
          "hide_output_from_viewers": true
        },
        "id": "jOhSP3kDKlRJ"
      }
    },
    {
      "cell_type": "markdown",
      "source": [
        "## a. Column description from the website\n",
        "Reading the file from the \"Inside Airbnb Data Dictionary.xlsx\" file provided on the website with all the columns and the description.  \n",
        "Each column description seems accurate except a few of them, and some missing descriptions."
      ],
      "metadata": {
        "datalore": {
          "node_id": "mkwAVcyyUEhbFbVzg5L0lY",
          "type": "MD",
          "hide_input_from_viewers": true,
          "hide_output_from_viewers": true
        },
        "id": "B2AkXOJmKlRJ"
      }
    },
    {
      "cell_type": "code",
      "source": [
        "import openpyxl\n",
        "\n",
        "# listings.csv columns description\n",
        "data_dictionary_listings = pd.read_excel('Inside Airbnb Data Dictionary.xlsx','listings.csv detail v4.3')\n",
        "column_names = data_dictionary_listings.iloc[6]\n",
        "data_dictionary_listings.rename(columns = column_names, inplace = True)\n",
        "data_dictionary_listings = data_dictionary_listings[7:-4]\n",
        "data_dictionary_listings"
      ],
      "execution_count": null,
      "outputs": [
        {
          "data": {
            "text/html": [
              "<div>\n",
              "<style scoped>\n",
              "    .dataframe tbody tr th:only-of-type {\n",
              "        vertical-align: middle;\n",
              "    }\n",
              "\n",
              "    .dataframe tbody tr th {\n",
              "        vertical-align: top;\n",
              "    }\n",
              "\n",
              "    .dataframe thead th {\n",
              "        text-align: right;\n",
              "    }\n",
              "</style>\n",
              "<table border=\"1\" class=\"dataframe\">\n",
              "  <thead>\n",
              "    <tr style=\"text-align: right;\">\n",
              "      <th></th>\n",
              "      <th>Field</th>\n",
              "      <th>Type</th>\n",
              "      <th>Calculated</th>\n",
              "      <th>Description</th>\n",
              "      <th>Reference</th>\n",
              "    </tr>\n",
              "  </thead>\n",
              "  <tbody>\n",
              "    <tr>\n",
              "      <th>7</th>\n",
              "      <td>id</td>\n",
              "      <td>integer</td>\n",
              "      <td>NaN</td>\n",
              "      <td>Airbnb's unique identifier for the listing</td>\n",
              "      <td>NaN</td>\n",
              "    </tr>\n",
              "    <tr>\n",
              "      <th>8</th>\n",
              "      <td>listing_url</td>\n",
              "      <td>text</td>\n",
              "      <td>y</td>\n",
              "      <td>NaN</td>\n",
              "      <td>NaN</td>\n",
              "    </tr>\n",
              "    <tr>\n",
              "      <th>9</th>\n",
              "      <td>scrape_id</td>\n",
              "      <td>bigint</td>\n",
              "      <td>y</td>\n",
              "      <td>Inside Airbnb \"Scrape\" this was part of</td>\n",
              "      <td>NaN</td>\n",
              "    </tr>\n",
              "    <tr>\n",
              "      <th>10</th>\n",
              "      <td>last_scraped</td>\n",
              "      <td>datetime</td>\n",
              "      <td>y</td>\n",
              "      <td>UTC. The date and time this listing was \"scraped\".</td>\n",
              "      <td>NaN</td>\n",
              "    </tr>\n",
              "    <tr>\n",
              "      <th>11</th>\n",
              "      <td>source</td>\n",
              "      <td>text</td>\n",
              "      <td>NaN</td>\n",
              "      <td>One of \"neighbourhood search\" or \"previous scrape\". \"neighbourhood search\" means that the listin...</td>\n",
              "      <td>NaN</td>\n",
              "    </tr>\n",
              "    <tr>\n",
              "      <th>...</th>\n",
              "      <td>...</td>\n",
              "      <td>...</td>\n",
              "      <td>...</td>\n",
              "      <td>...</td>\n",
              "      <td>...</td>\n",
              "    </tr>\n",
              "    <tr>\n",
              "      <th>77</th>\n",
              "      <td>calculated_host_listings_count</td>\n",
              "      <td>integer</td>\n",
              "      <td>y</td>\n",
              "      <td>The number of listings the host has in the current scrape, in the city/region geography.</td>\n",
              "      <td>NaN</td>\n",
              "    </tr>\n",
              "    <tr>\n",
              "      <th>78</th>\n",
              "      <td>calculated_host_listings_count_entire_homes</td>\n",
              "      <td>integer</td>\n",
              "      <td>y</td>\n",
              "      <td>The number of Entire home/apt listings the host has in the current scrape, in the city/region ge...</td>\n",
              "      <td>NaN</td>\n",
              "    </tr>\n",
              "    <tr>\n",
              "      <th>79</th>\n",
              "      <td>calculated_host_listings_count_private_rooms</td>\n",
              "      <td>integer</td>\n",
              "      <td>y</td>\n",
              "      <td>The number of Private room listings the host has in the current scrape, in the city/region geogr...</td>\n",
              "      <td>NaN</td>\n",
              "    </tr>\n",
              "    <tr>\n",
              "      <th>80</th>\n",
              "      <td>calculated_host_listings_count_shared_rooms</td>\n",
              "      <td>integer</td>\n",
              "      <td>y</td>\n",
              "      <td>The number of Shared room listings the host has in the current scrape, in the city/region geography</td>\n",
              "      <td>NaN</td>\n",
              "    </tr>\n",
              "    <tr>\n",
              "      <th>81</th>\n",
              "      <td>reviews_per_month</td>\n",
              "      <td>numeric</td>\n",
              "      <td>y</td>\n",
              "      <td>The number of reviews the listing has over the lifetime of the listing</td>\n",
              "      <td>NaN</td>\n",
              "    </tr>\n",
              "  </tbody>\n",
              "</table>\n",
              "<p>75 rows × 5 columns</p>\n",
              "</div>"
            ]
          },
          "metadata": {},
          "output_type": "display_data"
        }
      ],
      "metadata": {
        "datalore": {
          "node_id": "KbGnquZC6CI8NyGS3bSQQZ",
          "type": "CODE",
          "hide_input_from_viewers": true,
          "hide_output_from_viewers": true
        },
        "id": "o9SXNej-KlRJ",
        "outputId": "ecf98360-8178-4cad-c6d2-7047e918c5b7"
      }
    },
    {
      "cell_type": "code",
      "source": [
        "# reviews.csv columns description\n",
        "data_dictionary_reviews = pd.read_excel('Inside Airbnb Data Dictionary.xlsx','reviews.csv v1')\n",
        "column_names = data_dictionary_reviews.iloc[6]\n",
        "data_dictionary_reviews.rename(columns = column_names, inplace = True)\n",
        "data_dictionary_reviews = data_dictionary_reviews[7:-3]\n",
        "data_dictionary_reviews"
      ],
      "execution_count": null,
      "outputs": [
        {
          "data": {
            "text/html": [
              "<div>\n",
              "<style scoped>\n",
              "    .dataframe tbody tr th:only-of-type {\n",
              "        vertical-align: middle;\n",
              "    }\n",
              "\n",
              "    .dataframe tbody tr th {\n",
              "        vertical-align: top;\n",
              "    }\n",
              "\n",
              "    .dataframe thead th {\n",
              "        text-align: right;\n",
              "    }\n",
              "</style>\n",
              "<table border=\"1\" class=\"dataframe\">\n",
              "  <thead>\n",
              "    <tr style=\"text-align: right;\">\n",
              "      <th></th>\n",
              "      <th>Field</th>\n",
              "      <th>Type</th>\n",
              "      <th>Calculated</th>\n",
              "      <th>Description</th>\n",
              "      <th>Reference</th>\n",
              "    </tr>\n",
              "  </thead>\n",
              "  <tbody>\n",
              "    <tr>\n",
              "      <th>7</th>\n",
              "      <td>listing_id</td>\n",
              "      <td>NaN</td>\n",
              "      <td>NaN</td>\n",
              "      <td>NaN</td>\n",
              "      <td>NaN</td>\n",
              "    </tr>\n",
              "    <tr>\n",
              "      <th>8</th>\n",
              "      <td>id</td>\n",
              "      <td>NaN</td>\n",
              "      <td>NaN</td>\n",
              "      <td>NaN</td>\n",
              "      <td>NaN</td>\n",
              "    </tr>\n",
              "    <tr>\n",
              "      <th>9</th>\n",
              "      <td>date</td>\n",
              "      <td>NaN</td>\n",
              "      <td>NaN</td>\n",
              "      <td>NaN</td>\n",
              "      <td>NaN</td>\n",
              "    </tr>\n",
              "    <tr>\n",
              "      <th>10</th>\n",
              "      <td>reviewer_id</td>\n",
              "      <td>NaN</td>\n",
              "      <td>NaN</td>\n",
              "      <td>NaN</td>\n",
              "      <td>NaN</td>\n",
              "    </tr>\n",
              "    <tr>\n",
              "      <th>11</th>\n",
              "      <td>reviewer_name</td>\n",
              "      <td>NaN</td>\n",
              "      <td>NaN</td>\n",
              "      <td>NaN</td>\n",
              "      <td>NaN</td>\n",
              "    </tr>\n",
              "    <tr>\n",
              "      <th>12</th>\n",
              "      <td>comments</td>\n",
              "      <td>NaN</td>\n",
              "      <td>NaN</td>\n",
              "      <td>NaN</td>\n",
              "      <td>NaN</td>\n",
              "    </tr>\n",
              "  </tbody>\n",
              "</table>\n",
              "</div>"
            ]
          },
          "metadata": {},
          "output_type": "display_data"
        }
      ],
      "metadata": {
        "datalore": {
          "node_id": "vZDP1EPQgMPZNCgqZNvsHR",
          "type": "CODE",
          "hide_input_from_viewers": true,
          "hide_output_from_viewers": true
        },
        "id": "pk4jIlSBKlRK",
        "outputId": "b774f9c9-a8b7-42f1-d8c3-3f6b969754bf"
      }
    },
    {
      "cell_type": "code",
      "source": [
        "# listings summary.csv columns description\n",
        "data_dictionary_sum_listings = pd.read_excel('Inside Airbnb Data Dictionary.xlsx','listings.csv summary v2')\n",
        "column_names = data_dictionary_sum_listings.iloc[6]\n",
        "data_dictionary_sum_listings.rename(columns = column_names, inplace = True)\n",
        "data_dictionary_sum_listings = data_dictionary_sum_listings[7:-3]\n",
        "data_dictionary_sum_listings"
      ],
      "execution_count": null,
      "outputs": [
        {
          "data": {
            "text/html": [
              "<div>\n",
              "<style scoped>\n",
              "    .dataframe tbody tr th:only-of-type {\n",
              "        vertical-align: middle;\n",
              "    }\n",
              "\n",
              "    .dataframe tbody tr th {\n",
              "        vertical-align: top;\n",
              "    }\n",
              "\n",
              "    .dataframe thead th {\n",
              "        text-align: right;\n",
              "    }\n",
              "</style>\n",
              "<table border=\"1\" class=\"dataframe\">\n",
              "  <thead>\n",
              "    <tr style=\"text-align: right;\">\n",
              "      <th></th>\n",
              "      <th>Field</th>\n",
              "      <th>Type</th>\n",
              "      <th>Calculated</th>\n",
              "      <th>Description</th>\n",
              "      <th>Reference</th>\n",
              "    </tr>\n",
              "  </thead>\n",
              "  <tbody>\n",
              "    <tr>\n",
              "      <th>7</th>\n",
              "      <td>id</td>\n",
              "      <td>integer</td>\n",
              "      <td>NaN</td>\n",
              "      <td>Airbnb's unique identifier for the listing</td>\n",
              "      <td>NaN</td>\n",
              "    </tr>\n",
              "    <tr>\n",
              "      <th>8</th>\n",
              "      <td>name</td>\n",
              "      <td>string</td>\n",
              "      <td>NaN</td>\n",
              "      <td>NaN</td>\n",
              "      <td>NaN</td>\n",
              "    </tr>\n",
              "    <tr>\n",
              "      <th>9</th>\n",
              "      <td>host_id</td>\n",
              "      <td>integer</td>\n",
              "      <td>NaN</td>\n",
              "      <td>NaN</td>\n",
              "      <td>NaN</td>\n",
              "    </tr>\n",
              "    <tr>\n",
              "      <th>10</th>\n",
              "      <td>host_name</td>\n",
              "      <td>string</td>\n",
              "      <td>NaN</td>\n",
              "      <td>NaN</td>\n",
              "      <td>NaN</td>\n",
              "    </tr>\n",
              "    <tr>\n",
              "      <th>11</th>\n",
              "      <td>neighbourhood_group</td>\n",
              "      <td>text</td>\n",
              "      <td>y</td>\n",
              "      <td>The neighbourhood group as geocoded using the latitude and longitude against neighborhoods as de...</td>\n",
              "      <td>NaN</td>\n",
              "    </tr>\n",
              "    <tr>\n",
              "      <th>12</th>\n",
              "      <td>neighbourhood</td>\n",
              "      <td>text</td>\n",
              "      <td>y</td>\n",
              "      <td>The neighbourhood as geocoded using the latitude and longitude against neighborhoods as defined ...</td>\n",
              "      <td>NaN</td>\n",
              "    </tr>\n",
              "    <tr>\n",
              "      <th>13</th>\n",
              "      <td>latitude</td>\n",
              "      <td>numeric</td>\n",
              "      <td>NaN</td>\n",
              "      <td>Uses the World Geodetic System (WGS84) projection for latitude and longitude.</td>\n",
              "      <td>NaN</td>\n",
              "    </tr>\n",
              "    <tr>\n",
              "      <th>14</th>\n",
              "      <td>longitude</td>\n",
              "      <td>NaN</td>\n",
              "      <td>NaN</td>\n",
              "      <td>Uses the World Geodetic System (WGS84) projection for latitude and longitude.</td>\n",
              "      <td>NaN</td>\n",
              "    </tr>\n",
              "    <tr>\n",
              "      <th>15</th>\n",
              "      <td>room_type</td>\n",
              "      <td>string</td>\n",
              "      <td>NaN</td>\n",
              "      <td>NaN</td>\n",
              "      <td>NaN</td>\n",
              "    </tr>\n",
              "    <tr>\n",
              "      <th>16</th>\n",
              "      <td>price</td>\n",
              "      <td>currency</td>\n",
              "      <td>NaN</td>\n",
              "      <td>daily price in local currency. Note, $ sign may be used despite locale</td>\n",
              "      <td>NaN</td>\n",
              "    </tr>\n",
              "    <tr>\n",
              "      <th>17</th>\n",
              "      <td>minimum_nights</td>\n",
              "      <td>integer</td>\n",
              "      <td>NaN</td>\n",
              "      <td>minimum number of night stay for the listing (calendar rules may be different)</td>\n",
              "      <td>NaN</td>\n",
              "    </tr>\n",
              "    <tr>\n",
              "      <th>18</th>\n",
              "      <td>number_of_reviews</td>\n",
              "      <td>integer</td>\n",
              "      <td>NaN</td>\n",
              "      <td>The number of reviews the listing has</td>\n",
              "      <td>NaN</td>\n",
              "    </tr>\n",
              "    <tr>\n",
              "      <th>19</th>\n",
              "      <td>last_review</td>\n",
              "      <td>date</td>\n",
              "      <td>y</td>\n",
              "      <td>The date of the last/newest review</td>\n",
              "      <td>NaN</td>\n",
              "    </tr>\n",
              "    <tr>\n",
              "      <th>20</th>\n",
              "      <td>calculated_host_listings_count</td>\n",
              "      <td>integer</td>\n",
              "      <td>y</td>\n",
              "      <td>The number of listings the host has in the current scrape, in the city/region geography.</td>\n",
              "      <td>NaN</td>\n",
              "    </tr>\n",
              "    <tr>\n",
              "      <th>21</th>\n",
              "      <td>availability_365</td>\n",
              "      <td>integer</td>\n",
              "      <td>y</td>\n",
              "      <td>avaliability_x. The availability of the listing x days in the future as determined by the calend...</td>\n",
              "      <td>NaN</td>\n",
              "    </tr>\n",
              "    <tr>\n",
              "      <th>22</th>\n",
              "      <td>number_of_reviews_ltm</td>\n",
              "      <td>integer</td>\n",
              "      <td>y</td>\n",
              "      <td>The number of reviews the listing has (in the last 12 months)</td>\n",
              "      <td>NaN</td>\n",
              "    </tr>\n",
              "    <tr>\n",
              "      <th>23</th>\n",
              "      <td>license</td>\n",
              "      <td>string</td>\n",
              "      <td>NaN</td>\n",
              "      <td>NaN</td>\n",
              "      <td>NaN</td>\n",
              "    </tr>\n",
              "    <tr>\n",
              "      <th>24</th>\n",
              "      <td>NaN</td>\n",
              "      <td>NaN</td>\n",
              "      <td>NaN</td>\n",
              "      <td>NaN</td>\n",
              "      <td>NaN</td>\n",
              "    </tr>\n",
              "    <tr>\n",
              "      <th>25</th>\n",
              "      <td>Change control</td>\n",
              "      <td>NaN</td>\n",
              "      <td>NaN</td>\n",
              "      <td>NaN</td>\n",
              "      <td>NaN</td>\n",
              "    </tr>\n",
              "  </tbody>\n",
              "</table>\n",
              "</div>"
            ]
          },
          "metadata": {},
          "output_type": "display_data"
        }
      ],
      "metadata": {
        "datalore": {
          "node_id": "4FB4ValAmhtt4c6Q6aSeF3",
          "type": "CODE",
          "hide_input_from_viewers": true,
          "hide_output_from_viewers": true
        },
        "id": "-4nncYwJKlRK",
        "outputId": "69e12b63-560a-43cb-c55b-ca61686607d4"
      }
    },
    {
      "cell_type": "code",
      "source": [
        "# calendar.csv columns description\n",
        "data_dictionary_calendar = pd.read_excel('Inside Airbnb Data Dictionary.xlsx','calendar.csv v2')\n",
        "column_names = data_dictionary_calendar.iloc[6]\n",
        "data_dictionary_calendar.rename(columns = column_names, inplace = True)\n",
        "data_dictionary_calendar = data_dictionary_calendar[7:-6]\n",
        "data_dictionary_calendar"
      ],
      "execution_count": null,
      "outputs": [
        {
          "data": {
            "text/html": [
              "<div>\n",
              "<style scoped>\n",
              "    .dataframe tbody tr th:only-of-type {\n",
              "        vertical-align: middle;\n",
              "    }\n",
              "\n",
              "    .dataframe tbody tr th {\n",
              "        vertical-align: top;\n",
              "    }\n",
              "\n",
              "    .dataframe thead th {\n",
              "        text-align: right;\n",
              "    }\n",
              "</style>\n",
              "<table border=\"1\" class=\"dataframe\">\n",
              "  <thead>\n",
              "    <tr style=\"text-align: right;\">\n",
              "      <th></th>\n",
              "      <th>Field</th>\n",
              "      <th>Type</th>\n",
              "      <th>Calculated</th>\n",
              "      <th>Description</th>\n",
              "      <th>Reference</th>\n",
              "    </tr>\n",
              "  </thead>\n",
              "  <tbody>\n",
              "    <tr>\n",
              "      <th>7</th>\n",
              "      <td>listing_id</td>\n",
              "      <td>NaN</td>\n",
              "      <td>NaN</td>\n",
              "      <td>NaN</td>\n",
              "      <td>NaN</td>\n",
              "    </tr>\n",
              "    <tr>\n",
              "      <th>8</th>\n",
              "      <td>date</td>\n",
              "      <td>datetime</td>\n",
              "      <td>NaN</td>\n",
              "      <td>The date in the listing's calendar</td>\n",
              "      <td>NaN</td>\n",
              "    </tr>\n",
              "    <tr>\n",
              "      <th>9</th>\n",
              "      <td>available</td>\n",
              "      <td>boolean</td>\n",
              "      <td>NaN</td>\n",
              "      <td>Whether the date is available for a booking</td>\n",
              "      <td>NaN</td>\n",
              "    </tr>\n",
              "    <tr>\n",
              "      <th>10</th>\n",
              "      <td>price</td>\n",
              "      <td>currency</td>\n",
              "      <td>NaN</td>\n",
              "      <td>The price listed for the day</td>\n",
              "      <td>NaN</td>\n",
              "    </tr>\n",
              "    <tr>\n",
              "      <th>11</th>\n",
              "      <td>adjusted_price</td>\n",
              "      <td>NaN</td>\n",
              "      <td>NaN</td>\n",
              "      <td>NaN</td>\n",
              "      <td>NaN</td>\n",
              "    </tr>\n",
              "    <tr>\n",
              "      <th>12</th>\n",
              "      <td>minimum_nights</td>\n",
              "      <td>integer</td>\n",
              "      <td>NaN</td>\n",
              "      <td>Minimum nights for a booking made on this day</td>\n",
              "      <td>NaN</td>\n",
              "    </tr>\n",
              "    <tr>\n",
              "      <th>13</th>\n",
              "      <td>maximum_nights</td>\n",
              "      <td>integer</td>\n",
              "      <td>NaN</td>\n",
              "      <td>Maximum nights for a booking made on this day</td>\n",
              "      <td>NaN</td>\n",
              "    </tr>\n",
              "  </tbody>\n",
              "</table>\n",
              "</div>"
            ]
          },
          "metadata": {},
          "output_type": "display_data"
        }
      ],
      "metadata": {
        "datalore": {
          "node_id": "mQ4qRFM6T5nVswreqBNo32",
          "type": "CODE",
          "hide_input_from_viewers": true,
          "hide_output_from_viewers": true
        },
        "id": "x7AMp1gKKlRK",
        "outputId": "52cd22b7-7d8f-48cd-82c4-6bbbb4b48f5f"
      }
    },
    {
      "cell_type": "markdown",
      "source": [
        "## b. Loading the dataset"
      ],
      "metadata": {
        "datalore": {
          "node_id": "AL3fPOADDSRYdHu9h6fcdG",
          "type": "MD",
          "hide_input_from_viewers": true,
          "hide_output_from_viewers": true
        },
        "id": "yFbadYK9KlRK"
      }
    },
    {
      "cell_type": "code",
      "source": [
        "data_files = [\"Van_neighbourhoods.csv\", \"Van_Sum_listings.csv\", \"Van_Sum_reviews.csv\", \"Van_listings.csv\", \"Van_reviews.csv\", \"Van_calendar.csv\",\"Vic_neighbourhoods.csv\",\"Vic_Sum_listings.csv\", \"Vic_Sum_reviews.csv\",\"Vic_listings.csv\",\"Vic_reviews.csv\",\"Vic_calendar.csv\"]\n",
        "\n",
        "# Dictionary to store dataframes\n",
        "data = {}\n",
        "\n",
        "for file in data_files:\n",
        "    d = pd.read_csv(file)\n",
        "    key = file.replace(\".csv\", \"\")\n",
        "    data[key] = d\n",
        "    print(\"Size of\", file, data[key].shape)"
      ],
      "execution_count": null,
      "outputs": [
        {
          "name": "stdout",
          "text": [
            "Size of Van_neighbourhoods.csv (23, 2)\n",
            "Size of Van_Sum_listings.csv (6695, 18)\n",
            "Size of Van_Sum_reviews.csv (269888, 2)\n",
            "Size of Van_listings.csv (6695, 75)\n",
            "Size of Van_reviews.csv (269888, 6)\n",
            "Size of Van_calendar.csv (2443675, 7)\n",
            "Size of Vic_neighbourhoods.csv (29, 2)\n",
            "Size of Vic_Sum_listings.csv (4735, 18)\n",
            "Size of Vic_Sum_reviews.csv (291392, 2)\n",
            "Size of Vic_listings.csv (4735, 75)\n",
            "Size of Vic_reviews.csv (291392, 6)\n",
            "Size of Vic_calendar.csv (1728275, 7)\n"
          ],
          "output_type": "stream"
        }
      ],
      "metadata": {
        "datalore": {
          "node_id": "QBzaYo2JbRweOTpi3zD5JO",
          "type": "CODE",
          "hide_input_from_viewers": true,
          "hide_output_from_viewers": true
        },
        "id": "2jnKYQssKlRK",
        "outputId": "f3476405-e791-4599-ca00-dfed2f45f69c"
      }
    },
    {
      "cell_type": "markdown",
      "source": [
        "## c. Calculate the distance of a listing to the center of the city"
      ],
      "metadata": {
        "datalore": {
          "node_id": "KZILs7xbJTZyeaDCvAQGQ4",
          "type": "MD",
          "hide_input_from_viewers": true,
          "hide_output_from_viewers": true
        },
        "id": "UTH5KSlHKlRK"
      }
    },
    {
      "cell_type": "markdown",
      "source": [
        "Distance of a listing to the center of the city. Add column distance_from_center.  \n",
        "It's faster to add it here than later in our master dataset."
      ],
      "metadata": {
        "datalore": {
          "node_id": "oSKRS8wRqwDQOL2oDub9PZ",
          "type": "MD",
          "hide_input_from_viewers": true,
          "hide_output_from_viewers": true
        },
        "id": "iPR5SErzKlRK"
      }
    },
    {
      "cell_type": "code",
      "source": [
        "import geopy.distance\n",
        "\n",
        "# Distance of a listing to the center of the city\n",
        "# Latitude and Longitude of center of downtown in Vancouver (Burrard @ Robson), taken from Google Maps\n",
        "Van_center = (49.283308, -123.1253938)\n",
        "# Latitude and Longitude of center of downtown in Victoria (Fairmont), taken from Google Maps\n",
        "Vic_center = (48.421755, -123.368611)\n",
        "\n",
        "# Function to calculate distance from center for each listing\n",
        "def calc_distance(center, row):\n",
        "    return geopy.distance.geodesic(center, (row['latitude'], row['longitude'])).km\n",
        "\n",
        "# Calculate distance for Vancouver listings\n",
        "data['Van_listings']['calc_dist_from_center'] = data['Van_listings'].apply(lambda row: calc_distance(Van_center, row), axis=1)\n",
        "\n",
        "# Calculate distance for Victoria listings\n",
        "data['Vic_listings']['calc_dist_from_center'] = data['Vic_listings'].apply(lambda row: calc_distance(Vic_center, row), axis=1)\n",
        "\n",
        "# Display the first few rows of the updated dataframes\n",
        "print(\"Vancouver Listings:\")\n",
        "data['Van_listings'][['id','calc_dist_from_center']].head()\n",
        "\n",
        "#print(\"\\nVictoria Listings:\")\n",
        "#data['Vic_listings'].head()"
      ],
      "execution_count": null,
      "outputs": [
        {
          "name": "stdout",
          "text": [
            "Vancouver Listings:\n"
          ],
          "output_type": "stream"
        },
        {
          "data": {
            "text/html": [
              "<div>\n",
              "<style scoped>\n",
              "    .dataframe tbody tr th:only-of-type {\n",
              "        vertical-align: middle;\n",
              "    }\n",
              "\n",
              "    .dataframe tbody tr th {\n",
              "        vertical-align: top;\n",
              "    }\n",
              "\n",
              "    .dataframe thead th {\n",
              "        text-align: right;\n",
              "    }\n",
              "</style>\n",
              "<table border=\"1\" class=\"dataframe\">\n",
              "  <thead>\n",
              "    <tr style=\"text-align: right;\">\n",
              "      <th></th>\n",
              "      <th>id</th>\n",
              "      <th>calc_dist_from_center</th>\n",
              "    </tr>\n",
              "  </thead>\n",
              "  <tbody>\n",
              "    <tr>\n",
              "      <th>0</th>\n",
              "      <td>13188</td>\n",
              "      <td>4.223747</td>\n",
              "    </tr>\n",
              "    <tr>\n",
              "      <th>1</th>\n",
              "      <td>13358</td>\n",
              "      <td>0.172432</td>\n",
              "    </tr>\n",
              "    <tr>\n",
              "      <th>2</th>\n",
              "      <td>13490</td>\n",
              "      <td>5.264514</td>\n",
              "    </tr>\n",
              "    <tr>\n",
              "      <th>3</th>\n",
              "      <td>14267</td>\n",
              "      <td>4.962790</td>\n",
              "    </tr>\n",
              "    <tr>\n",
              "      <th>4</th>\n",
              "      <td>14424</td>\n",
              "      <td>2.733528</td>\n",
              "    </tr>\n",
              "  </tbody>\n",
              "</table>\n",
              "</div>"
            ]
          },
          "metadata": {},
          "output_type": "display_data"
        }
      ],
      "metadata": {
        "datalore": {
          "node_id": "0xauKtyClsQ0kH44jrRtfd",
          "type": "CODE",
          "hide_input_from_viewers": true,
          "hide_output_from_viewers": true
        },
        "id": "DRFnWP81KlRK",
        "outputId": "235ba9da-9b1f-4b9b-994b-64b7b131bb82"
      }
    },
    {
      "cell_type": "code",
      "source": [
        "print(\"Victoria Listings: \")\n",
        "data['Vic_listings'][['id','calc_dist_from_center']].head()"
      ],
      "execution_count": null,
      "outputs": [
        {
          "name": "stdout",
          "text": [
            "Victoria Listings: \n"
          ],
          "output_type": "stream"
        },
        {
          "data": {
            "text/html": [
              "<div>\n",
              "<style scoped>\n",
              "    .dataframe tbody tr th:only-of-type {\n",
              "        vertical-align: middle;\n",
              "    }\n",
              "\n",
              "    .dataframe tbody tr th {\n",
              "        vertical-align: top;\n",
              "    }\n",
              "\n",
              "    .dataframe thead th {\n",
              "        text-align: right;\n",
              "    }\n",
              "</style>\n",
              "<table border=\"1\" class=\"dataframe\">\n",
              "  <thead>\n",
              "    <tr style=\"text-align: right;\">\n",
              "      <th></th>\n",
              "      <th>id</th>\n",
              "      <th>calc_dist_from_center</th>\n",
              "    </tr>\n",
              "  </thead>\n",
              "  <tbody>\n",
              "    <tr>\n",
              "      <th>0</th>\n",
              "      <td>1591</td>\n",
              "      <td>2.230907</td>\n",
              "    </tr>\n",
              "    <tr>\n",
              "      <th>1</th>\n",
              "      <td>19898</td>\n",
              "      <td>2.167724</td>\n",
              "    </tr>\n",
              "    <tr>\n",
              "      <th>2</th>\n",
              "      <td>41168</td>\n",
              "      <td>0.948927</td>\n",
              "    </tr>\n",
              "    <tr>\n",
              "      <th>3</th>\n",
              "      <td>83515</td>\n",
              "      <td>49.928223</td>\n",
              "    </tr>\n",
              "    <tr>\n",
              "      <th>4</th>\n",
              "      <td>116831</td>\n",
              "      <td>0.755883</td>\n",
              "    </tr>\n",
              "  </tbody>\n",
              "</table>\n",
              "</div>"
            ]
          },
          "metadata": {},
          "output_type": "display_data"
        }
      ],
      "metadata": {
        "datalore": {
          "node_id": "RqtNV7txMfhGUbfIOtSl4b",
          "type": "CODE",
          "hide_input_from_viewers": true,
          "hide_output_from_viewers": true
        },
        "id": "h_auIK7bKlRL",
        "outputId": "a4635570-c148-4cf9-d10b-681773b33394"
      }
    },
    {
      "cell_type": "markdown",
      "source": [
        "## d. Basic check before combining 2 cities"
      ],
      "metadata": {
        "datalore": {
          "node_id": "DzBINsnMvGaaY5vHOH2w6x",
          "type": "MD",
          "hide_input_from_viewers": true,
          "hide_output_from_viewers": true
        },
        "id": "OanWXmgPKlRL"
      }
    },
    {
      "cell_type": "markdown",
      "source": [
        "Before combining the files of the 2 cities, verify that the listing ID is unique across cities."
      ],
      "metadata": {
        "datalore": {
          "node_id": "MkTuYxK4IOqtm2zEopm2uW",
          "type": "MD",
          "hide_input_from_viewers": true,
          "hide_output_from_viewers": true
        },
        "id": "N_2oONwTKlRL"
      }
    },
    {
      "cell_type": "code",
      "source": [
        "# Merging listings dataframes\n",
        "df_merged_listings = pd.merge(data['Vic_listings'], data['Van_listings'], on='id', how='inner', indicator=True)\n",
        "print('Listings: Number of listing_id for Van also in Vic', df_merged_listings.shape[0])\n",
        "print('We expect 0')\n",
        "\n",
        "# Merging reviews dataframes\n",
        "df_merged_reviews = pd.merge(data['Vic_reviews'], data['Van_reviews'], on='listing_id', how='inner', indicator=True)\n",
        "print('Reviews: Number of listing_id for Van also in Vic', df_merged_reviews.shape[0])\n",
        "print('We expect 0')\n",
        "\n",
        "# Merging calendar dataframes\n",
        "df_merged_calendar = pd.merge(data['Vic_calendar'], data['Van_calendar'], on='listing_id', how='inner', indicator=True)\n",
        "print('Calendar: Number of listing_id for Van also in Vic', df_merged_calendar.shape[0])\n",
        "print('We expect 0')"
      ],
      "execution_count": null,
      "outputs": [
        {
          "name": "stdout",
          "text": [
            "Listings: Number of listing_id for Van also in Vic 0\n",
            "We expect 0\n",
            "Reviews: Number of listing_id for Van also in Vic 0\n",
            "We expect 0\n",
            "Calendar: Number of listing_id for Van also in Vic 0\n",
            "We expect 0\n"
          ],
          "output_type": "stream"
        }
      ],
      "metadata": {
        "datalore": {
          "node_id": "tqy35mAUhGlkC1BDoTsP6k",
          "type": "CODE",
          "hide_input_from_viewers": true,
          "hide_output_from_viewers": true
        },
        "id": "ibnlv5gRKlRL",
        "outputId": "fe67a841-739c-4556-e2e3-fed5df63e2cd"
      }
    },
    {
      "cell_type": "markdown",
      "source": [
        "## e. Creating New Column \"City\""
      ],
      "metadata": {
        "datalore": {
          "node_id": "sUGuys1O0KL4edrxa96AMa",
          "type": "MD",
          "hide_input_from_viewers": true,
          "hide_output_from_viewers": true
        },
        "id": "ciZeU1ncKlRL"
      }
    },
    {
      "cell_type": "markdown",
      "source": [
        "**Added a new column 'City' to each Vancouver DataFrame and assigned the value 'Vancouver'**"
      ],
      "metadata": {
        "datalore": {
          "node_id": "kK1qVTsufMRmhmiYzehskl",
          "type": "MD",
          "hide_input_from_viewers": true,
          "hide_output_from_viewers": true
        },
        "id": "C1dkjkXdKlRL"
      }
    },
    {
      "cell_type": "code",
      "source": [
        "vancouver_dfs = [data['Van_neighbourhoods'], data['Van_Sum_listings'], data['Van_Sum_reviews'], data['Van_listings'], data['Van_reviews'], data['Van_calendar']]\n",
        "\n",
        "for df in vancouver_dfs:\n",
        "    df['City'] = 'Vancouver'"
      ],
      "execution_count": null,
      "outputs": [],
      "metadata": {
        "datalore": {
          "node_id": "QYhA6OQ1D6xAwygpYCarC9",
          "type": "CODE",
          "hide_input_from_viewers": true,
          "hide_output_from_viewers": true
        },
        "id": "A5CR5owtKlRL"
      }
    },
    {
      "cell_type": "markdown",
      "source": [
        "**Added a new column 'City' to each Victoria DataFrame and assigned the value 'Victoria'**"
      ],
      "metadata": {
        "datalore": {
          "node_id": "qjWWv9eVNPqYblxd1KXQef",
          "type": "MD",
          "hide_input_from_viewers": true,
          "hide_output_from_viewers": true
        },
        "id": "IsWtkU6NKlRL"
      }
    },
    {
      "cell_type": "code",
      "source": [
        "victoria_dfs = [data['Vic_neighbourhoods'], data['Vic_Sum_listings'], data['Vic_Sum_reviews'], data['Vic_listings'], data['Vic_reviews'], data['Vic_calendar']]\n",
        "\n",
        "for df in victoria_dfs:\n",
        "    df['City'] = 'Victoria'\n"
      ],
      "execution_count": null,
      "outputs": [],
      "metadata": {
        "datalore": {
          "node_id": "k8gtHapcizgyaYfciUmFJD",
          "type": "CODE",
          "hide_input_from_viewers": true,
          "hide_output_from_viewers": true
        },
        "id": "PzF4LgcOKlRL"
      }
    },
    {
      "cell_type": "markdown",
      "source": [
        "## f. Concatenate the 2 cities in one file"
      ],
      "metadata": {
        "datalore": {
          "node_id": "BD4xV7iSEcHhqb0cLhsFev",
          "type": "MD",
          "hide_input_from_viewers": true,
          "hide_output_from_viewers": true
        },
        "id": "FQdevlW5KlRL"
      }
    },
    {
      "cell_type": "code",
      "source": [
        "df_neighbourhoods = pd.concat([data['Van_neighbourhoods'], data['Vic_neighbourhoods']], ignore_index=True)\n",
        "df_sum_listings = pd.concat([data['Van_Sum_listings'], data['Vic_Sum_listings']], ignore_index=True)\n",
        "df_sum_reviews = pd.concat([data['Van_Sum_reviews'], data['Vic_Sum_reviews']], ignore_index=True)\n",
        "df_listings = pd.concat([data['Van_listings'], data['Vic_listings']], ignore_index=True)\n",
        "df_reviews = pd.concat([data['Van_reviews'], data['Vic_reviews']], ignore_index=True)\n",
        "df_calendar = pd.concat([data['Van_calendar'], data['Vic_calendar']], ignore_index=True)"
      ],
      "execution_count": null,
      "outputs": [],
      "metadata": {
        "datalore": {
          "node_id": "8Er395pg2aiPdz3jt9bCGj",
          "type": "CODE",
          "hide_input_from_viewers": true,
          "hide_output_from_viewers": true
        },
        "id": "5Ejzo-NLKlRM"
      }
    },
    {
      "cell_type": "code",
      "source": [
        "print(\"Size of df_neighbourhoods:\", df_neighbourhoods.shape)\n",
        "print(\"Size of df_sum_listings:\", df_sum_listings.shape)\n",
        "print(\"Size of df_sum_reviews:\", df_sum_reviews.shape)\n",
        "print(\"Size of df_listings:\", df_listings.shape)\n",
        "print(\"Size of df_reviews:\", df_reviews.shape)\n",
        "print(\"Size of df_calendar:\", df_calendar.shape)"
      ],
      "execution_count": null,
      "outputs": [
        {
          "name": "stdout",
          "text": [
            "Size of df_neighbourhoods: (52, 3)\n",
            "Size of df_sum_listings: (11430, 19)\n",
            "Size of df_sum_reviews: (561280, 3)\n",
            "Size of df_listings: (11430, 77)\n",
            "Size of df_reviews: (561280, 7)\n",
            "Size of df_calendar: (4171950, 8)\n"
          ],
          "output_type": "stream"
        }
      ],
      "metadata": {
        "datalore": {
          "node_id": "rX7yIWq6nkyd9o8xrL1JK5",
          "type": "CODE",
          "hide_input_from_viewers": false,
          "hide_output_from_viewers": false,
          "report_properties": {
            "rowId": "cVR9cy0ZiJyoKOMawyPoYh",
            "x": 0,
            "relativeY": 0,
            "width": 1,
            "height": 9,
            "splitHeight": 2,
            "isDynamicHeight": false
          }
        },
        "id": "NH5kVZ2OKlRM",
        "outputId": "d48dbbf9-83aa-474d-9502-2b653af05255"
      }
    },
    {
      "cell_type": "markdown",
      "source": [
        "## g. Dropping some of the initial columns"
      ],
      "metadata": {
        "datalore": {
          "node_id": "itHxouoWYUai9zAkrl2S9b",
          "type": "MD",
          "hide_input_from_viewers": true,
          "hide_output_from_viewers": true
        },
        "id": "4Ri1CWMcKlRM"
      }
    },
    {
      "cell_type": "code",
      "source": [
        "print(f\"The dataset contains {len(df_listings)} Airbnb listings\")\n",
        "df_listings.head(3)\n"
      ],
      "execution_count": null,
      "outputs": [
        {
          "name": "stdout",
          "text": [
            "The dataset contains 11430 Airbnb listings\n"
          ],
          "output_type": "stream"
        },
        {
          "data": {
            "text/html": [
              "<div>\n",
              "<style scoped>\n",
              "    .dataframe tbody tr th:only-of-type {\n",
              "        vertical-align: middle;\n",
              "    }\n",
              "\n",
              "    .dataframe tbody tr th {\n",
              "        vertical-align: top;\n",
              "    }\n",
              "\n",
              "    .dataframe thead th {\n",
              "        text-align: right;\n",
              "    }\n",
              "</style>\n",
              "<table border=\"1\" class=\"dataframe\">\n",
              "  <thead>\n",
              "    <tr style=\"text-align: right;\">\n",
              "      <th></th>\n",
              "      <th>id</th>\n",
              "      <th>listing_url</th>\n",
              "      <th>scrape_id</th>\n",
              "      <th>last_scraped</th>\n",
              "      <th>source</th>\n",
              "      <th>name</th>\n",
              "      <th>description</th>\n",
              "      <th>neighborhood_overview</th>\n",
              "      <th>picture_url</th>\n",
              "      <th>host_id</th>\n",
              "      <th>host_url</th>\n",
              "      <th>host_name</th>\n",
              "      <th>host_since</th>\n",
              "      <th>host_location</th>\n",
              "      <th>host_about</th>\n",
              "      <th>host_response_time</th>\n",
              "      <th>host_response_rate</th>\n",
              "      <th>host_acceptance_rate</th>\n",
              "      <th>host_is_superhost</th>\n",
              "      <th>host_thumbnail_url</th>\n",
              "      <th>host_picture_url</th>\n",
              "      <th>host_neighbourhood</th>\n",
              "      <th>host_listings_count</th>\n",
              "      <th>host_total_listings_count</th>\n",
              "      <th>host_verifications</th>\n",
              "      <th>host_has_profile_pic</th>\n",
              "      <th>host_identity_verified</th>\n",
              "      <th>neighbourhood</th>\n",
              "      <th>neighbourhood_cleansed</th>\n",
              "      <th>neighbourhood_group_cleansed</th>\n",
              "      <th>latitude</th>\n",
              "      <th>longitude</th>\n",
              "      <th>property_type</th>\n",
              "      <th>room_type</th>\n",
              "      <th>accommodates</th>\n",
              "      <th>bathrooms</th>\n",
              "      <th>bathrooms_text</th>\n",
              "      <th>bedrooms</th>\n",
              "      <th>beds</th>\n",
              "      <th>amenities</th>\n",
              "      <th>price</th>\n",
              "      <th>minimum_nights</th>\n",
              "      <th>maximum_nights</th>\n",
              "      <th>minimum_minimum_nights</th>\n",
              "      <th>maximum_minimum_nights</th>\n",
              "      <th>minimum_maximum_nights</th>\n",
              "      <th>maximum_maximum_nights</th>\n",
              "      <th>minimum_nights_avg_ntm</th>\n",
              "      <th>maximum_nights_avg_ntm</th>\n",
              "      <th>calendar_updated</th>\n",
              "      <th>has_availability</th>\n",
              "      <th>availability_30</th>\n",
              "      <th>availability_60</th>\n",
              "      <th>availability_90</th>\n",
              "      <th>availability_365</th>\n",
              "      <th>calendar_last_scraped</th>\n",
              "      <th>number_of_reviews</th>\n",
              "      <th>number_of_reviews_ltm</th>\n",
              "      <th>number_of_reviews_l30d</th>\n",
              "      <th>first_review</th>\n",
              "      <th>last_review</th>\n",
              "      <th>review_scores_rating</th>\n",
              "      <th>review_scores_accuracy</th>\n",
              "      <th>review_scores_cleanliness</th>\n",
              "      <th>review_scores_checkin</th>\n",
              "      <th>review_scores_communication</th>\n",
              "      <th>review_scores_location</th>\n",
              "      <th>review_scores_value</th>\n",
              "      <th>license</th>\n",
              "      <th>instant_bookable</th>\n",
              "      <th>calculated_host_listings_count</th>\n",
              "      <th>calculated_host_listings_count_entire_homes</th>\n",
              "      <th>calculated_host_listings_count_private_rooms</th>\n",
              "      <th>calculated_host_listings_count_shared_rooms</th>\n",
              "      <th>reviews_per_month</th>\n",
              "      <th>calc_dist_from_center</th>\n",
              "      <th>City</th>\n",
              "    </tr>\n",
              "  </thead>\n",
              "  <tbody>\n",
              "    <tr>\n",
              "      <th>0</th>\n",
              "      <td>13188</td>\n",
              "      <td>https://www.airbnb.com/rooms/13188</td>\n",
              "      <td>20230906022824</td>\n",
              "      <td>2023-09-06</td>\n",
              "      <td>city scrape</td>\n",
              "      <td>Rental unit in Vancouver · ★4.83 · Studio · 2 beds · 1 bath</td>\n",
              "      <td>Garden level studio suite with garden patio - in a trendy and very central area of Vancouver. Lo...</td>\n",
              "      <td>The uber hip Main street area is a short walk of 6 minutes to the east.  Dozens of dining option...</td>\n",
              "      <td>https://a0.muscache.com/pictures/8408188/e1af63e4_original.jpg</td>\n",
              "      <td>51466</td>\n",
              "      <td>https://www.airbnb.com/users/show/51466</td>\n",
              "      <td>Ian And Emma</td>\n",
              "      <td>2009-11-04</td>\n",
              "      <td>Vancouver, Canada</td>\n",
              "      <td>We are a family who love to travel in comfort and enjoy the ethos and community spirit of AirBNB...</td>\n",
              "      <td>within an hour</td>\n",
              "      <td>100%</td>\n",
              "      <td>100%</td>\n",
              "      <td>t</td>\n",
              "      <td>https://a0.muscache.com/im/pictures/user/0b83b6f7-98b7-4a0e-943f-d28ee8ba6841.jpg?aki_policy=pro...</td>\n",
              "      <td>https://a0.muscache.com/im/pictures/user/0b83b6f7-98b7-4a0e-943f-d28ee8ba6841.jpg?aki_policy=pro...</td>\n",
              "      <td>Riley Park</td>\n",
              "      <td>2</td>\n",
              "      <td>3</td>\n",
              "      <td>['email', 'phone']</td>\n",
              "      <td>t</td>\n",
              "      <td>t</td>\n",
              "      <td>Vancouver, British Columbia, Canada</td>\n",
              "      <td>Riley Park</td>\n",
              "      <td>NaN</td>\n",
              "      <td>49.24773</td>\n",
              "      <td>-123.10509</td>\n",
              "      <td>Entire rental unit</td>\n",
              "      <td>Entire home/apt</td>\n",
              "      <td>4</td>\n",
              "      <td>NaN</td>\n",
              "      <td>1 bath</td>\n",
              "      <td>NaN</td>\n",
              "      <td>2.0</td>\n",
              "      <td>[\"Carbon monoxide alarm\", \"Dryer\", \"Body soap\", \"Microwave\", \"Pack \\u2019n play/Travel crib\", \"I...</td>\n",
              "      <td>$151.00</td>\n",
              "      <td>2</td>\n",
              "      <td>180</td>\n",
              "      <td>2</td>\n",
              "      <td>2</td>\n",
              "      <td>180</td>\n",
              "      <td>180</td>\n",
              "      <td>2.0</td>\n",
              "      <td>180.0</td>\n",
              "      <td>NaN</td>\n",
              "      <td>t</td>\n",
              "      <td>4</td>\n",
              "      <td>11</td>\n",
              "      <td>39</td>\n",
              "      <td>299</td>\n",
              "      <td>2023-09-06</td>\n",
              "      <td>277</td>\n",
              "      <td>21</td>\n",
              "      <td>7</td>\n",
              "      <td>2010-02-21</td>\n",
              "      <td>2023-09-03</td>\n",
              "      <td>4.83</td>\n",
              "      <td>4.87</td>\n",
              "      <td>4.84</td>\n",
              "      <td>4.86</td>\n",
              "      <td>4.92</td>\n",
              "      <td>4.88</td>\n",
              "      <td>4.80</td>\n",
              "      <td>23-156488</td>\n",
              "      <td>f</td>\n",
              "      <td>2</td>\n",
              "      <td>2</td>\n",
              "      <td>0</td>\n",
              "      <td>0</td>\n",
              "      <td>1.68</td>\n",
              "      <td>4.223747</td>\n",
              "      <td>Vancouver</td>\n",
              "    </tr>\n",
              "    <tr>\n",
              "      <th>1</th>\n",
              "      <td>13358</td>\n",
              "      <td>https://www.airbnb.com/rooms/13358</td>\n",
              "      <td>20230906022824</td>\n",
              "      <td>2023-09-06</td>\n",
              "      <td>city scrape</td>\n",
              "      <td>Condo in Vancouver · ★4.68 · 1 bedroom · 1 bed · 1 bath</td>\n",
              "      <td>&lt;b&gt;The space&lt;/b&gt;&lt;br /&gt;This suites central location puts you within walking distance of everythin...</td>\n",
              "      <td>NaN</td>\n",
              "      <td>https://a0.muscache.com/pictures/40034c18-0837-463e-a1d5-159e38469caf.jpg</td>\n",
              "      <td>52116</td>\n",
              "      <td>https://www.airbnb.com/users/show/52116</td>\n",
              "      <td>Lynn</td>\n",
              "      <td>2009-11-07</td>\n",
              "      <td>Vancouver, Canada</td>\n",
              "      <td>I am from Vancouver and in my free time enjoy Yoga, exploring the neighborhoods of my hometown ,...</td>\n",
              "      <td>within an hour</td>\n",
              "      <td>100%</td>\n",
              "      <td>98%</td>\n",
              "      <td>f</td>\n",
              "      <td>https://a0.muscache.com/im/pictures/user/User-52116/original/3b3926e6-d258-4843-ad8c-13128453f1a...</td>\n",
              "      <td>https://a0.muscache.com/im/pictures/user/User-52116/original/3b3926e6-d258-4843-ad8c-13128453f1a...</td>\n",
              "      <td>Downtown Vancouver</td>\n",
              "      <td>1</td>\n",
              "      <td>1</td>\n",
              "      <td>['email', 'phone']</td>\n",
              "      <td>t</td>\n",
              "      <td>t</td>\n",
              "      <td>NaN</td>\n",
              "      <td>West End</td>\n",
              "      <td>NaN</td>\n",
              "      <td>49.28201</td>\n",
              "      <td>-123.12669</td>\n",
              "      <td>Entire condo</td>\n",
              "      <td>Entire home/apt</td>\n",
              "      <td>2</td>\n",
              "      <td>NaN</td>\n",
              "      <td>1 bath</td>\n",
              "      <td>1.0</td>\n",
              "      <td>1.0</td>\n",
              "      <td>[\"Shower gel\", \"Carbon monoxide alarm\", \"Body soap\", \"Microwave\", \"Iron\", \"Shampoo\", \"Baking she...</td>\n",
              "      <td>$215.00</td>\n",
              "      <td>1</td>\n",
              "      <td>90</td>\n",
              "      <td>1</td>\n",
              "      <td>1</td>\n",
              "      <td>90</td>\n",
              "      <td>90</td>\n",
              "      <td>1.0</td>\n",
              "      <td>90.0</td>\n",
              "      <td>NaN</td>\n",
              "      <td>t</td>\n",
              "      <td>4</td>\n",
              "      <td>9</td>\n",
              "      <td>21</td>\n",
              "      <td>108</td>\n",
              "      <td>2023-09-06</td>\n",
              "      <td>476</td>\n",
              "      <td>39</td>\n",
              "      <td>4</td>\n",
              "      <td>2010-06-22</td>\n",
              "      <td>2023-08-20</td>\n",
              "      <td>4.68</td>\n",
              "      <td>4.75</td>\n",
              "      <td>4.81</td>\n",
              "      <td>4.83</td>\n",
              "      <td>4.79</td>\n",
              "      <td>4.92</td>\n",
              "      <td>4.65</td>\n",
              "      <td>22-311727</td>\n",
              "      <td>f</td>\n",
              "      <td>1</td>\n",
              "      <td>1</td>\n",
              "      <td>0</td>\n",
              "      <td>0</td>\n",
              "      <td>2.96</td>\n",
              "      <td>0.172432</td>\n",
              "      <td>Vancouver</td>\n",
              "    </tr>\n",
              "    <tr>\n",
              "      <th>2</th>\n",
              "      <td>13490</td>\n",
              "      <td>https://www.airbnb.com/rooms/13490</td>\n",
              "      <td>20230906022824</td>\n",
              "      <td>2023-09-06</td>\n",
              "      <td>city scrape</td>\n",
              "      <td>Rental unit in Vancouver · ★4.92 · 1 bedroom · 1 bed · 1 bath</td>\n",
              "      <td>This apartment rents for one month blocks of time. This is due to new Vancouver city regulations...</td>\n",
              "      <td>In the heart of Vancouver, this apartment has it all. Brand new fully equipped chef's kitchen, g...</td>\n",
              "      <td>https://a0.muscache.com/pictures/73394727/79d52046_original.jpg</td>\n",
              "      <td>52467</td>\n",
              "      <td>https://www.airbnb.com/users/show/52467</td>\n",
              "      <td>Iris</td>\n",
              "      <td>2009-11-08</td>\n",
              "      <td>Vancouver, Canada</td>\n",
              "      <td>Hello! My husband Fred and I are actors living in central Vancouver.  We pride ourselves on host...</td>\n",
              "      <td>within an hour</td>\n",
              "      <td>100%</td>\n",
              "      <td>96%</td>\n",
              "      <td>t</td>\n",
              "      <td>https://a0.muscache.com/im/users/52467/profile_pic/1339477858/original.jpg?aki_policy=profile_small</td>\n",
              "      <td>https://a0.muscache.com/im/users/52467/profile_pic/1339477858/original.jpg?aki_policy=profile_x_...</td>\n",
              "      <td>Kensington-Cedar Cottage</td>\n",
              "      <td>3</td>\n",
              "      <td>4</td>\n",
              "      <td>['email', 'phone']</td>\n",
              "      <td>t</td>\n",
              "      <td>t</td>\n",
              "      <td>Vancouver, British Columbia, Canada</td>\n",
              "      <td>Kensington-Cedar Cottage</td>\n",
              "      <td>NaN</td>\n",
              "      <td>49.25622</td>\n",
              "      <td>-123.06607</td>\n",
              "      <td>Entire rental unit</td>\n",
              "      <td>Entire home/apt</td>\n",
              "      <td>2</td>\n",
              "      <td>NaN</td>\n",
              "      <td>1 bath</td>\n",
              "      <td>1.0</td>\n",
              "      <td>1.0</td>\n",
              "      <td>[\"Shower gel\", \"Carbon monoxide alarm\", \"Lake view\", \"Dryer\", \"Indoor fireplace: electric\", \"Cen...</td>\n",
              "      <td>$150.00</td>\n",
              "      <td>30</td>\n",
              "      <td>180</td>\n",
              "      <td>30</td>\n",
              "      <td>30</td>\n",
              "      <td>180</td>\n",
              "      <td>180</td>\n",
              "      <td>30.0</td>\n",
              "      <td>180.0</td>\n",
              "      <td>NaN</td>\n",
              "      <td>t</td>\n",
              "      <td>9</td>\n",
              "      <td>9</td>\n",
              "      <td>9</td>\n",
              "      <td>40</td>\n",
              "      <td>2023-09-06</td>\n",
              "      <td>99</td>\n",
              "      <td>5</td>\n",
              "      <td>0</td>\n",
              "      <td>2011-06-02</td>\n",
              "      <td>2023-08-03</td>\n",
              "      <td>4.92</td>\n",
              "      <td>4.93</td>\n",
              "      <td>4.96</td>\n",
              "      <td>4.96</td>\n",
              "      <td>4.97</td>\n",
              "      <td>4.79</td>\n",
              "      <td>4.89</td>\n",
              "      <td>NaN</td>\n",
              "      <td>f</td>\n",
              "      <td>1</td>\n",
              "      <td>1</td>\n",
              "      <td>0</td>\n",
              "      <td>0</td>\n",
              "      <td>0.66</td>\n",
              "      <td>5.264514</td>\n",
              "      <td>Vancouver</td>\n",
              "    </tr>\n",
              "  </tbody>\n",
              "</table>\n",
              "</div>"
            ]
          },
          "metadata": {},
          "output_type": "display_data"
        }
      ],
      "metadata": {
        "datalore": {
          "node_id": "WgKQNZcW8NIV1YSJtiMMiZ",
          "type": "CODE",
          "hide_input_from_viewers": true,
          "hide_output_from_viewers": true
        },
        "id": "KAIOKs_TKlRM",
        "outputId": "7ab48eca-a765-4be1-c4fe-2f803405c536"
      }
    },
    {
      "cell_type": "markdown",
      "source": [
        "Let's remove the columns which add no value to our analysis. For simplification we will not keep all the versions of one information but keep only one. Example we will keep availability_365 and drop the other availability columns.  \n",
        "\n",
        "'listing_url', 'scrape_id', 'last_scraped', 'source', 'name', 'description', 'neighborhood_overview', 'picture_url','host_url', 'host_name','host_thumbnail_url', 'host_picture_url','host_has_profile_pic','license'\n",
        "\n",
        "details of rating , min and max nights"
      ],
      "metadata": {
        "datalore": {
          "node_id": "VgLSbzeOIL4Ve63Ip2HACp",
          "type": "MD",
          "hide_input_from_viewers": true,
          "hide_output_from_viewers": true
        },
        "id": "HKjC8u2yKlRM"
      }
    },
    {
      "cell_type": "code",
      "source": [
        "df_listings.columns"
      ],
      "execution_count": null,
      "outputs": [
        {
          "data": {
            "text/plain": [
              "Index(['id', 'listing_url', 'scrape_id', 'last_scraped', 'source', 'name',\n",
              "       'description', 'neighborhood_overview', 'picture_url', 'host_id',\n",
              "       'host_url', 'host_name', 'host_since', 'host_location', 'host_about',\n",
              "       'host_response_time', 'host_response_rate', 'host_acceptance_rate',\n",
              "       'host_is_superhost', 'host_thumbnail_url', 'host_picture_url',\n",
              "       'host_neighbourhood', 'host_listings_count',\n",
              "       'host_total_listings_count', 'host_verifications',\n",
              "       'host_has_profile_pic', 'host_identity_verified', 'neighbourhood',\n",
              "       'neighbourhood_cleansed', 'neighbourhood_group_cleansed', 'latitude',\n",
              "       'longitude', 'property_type', 'room_type', 'accommodates', 'bathrooms',\n",
              "       'bathrooms_text', 'bedrooms', 'beds', 'amenities', 'price',\n",
              "       'minimum_nights', 'maximum_nights', 'minimum_minimum_nights',\n",
              "       'maximum_minimum_nights', 'minimum_maximum_nights',\n",
              "       'maximum_maximum_nights', 'minimum_nights_avg_ntm',\n",
              "       'maximum_nights_avg_ntm', 'calendar_updated', 'has_availability',\n",
              "       'availability_30', 'availability_60', 'availability_90',\n",
              "       'availability_365', 'calendar_last_scraped', 'number_of_reviews',\n",
              "       'number_of_reviews_ltm', 'number_of_reviews_l30d', 'first_review',\n",
              "       'last_review', 'review_scores_rating', 'review_scores_accuracy',\n",
              "       'review_scores_cleanliness', 'review_scores_checkin',\n",
              "       'review_scores_communication', 'review_scores_location',\n",
              "       'review_scores_value', 'license', 'instant_bookable',\n",
              "       'calculated_host_listings_count',\n",
              "       'calculated_host_listings_count_entire_homes',\n",
              "       'calculated_host_listings_count_private_rooms',\n",
              "       'calculated_host_listings_count_shared_rooms', 'reviews_per_month',\n",
              "       'calc_dist_from_center', 'City'],\n",
              "      dtype='object')"
            ]
          },
          "metadata": {},
          "output_type": "display_data"
        }
      ],
      "metadata": {
        "datalore": {
          "node_id": "kvifAkEVNCVVmAIIRPeanO",
          "type": "CODE",
          "hide_input_from_viewers": true,
          "hide_output_from_viewers": true
        },
        "id": "r9SudewqKlRM",
        "outputId": "35d57bcc-1306-4818-92d8-552819af0147"
      }
    },
    {
      "cell_type": "code",
      "source": [
        "df_listings.drop(['listing_url', 'scrape_id', 'last_scraped', 'source', 'name', 'description', 'neighborhood_overview', 'picture_url','host_url', 'host_name','host_thumbnail_url', 'host_picture_url','host_has_profile_pic','license','minimum_nights',\n",
        "       'maximum_nights', 'minimum_minimum_nights', 'maximum_minimum_nights',\n",
        "       'minimum_maximum_nights', 'maximum_maximum_nights',\n",
        "       'minimum_nights_avg_ntm', 'maximum_nights_avg_ntm','availability_30', 'availability_60',\n",
        "       'availability_90','calendar_last_scraped'], axis=1, inplace=True)"
      ],
      "execution_count": null,
      "outputs": [],
      "metadata": {
        "datalore": {
          "node_id": "M98YrVwHOHbY3uVWBDTyCl",
          "type": "CODE",
          "hide_input_from_viewers": true,
          "hide_output_from_viewers": true
        },
        "id": "WZ4-fCs2KlRM"
      }
    },
    {
      "cell_type": "markdown",
      "source": [
        "## h. Rename Column names\n",
        "\n",
        "Let's rename the ID column names in df_listings and df_reviews"
      ],
      "metadata": {
        "datalore": {
          "node_id": "IeFXqPkLuFXX2OdvSeEQ1a",
          "type": "MD",
          "hide_input_from_viewers": true,
          "hide_output_from_viewers": true
        },
        "id": "-3IL0fzCKlRM"
      }
    },
    {
      "cell_type": "code",
      "source": [
        "# Rename column \"id\" to \"listing_id\" in df_listings\n",
        "df_listings.rename(columns={'id': 'listing_id'}, inplace=True)\n",
        "\n",
        "# Rename column \"id\" to \"Review_id\" in df_reviews\n",
        "df_reviews.rename(columns={'id': 'review_id'}, inplace=True)\n",
        "# Rename column \"name\" to \"listing_name\" in df_listings\n",
        "#df_listings.rename(columns={'name': 'listing_name'}, inplace=True)"
      ],
      "execution_count": null,
      "outputs": [],
      "metadata": {
        "datalore": {
          "node_id": "A6Fy6iux9ubYjLuI6pdlwz",
          "type": "CODE",
          "hide_input_from_viewers": true,
          "hide_output_from_viewers": true
        },
        "id": "pVY4pI3qKlRM"
      }
    },
    {
      "cell_type": "markdown",
      "source": [
        "## i. Information about the original datasets with datatypes"
      ],
      "metadata": {
        "datalore": {
          "node_id": "HZkaBEi2yFByFMvAgfHDQr",
          "type": "MD",
          "hide_input_from_viewers": true,
          "hide_output_from_viewers": true
        },
        "id": "ggu8pJ3AKlRM"
      }
    },
    {
      "cell_type": "markdown",
      "source": [
        "After examining the columns from all the datasets we realized that sum_listings and sum_reviews were not adding any information to what was already in the other datasets, then we will not use them any further."
      ],
      "metadata": {
        "datalore": {
          "node_id": "CHzlr7tIhrdUC6InQeEMZg",
          "type": "MD",
          "hide_input_from_viewers": true,
          "hide_output_from_viewers": true
        },
        "id": "iNIaYJoOKlRM"
      }
    },
    {
      "cell_type": "code",
      "source": [
        "#dataframes = [df_neighbourhoods, df_sum_listings, df_sum_reviews, df_listings, df_reviews, df_calendar]\n",
        "dataframes = [df_neighbourhoods, df_listings, df_reviews, df_calendar]\n",
        "\n",
        "df_neighbourhoods.name = 'Neighbourhoods'\n",
        "#df_sum_listings.name = 'Summary Listings'\n",
        "#df_sum_reviews.name = 'Summary Reviews'\n",
        "df_listings.name = 'Listings'\n",
        "df_reviews.name = 'Reviews'\n",
        "df_calendar.name = 'Calendar'\n",
        "\n",
        "\n",
        "for df in dataframes:\n",
        "    print(f\"Info for {df.name}:\")\n",
        "    df.info()\n",
        "    print(\"\\n\")\n",
        "    print(\"-\"*100)"
      ],
      "execution_count": null,
      "outputs": [
        {
          "name": "stdout",
          "text": [
            "Info for Neighbourhoods:\n",
            "<class 'pandas.core.frame.DataFrame'>\n",
            "RangeIndex: 52 entries, 0 to 51\n",
            "Data columns (total 3 columns):\n",
            " #   Column               Non-Null Count  Dtype \n",
            "---  ------               --------------  ----- \n",
            " 0   neighbourhood_group  29 non-null     object\n",
            " 1   neighbourhood        52 non-null     object\n",
            " 2   City                 52 non-null     object\n",
            "dtypes: object(3)\n",
            "memory usage: 1.3+ KB\n",
            "\n",
            "\n",
            "----------------------------------------------------------------------------------------------------\n",
            "Info for Listings:\n",
            "<class 'pandas.core.frame.DataFrame'>\n",
            "RangeIndex: 11430 entries, 0 to 11429\n",
            "Data columns (total 51 columns):\n",
            " #   Column                                        Non-Null Count  Dtype  \n",
            "---  ------                                        --------------  -----  \n",
            " 0   listing_id                                    11430 non-null  int64  \n",
            " 1   host_id                                       11430 non-null  int64  \n",
            " 2   host_since                                    11430 non-null  object \n",
            " 3   host_location                                 9172 non-null   object \n",
            " 4   host_about                                    6454 non-null   object \n",
            " 5   host_response_time                            9840 non-null   object \n",
            " 6   host_response_rate                            9840 non-null   object \n",
            " 7   host_acceptance_rate                          10177 non-null  object \n",
            " 8   host_is_superhost                             11144 non-null  object \n",
            " 9   host_neighbourhood                            7856 non-null   object \n",
            " 10  host_listings_count                           11430 non-null  int64  \n",
            " 11  host_total_listings_count                     11430 non-null  int64  \n",
            " 12  host_verifications                            11430 non-null  object \n",
            " 13  host_identity_verified                        11430 non-null  object \n",
            " 14  neighbourhood                                 7647 non-null   object \n",
            " 15  neighbourhood_cleansed                        11430 non-null  object \n",
            " 16  neighbourhood_group_cleansed                  4735 non-null   object \n",
            " 17  latitude                                      11430 non-null  float64\n",
            " 18  longitude                                     11430 non-null  float64\n",
            " 19  property_type                                 11430 non-null  object \n",
            " 20  room_type                                     11430 non-null  object \n",
            " 21  accommodates                                  11430 non-null  int64  \n",
            " 22  bathrooms                                     0 non-null      float64\n",
            " 23  bathrooms_text                                11427 non-null  object \n",
            " 24  bedrooms                                      9198 non-null   float64\n",
            " 25  beds                                          11363 non-null  float64\n",
            " 26  amenities                                     11430 non-null  object \n",
            " 27  price                                         11430 non-null  object \n",
            " 28  calendar_updated                              0 non-null      float64\n",
            " 29  has_availability                              11430 non-null  object \n",
            " 30  availability_365                              11430 non-null  int64  \n",
            " 31  number_of_reviews                             11430 non-null  int64  \n",
            " 32  number_of_reviews_ltm                         11430 non-null  int64  \n",
            " 33  number_of_reviews_l30d                        11430 non-null  int64  \n",
            " 34  first_review                                  9855 non-null   object \n",
            " 35  last_review                                   9855 non-null   object \n",
            " 36  review_scores_rating                          9857 non-null   float64\n",
            " 37  review_scores_accuracy                        9843 non-null   float64\n",
            " 38  review_scores_cleanliness                     9843 non-null   float64\n",
            " 39  review_scores_checkin                         9842 non-null   float64\n",
            " 40  review_scores_communication                   9843 non-null   float64\n",
            " 41  review_scores_location                        9842 non-null   float64\n",
            " 42  review_scores_value                           9842 non-null   float64\n",
            " 43  instant_bookable                              11430 non-null  object \n",
            " 44  calculated_host_listings_count                11430 non-null  int64  \n",
            " 45  calculated_host_listings_count_entire_homes   11430 non-null  int64  \n",
            " 46  calculated_host_listings_count_private_rooms  11430 non-null  int64  \n",
            " 47  calculated_host_listings_count_shared_rooms   11430 non-null  int64  \n",
            " 48  reviews_per_month                             9855 non-null   float64\n",
            " 49  calc_dist_from_center                         11430 non-null  float64\n",
            " 50  City                                          11430 non-null  object \n",
            "dtypes: float64(15), int64(13), object(23)\n",
            "memory usage: 4.4+ MB\n",
            "\n",
            "\n",
            "----------------------------------------------------------------------------------------------------\n",
            "Info for Reviews:\n",
            "<class 'pandas.core.frame.DataFrame'>\n",
            "RangeIndex: 561280 entries, 0 to 561279\n",
            "Data columns (total 7 columns):\n",
            " #   Column         Non-Null Count   Dtype \n",
            "---  ------         --------------   ----- \n",
            " 0   listing_id     561280 non-null  int64 \n",
            " 1   review_id      561280 non-null  int64 \n",
            " 2   date           561280 non-null  object\n",
            " 3   reviewer_id    561280 non-null  int64 \n",
            " 4   reviewer_name  561279 non-null  object\n",
            " 5   comments       561220 non-null  object\n",
            " 6   City           561280 non-null  object\n",
            "dtypes: int64(3), object(4)\n",
            "memory usage: 30.0+ MB\n",
            "\n",
            "\n",
            "----------------------------------------------------------------------------------------------------\n",
            "Info for Calendar:\n",
            "<class 'pandas.core.frame.DataFrame'>\n",
            "RangeIndex: 4171950 entries, 0 to 4171949\n",
            "Data columns (total 8 columns):\n",
            " #   Column          Dtype  \n",
            "---  ------          -----  \n",
            " 0   listing_id      int64  \n",
            " 1   date            object \n",
            " 2   available       object \n",
            " 3   price           object \n",
            " 4   adjusted_price  object \n",
            " 5   minimum_nights  float64\n",
            " 6   maximum_nights  float64\n",
            " 7   City            object \n",
            "dtypes: float64(2), int64(1), object(5)\n",
            "memory usage: 254.6+ MB\n",
            "\n",
            "\n",
            "----------------------------------------------------------------------------------------------------\n"
          ],
          "output_type": "stream"
        }
      ],
      "metadata": {
        "datalore": {
          "node_id": "gLjKCB7nSSz9NRJq3Mhndy",
          "type": "CODE",
          "hide_input_from_viewers": false,
          "hide_output_from_viewers": false,
          "report_properties": {
            "rowId": "tY4jqjpH0OIgS9hDO5ALFU",
            "relativeY": 0
          }
        },
        "id": "eX0HblzVKlRY",
        "outputId": "80a38597-6daf-4f42-c314-9b8859984f1d"
      }
    },
    {
      "cell_type": "markdown",
      "source": [
        "## j. Analysing columns in df_listings"
      ],
      "metadata": {
        "datalore": {
          "node_id": "FT2eSCF6gihGHeJ5GW5Z0m",
          "type": "MD",
          "hide_input_from_viewers": true,
          "hide_output_from_viewers": true
        },
        "id": "vAXOPtnAKlRY"
      }
    },
    {
      "cell_type": "markdown",
      "source": [
        "**Property type**\n",
        "\n",
        "Some cleaning of property types is required as there are a large number of categories with only a few listings. The categories 'Apartment', 'House', 'Hotel' and 'other' will be used, as most properties can be classified as either apartments,houses or hotel."
      ],
      "metadata": {
        "datalore": {
          "node_id": "oCiOZMOTEpvAISY8Bt06AN",
          "type": "MD",
          "hide_input_from_viewers": true,
          "hide_output_from_viewers": true
        },
        "id": "p6XqisOjKlRY"
      }
    },
    {
      "cell_type": "code",
      "source": [
        "df_listings.property_type.value_counts()"
      ],
      "execution_count": null,
      "outputs": [
        {
          "data": {
            "text/html": [
              "<pre>Entire home                         2325\n",
              "Entire rental unit                  2097\n",
              "Entire condo                        2052\n",
              "Entire guest suite                  1661\n",
              "Private room in home                1121\n",
              "                                    ... \n",
              "Private room in casa particular        1\n",
              "Shared room in bed and breakfast       1\n",
              "Cave                                   1\n",
              "Castle                                 1\n",
              "Campsite                               1\n",
              "Name: property_type, Length: 81, dtype: int64</pre>"
            ]
          },
          "metadata": {},
          "output_type": "display_data"
        }
      ],
      "metadata": {
        "datalore": {
          "node_id": "9HrFeAGJkKPtpJgJ7cuT8k",
          "type": "CODE",
          "hide_input_from_viewers": true,
          "hide_output_from_viewers": true
        },
        "id": "lTrosUChKlRY",
        "outputId": "fb6ada9e-f4ef-478e-e445-fbcfa7110892"
      }
    },
    {
      "cell_type": "code",
      "source": [
        "# Replacing categories that are types of houses or apartments\n",
        "df_listings.property_type.replace({\n",
        "    'Entire townhouse': 'House',\n",
        "    'Entire loft': 'Apartment',\n",
        "    'Entire cottage':'House',\n",
        "    'Entire guesthouse': 'House',\n",
        "    'Entire rental unit': 'House',\n",
        "    'Entire villa': 'House',\n",
        "    'Entire bungalow': 'House',\n",
        "    'Earth house': 'House',\n",
        "    'Entire cabin': 'House'\n",
        "    }, inplace=True)\n",
        "\n",
        "df_listings.loc[df_listings.property_type.str.contains('home|house', case=False, na=False), 'property_type'] = 'House'\n",
        "df_listings.loc[df_listings.property_type.str.contains('hotel', case=False, na=False), 'property_type'] = 'Hotel'\n",
        "df_listings.loc[df_listings.property_type.str.contains('condo|apartment', case=False, na=False), 'property_type'] = 'Apartment'\n",
        "\n",
        "# Replacing other categories with 'other'\n",
        "df_listings.loc[~df_listings.property_type.isin(['House', 'Apartment','Hotel']), 'property_type'] = 'Other'"
      ],
      "execution_count": null,
      "outputs": [],
      "metadata": {
        "datalore": {
          "node_id": "kcC1uLyT6mX0Y8lFZThTec",
          "type": "CODE",
          "hide_input_from_viewers": true,
          "hide_output_from_viewers": true
        },
        "id": "aNJcal6VKlRY"
      }
    },
    {
      "cell_type": "code",
      "source": [
        "df_listings.property_type.value_counts()"
      ],
      "execution_count": null,
      "outputs": [
        {
          "data": {
            "text/html": [
              "<pre>House        6587\n",
              "Apartment    2437\n",
              "Other        2333\n",
              "Hotel          73\n",
              "Name: property_type, dtype: int64</pre>"
            ]
          },
          "metadata": {},
          "output_type": "display_data"
        }
      ],
      "metadata": {
        "datalore": {
          "node_id": "h2ZFUYrxSq3YAsw1ndrVBb",
          "type": "CODE",
          "hide_input_from_viewers": true,
          "hide_output_from_viewers": true
        },
        "id": "U1igdLwaKlRZ",
        "outputId": "18c64c3a-9136-450e-9ad6-9b4bf0a6f060"
      }
    },
    {
      "cell_type": "markdown",
      "source": [
        "**Price**\n",
        "\n",
        "Price will be converted to a float - currently it is a string because there is a currency sign ($)."
      ],
      "metadata": {
        "datalore": {
          "node_id": "KS2xSdFrbFHnYYFf0Om7yQ",
          "type": "MD",
          "hide_input_from_viewers": true,
          "hide_output_from_viewers": true
        },
        "id": "RH8zs2a_KlRZ"
      }
    },
    {
      "cell_type": "code",
      "source": [
        "import re\n",
        "# Convert the price in df_listings into a float by removing $ and ,\n",
        "char_to_del='[\\$\\,]'\n",
        "df_listings['price'] = df_listings['price'].apply(lambda s: re.sub(char_to_del,'', s)).astype(float)\n",
        "#display(df_listings['price'].head())"
      ],
      "execution_count": null,
      "outputs": [],
      "metadata": {
        "datalore": {
          "node_id": "sNk9GL89882n443h9mrzfN",
          "type": "CODE",
          "hide_input_from_viewers": true,
          "hide_output_from_viewers": true
        },
        "id": "s0k_wkfnKlRZ"
      }
    },
    {
      "cell_type": "markdown",
      "source": [
        "**Bathrooms, bedrooms and beds**\n",
        "\n",
        "Missing values will be replaced with the median (to avoid strange fractions).\n"
      ],
      "metadata": {
        "datalore": {
          "node_id": "2YadGoudwMaU04vd2HEZ1e",
          "type": "MD",
          "hide_input_from_viewers": true,
          "hide_output_from_viewers": true
        },
        "id": "MyZ_S1MTKlRZ"
      }
    },
    {
      "cell_type": "code",
      "source": [
        "for col in ['bathrooms', 'bedrooms', 'beds']:\n",
        "    # Check if there are missing values before calculating the median\n",
        "    if df_listings[col].notna().any():\n",
        "        df_listings[col].fillna(df_listings[col].median(), inplace=True)\n",
        "    else:\n",
        "        print(f\"Column '{col}' has all missing values.\")"
      ],
      "execution_count": null,
      "outputs": [
        {
          "name": "stdout",
          "text": [
            "Column 'bathrooms' has all missing values.\n"
          ],
          "output_type": "stream"
        }
      ],
      "metadata": {
        "datalore": {
          "node_id": "6lnctFshB2tjWDNvjl63Xf",
          "type": "CODE",
          "hide_input_from_viewers": true,
          "hide_output_from_viewers": true
        },
        "id": "i_N0xeMDKlRZ",
        "outputId": "c25fc05b-91e3-490e-dea3-590984ffd9d3"
      }
    },
    {
      "cell_type": "markdown",
      "source": [
        "Since column 'bathrooms' has only missing values , let's drop the column"
      ],
      "metadata": {
        "datalore": {
          "node_id": "JsSyISfpJBbnnPWPx5zjAN",
          "type": "MD",
          "hide_input_from_viewers": true,
          "hide_output_from_viewers": true
        },
        "id": "SFuVrggRKlRZ"
      }
    },
    {
      "cell_type": "code",
      "source": [
        "df_listings.drop('bathrooms', axis=1, inplace=True)"
      ],
      "execution_count": null,
      "outputs": [],
      "metadata": {
        "datalore": {
          "node_id": "cKzAJQabIoj5KBcJ0AHSdh",
          "type": "CODE",
          "hide_input_from_viewers": true,
          "hide_output_from_viewers": true
        },
        "id": "AM1OcMPEKlRZ"
      }
    },
    {
      "cell_type": "markdown",
      "source": [
        "**first_review, last_review, review_scores_rating**  \n",
        "Look at the percentage of missing values."
      ],
      "metadata": {
        "datalore": {
          "node_id": "iCbjY8JSyR0cgaSbe2P6Cv",
          "type": "MD",
          "hide_input_from_viewers": true,
          "hide_output_from_viewers": true
        },
        "id": "pI_1kia1KlRZ"
      }
    },
    {
      "cell_type": "code",
      "source": [
        "print(f\"Null values in 'first_review': {round(100*df_listings.first_review.isna().sum()/len(df_listings),1)}%\")\n",
        "print(f\"Null values in 'last_review': {round(100*df_listings.last_review.isna().sum()/len(df_listings),1)}%\")\n",
        "print(f\"Null values in 'review_scores_rating': {round(100*df_listings.review_scores_rating .isna().sum()/len(df_listings),1)}%\")"
      ],
      "execution_count": null,
      "outputs": [
        {
          "name": "stdout",
          "text": [
            "Null values in 'first_review': 13.8%\n",
            "Null values in 'last_review': 13.8%\n",
            "Null values in 'review_scores_rating': 13.8%\n"
          ],
          "output_type": "stream"
        }
      ],
      "metadata": {
        "datalore": {
          "node_id": "rwdabGlH8H12jxmoYX0DIr",
          "type": "CODE",
          "hide_input_from_viewers": true,
          "hide_output_from_viewers": true
        },
        "id": "6ERGklgMKlRZ",
        "outputId": "f2710e8f-faff-4b58-a20c-a666ff95c521"
      }
    },
    {
      "cell_type": "markdown",
      "source": [
        "**Verify number of listing_id missing in df_reviews**"
      ],
      "metadata": {
        "datalore": {
          "node_id": "xGL9XOllIW0Ve1lmSsNDMa",
          "type": "MD",
          "hide_input_from_viewers": true,
          "hide_output_from_viewers": true
        },
        "id": "LsgAQL4bKlRZ"
      }
    },
    {
      "cell_type": "code",
      "source": [
        "# Merge df_listings and df_reviews on 'listing_id'\n",
        "merged_df = pd.merge(df_listings, df_reviews, on='listing_id', how='left', indicator=True)\n",
        "\n",
        "# Filter for rows only in df_listings (left_only)\n",
        "missing_listings = merged_df[merged_df['_merge'] == 'left_only']\n",
        "\n",
        "# Display the count and 'listing_id' values that are present in df_listings but not in df_reviews\n",
        "print(\"Count of listings in df_listings but not in df_reviews:\", missing_listings.shape[0])\n",
        "#print(\"Listing IDs in df_listings but not in df_reviews:\")\n",
        "#print(missing_listings['listing_id'].unique())\n"
      ],
      "execution_count": null,
      "outputs": [
        {
          "name": "stdout",
          "text": [
            "Count of listings in df_listings but not in df_reviews: 1575\n"
          ],
          "output_type": "stream"
        }
      ],
      "metadata": {
        "datalore": {
          "node_id": "4MkoVs99yeroSjW5exfSpQ",
          "type": "CODE",
          "hide_input_from_viewers": true,
          "hide_output_from_viewers": true
        },
        "id": "8RN-eAdBKlRZ",
        "outputId": "15b66b4a-807d-42f5-ef76-92291e45f3f6"
      }
    },
    {
      "cell_type": "markdown",
      "source": [
        "**host_response_rate & host_acceptance_rate**\n",
        "\n",
        "host acceptance rate, and host response rate columns are stored as strings and also contain \"%\" character. Let's remove them and convert to float."
      ],
      "metadata": {
        "datalore": {
          "node_id": "mExSgyxGZjzNJvOnZPGdqv",
          "type": "MD",
          "hide_input_from_viewers": true,
          "hide_output_from_viewers": true
        },
        "id": "9mZ3Qgh2KlRZ"
      }
    },
    {
      "cell_type": "code",
      "source": [
        "\n",
        "df_listings[\"host_response_rate\"] = df_listings[\"host_response_rate\"].str[:-1].astype(\"float\") / 100\n",
        "df_listings[\"host_acceptance_rate\"] = df_listings[\"host_acceptance_rate\"].str[:-1].astype(\"float\") / 100"
      ],
      "execution_count": null,
      "outputs": [],
      "metadata": {
        "datalore": {
          "node_id": "4iV3a7k1Dyc9RHkMr4zI2s",
          "type": "CODE",
          "hide_input_from_viewers": true,
          "hide_output_from_viewers": true
        },
        "id": "XrO3Fk9HKlRa"
      }
    },
    {
      "cell_type": "code",
      "source": [
        "display(df_listings[[\"host_response_rate\",\"host_acceptance_rate\"]].head(3))"
      ],
      "execution_count": null,
      "outputs": [
        {
          "data": {
            "text/html": [
              "<div>\n",
              "<style scoped>\n",
              "    .dataframe tbody tr th:only-of-type {\n",
              "        vertical-align: middle;\n",
              "    }\n",
              "\n",
              "    .dataframe tbody tr th {\n",
              "        vertical-align: top;\n",
              "    }\n",
              "\n",
              "    .dataframe thead th {\n",
              "        text-align: right;\n",
              "    }\n",
              "</style>\n",
              "<table border=\"1\" class=\"dataframe\">\n",
              "  <thead>\n",
              "    <tr style=\"text-align: right;\">\n",
              "      <th></th>\n",
              "      <th>host_response_rate</th>\n",
              "      <th>host_acceptance_rate</th>\n",
              "    </tr>\n",
              "  </thead>\n",
              "  <tbody>\n",
              "    <tr>\n",
              "      <th>0</th>\n",
              "      <td>1.0</td>\n",
              "      <td>1.00</td>\n",
              "    </tr>\n",
              "    <tr>\n",
              "      <th>1</th>\n",
              "      <td>1.0</td>\n",
              "      <td>0.98</td>\n",
              "    </tr>\n",
              "    <tr>\n",
              "      <th>2</th>\n",
              "      <td>1.0</td>\n",
              "      <td>0.96</td>\n",
              "    </tr>\n",
              "  </tbody>\n",
              "</table>\n",
              "</div>"
            ]
          },
          "metadata": {},
          "output_type": "display_data"
        }
      ],
      "metadata": {
        "datalore": {
          "node_id": "bo7dTWwXxIyeuPaARFHnRI",
          "type": "CODE",
          "hide_input_from_viewers": true,
          "hide_output_from_viewers": true
        },
        "id": "OKhk9ZIUKlRa",
        "outputId": "c525652e-43a5-4071-8354-621e3fdede9f"
      }
    },
    {
      "cell_type": "markdown",
      "source": [
        "## l. Analysing columns in df_reviews"
      ],
      "metadata": {
        "datalore": {
          "node_id": "1p5oY91TBAzblTGTMj7lOV",
          "type": "MD",
          "hide_input_from_viewers": true,
          "hide_output_from_viewers": true
        },
        "id": "ZuuqvvcXKlRa"
      }
    },
    {
      "cell_type": "markdown",
      "source": [
        "**Date**  \n",
        "Convert date column in date type + Rename column to date_review"
      ],
      "metadata": {
        "datalore": {
          "node_id": "fdSY1oHDilJsYX2ZPLfFkt",
          "type": "MD",
          "hide_input_from_viewers": true,
          "hide_output_from_viewers": true
        },
        "id": "e9Sgrag-KlRa"
      }
    },
    {
      "cell_type": "code",
      "source": [
        "#Convert date in date type and rename it date_review\n",
        "df_reviews['date'] = pd.to_datetime(df_reviews['date'],format='%Y-%m-%d')\n",
        "df_reviews.rename(columns={'date': 'date_review'}, inplace=True)\n",
        "display(df_reviews.head())"
      ],
      "execution_count": null,
      "outputs": [
        {
          "data": {
            "text/html": [
              "<div>\n",
              "<style scoped>\n",
              "    .dataframe tbody tr th:only-of-type {\n",
              "        vertical-align: middle;\n",
              "    }\n",
              "\n",
              "    .dataframe tbody tr th {\n",
              "        vertical-align: top;\n",
              "    }\n",
              "\n",
              "    .dataframe thead th {\n",
              "        text-align: right;\n",
              "    }\n",
              "</style>\n",
              "<table border=\"1\" class=\"dataframe\">\n",
              "  <thead>\n",
              "    <tr style=\"text-align: right;\">\n",
              "      <th></th>\n",
              "      <th>listing_id</th>\n",
              "      <th>review_id</th>\n",
              "      <th>date_review</th>\n",
              "      <th>reviewer_id</th>\n",
              "      <th>reviewer_name</th>\n",
              "      <th>comments</th>\n",
              "      <th>City</th>\n",
              "    </tr>\n",
              "  </thead>\n",
              "  <tbody>\n",
              "    <tr>\n",
              "      <th>0</th>\n",
              "      <td>13188</td>\n",
              "      <td>27060</td>\n",
              "      <td>2010-02-21</td>\n",
              "      <td>34595</td>\n",
              "      <td>Rebecca</td>\n",
              "      <td>We had a wonderful time! The place is cozy, warm (with a fireplace!), and outfitted with every a...</td>\n",
              "      <td>Vancouver</td>\n",
              "    </tr>\n",
              "    <tr>\n",
              "      <th>1</th>\n",
              "      <td>1736349</td>\n",
              "      <td>41020408</td>\n",
              "      <td>2015-08-03</td>\n",
              "      <td>39708695</td>\n",
              "      <td>Carleigh</td>\n",
              "      <td>Kerry was a fantastic host, very friendly and accommodating. She made sure she was home when we ...</td>\n",
              "      <td>Vancouver</td>\n",
              "    </tr>\n",
              "    <tr>\n",
              "      <th>2</th>\n",
              "      <td>1736349</td>\n",
              "      <td>41996709</td>\n",
              "      <td>2015-08-10</td>\n",
              "      <td>38001212</td>\n",
              "      <td>Alexander Franz</td>\n",
              "      <td>We had a very great time at Kerry's place. She gave us a lot of tips for our trips in and around...</td>\n",
              "      <td>Vancouver</td>\n",
              "    </tr>\n",
              "    <tr>\n",
              "      <th>3</th>\n",
              "      <td>1736349</td>\n",
              "      <td>43175647</td>\n",
              "      <td>2015-08-17</td>\n",
              "      <td>24042205</td>\n",
              "      <td>Junda</td>\n",
              "      <td>The place was very comfortable and felt like home.  I liked how I got to park in a garage and ho...</td>\n",
              "      <td>Vancouver</td>\n",
              "    </tr>\n",
              "    <tr>\n",
              "      <th>4</th>\n",
              "      <td>1736349</td>\n",
              "      <td>43726318</td>\n",
              "      <td>2015-08-21</td>\n",
              "      <td>41117022</td>\n",
              "      <td>Merle</td>\n",
              "      <td>We had a few great days in the Townhouse! Just the bed is worth it to book this Room. The brathr...</td>\n",
              "      <td>Vancouver</td>\n",
              "    </tr>\n",
              "  </tbody>\n",
              "</table>\n",
              "</div>"
            ]
          },
          "metadata": {},
          "output_type": "display_data"
        }
      ],
      "metadata": {
        "datalore": {
          "node_id": "xpgD8HnlL1AfCLXapQGu3U",
          "type": "CODE",
          "hide_input_from_viewers": true,
          "hide_output_from_viewers": true
        },
        "id": "uR6AdLguKlRa",
        "outputId": "de0c961a-d972-4d46-8384-3d90e56e455f"
      }
    },
    {
      "cell_type": "markdown",
      "source": [
        "## k. Analysing columns in df_calendar"
      ],
      "metadata": {
        "datalore": {
          "node_id": "dRkfIbiW6omge5WqiFuXpL",
          "type": "MD",
          "hide_input_from_viewers": true,
          "hide_output_from_viewers": true
        },
        "id": "giZ7kQRKKlRa"
      }
    },
    {
      "cell_type": "markdown",
      "source": [
        "**Date**  \n",
        "Convert date column in date type + Rename column to date_cal"
      ],
      "metadata": {
        "datalore": {
          "node_id": "NhPifThx9UTGfaHoiFMo62",
          "type": "MD",
          "hide_input_from_viewers": true,
          "hide_output_from_viewers": true
        },
        "id": "-iMoi3m0KlRa"
      }
    },
    {
      "cell_type": "code",
      "source": [
        "#Convert date in date type and rename it date_cal\n",
        "df_calendar['date'] = pd.to_datetime(df_calendar['date'],format='%Y-%m-%d')\n",
        "df_calendar.rename(columns={'date': 'date_cal'}, inplace=True)\n",
        "display(df_calendar.head())"
      ],
      "execution_count": null,
      "outputs": [
        {
          "data": {
            "text/html": [
              "<div>\n",
              "<style scoped>\n",
              "    .dataframe tbody tr th:only-of-type {\n",
              "        vertical-align: middle;\n",
              "    }\n",
              "\n",
              "    .dataframe tbody tr th {\n",
              "        vertical-align: top;\n",
              "    }\n",
              "\n",
              "    .dataframe thead th {\n",
              "        text-align: right;\n",
              "    }\n",
              "</style>\n",
              "<table border=\"1\" class=\"dataframe\">\n",
              "  <thead>\n",
              "    <tr style=\"text-align: right;\">\n",
              "      <th></th>\n",
              "      <th>listing_id</th>\n",
              "      <th>date_cal</th>\n",
              "      <th>available</th>\n",
              "      <th>price</th>\n",
              "      <th>adjusted_price</th>\n",
              "      <th>minimum_nights</th>\n",
              "      <th>maximum_nights</th>\n",
              "      <th>City</th>\n",
              "    </tr>\n",
              "  </thead>\n",
              "  <tbody>\n",
              "    <tr>\n",
              "      <th>0</th>\n",
              "      <td>13188</td>\n",
              "      <td>2023-09-06</td>\n",
              "      <td>f</td>\n",
              "      <td>$154.00</td>\n",
              "      <td>$154.00</td>\n",
              "      <td>2.0</td>\n",
              "      <td>180.0</td>\n",
              "      <td>Vancouver</td>\n",
              "    </tr>\n",
              "    <tr>\n",
              "      <th>1</th>\n",
              "      <td>13188</td>\n",
              "      <td>2023-09-07</td>\n",
              "      <td>f</td>\n",
              "      <td>$150.00</td>\n",
              "      <td>$150.00</td>\n",
              "      <td>2.0</td>\n",
              "      <td>180.0</td>\n",
              "      <td>Vancouver</td>\n",
              "    </tr>\n",
              "    <tr>\n",
              "      <th>2</th>\n",
              "      <td>13188</td>\n",
              "      <td>2023-09-08</td>\n",
              "      <td>f</td>\n",
              "      <td>$152.00</td>\n",
              "      <td>$152.00</td>\n",
              "      <td>2.0</td>\n",
              "      <td>180.0</td>\n",
              "      <td>Vancouver</td>\n",
              "    </tr>\n",
              "    <tr>\n",
              "      <th>3</th>\n",
              "      <td>13188</td>\n",
              "      <td>2023-09-09</td>\n",
              "      <td>t</td>\n",
              "      <td>$150.00</td>\n",
              "      <td>$150.00</td>\n",
              "      <td>2.0</td>\n",
              "      <td>180.0</td>\n",
              "      <td>Vancouver</td>\n",
              "    </tr>\n",
              "    <tr>\n",
              "      <th>4</th>\n",
              "      <td>13188</td>\n",
              "      <td>2023-09-10</td>\n",
              "      <td>f</td>\n",
              "      <td>$151.00</td>\n",
              "      <td>$151.00</td>\n",
              "      <td>2.0</td>\n",
              "      <td>180.0</td>\n",
              "      <td>Vancouver</td>\n",
              "    </tr>\n",
              "  </tbody>\n",
              "</table>\n",
              "</div>"
            ]
          },
          "metadata": {},
          "output_type": "display_data"
        }
      ],
      "metadata": {
        "datalore": {
          "node_id": "FGH1VOu7xL37B2TOPpSx5y",
          "type": "CODE",
          "hide_input_from_viewers": true,
          "hide_output_from_viewers": true
        },
        "id": "KNCJPxOhKlRa",
        "outputId": "c8b7d540-68e6-4668-b9bb-0752e433b2a0"
      }
    },
    {
      "cell_type": "markdown",
      "source": [
        "**Price**  \n",
        "Let's convert the datatype for price and adjusted_price in df_calendar to float"
      ],
      "metadata": {
        "datalore": {
          "node_id": "RmK0x6IHOjcIAHQNL3Vv6l",
          "type": "MD",
          "hide_input_from_viewers": true,
          "hide_output_from_viewers": true
        },
        "id": "rKoz0gphKlRa"
      }
    },
    {
      "cell_type": "code",
      "source": [
        "# Convert the price and adjusted_price in df_calendar into a float by removing $ and ,\n",
        "char_to_del='[\\$\\,]'\n",
        "df_calendar['price'] = df_calendar['price'].apply(lambda s: re.sub(char_to_del,'', s)).astype(float)\n",
        "df_calendar['adjusted_price'] = df_calendar['adjusted_price'].apply(lambda s: re.sub(char_to_del,'', s)).astype(float)\n",
        "#display(df_calendar.head())"
      ],
      "execution_count": null,
      "outputs": [],
      "metadata": {
        "datalore": {
          "node_id": "ZbP7l9758do8WkC7W8HqBt",
          "type": "CODE",
          "hide_input_from_viewers": true,
          "hide_output_from_viewers": true
        },
        "id": "IlbDgbTGKlRa"
      }
    },
    {
      "cell_type": "markdown",
      "source": [
        "**Check**  \n",
        "Calendar: Check if price and price_adjusted are different  \n",
        "Conclusion is that there are some difference, but no missing price.  \n",
        "We assume that the price is adjusted by the host and we will use the adjusted_price for our calculations."
      ],
      "metadata": {
        "datalore": {
          "node_id": "uyprvFXMVsMACfkRldYPnD",
          "type": "MD",
          "hide_input_from_viewers": true,
          "hide_output_from_viewers": true
        },
        "id": "A_5sk6d-KlRa"
      }
    },
    {
      "cell_type": "code",
      "source": [
        "#Calendar: Check if price and price_adjusted is different\n",
        "#We can assume that the price is adjusted by the host\n",
        "print('Size of calendar',df_calendar.size)\n",
        "# check if listing_id is a duplicate in Van and Vic\n",
        "df_diff = df_calendar[df_calendar['price']!=df_calendar['adjusted_price']]\n",
        "print('Calendar: Nb of price different from adjusted_price', df_diff.size)\n",
        "#Check if adjusted_price is empty\n",
        "df_calendar[['price','adjusted_price']].isnull().sum()\n",
        "#Result no missing price, we can use the adjusted_price for our calculations"
      ],
      "execution_count": null,
      "outputs": [
        {
          "name": "stdout",
          "text": [
            "Size of calendar 33375600\n",
            "Calendar: Nb of price different from adjusted_price 1462816\n"
          ],
          "output_type": "stream"
        },
        {
          "data": {
            "text/html": [
              "<pre>price             0\n",
              "adjusted_price    0\n",
              "dtype: int64</pre>"
            ]
          },
          "metadata": {},
          "output_type": "display_data"
        }
      ],
      "metadata": {
        "datalore": {
          "node_id": "ZNmgdqjSzNKle4aOmd3o10",
          "type": "CODE",
          "hide_input_from_viewers": true,
          "hide_output_from_viewers": true
        },
        "id": "9F-GLHe8KlRa",
        "outputId": "1a6b4465-7cb3-489b-fd3b-752e4419a1be"
      }
    },
    {
      "cell_type": "markdown",
      "source": [
        "## m. Analysing columns in df_neighborhoods"
      ],
      "metadata": {
        "datalore": {
          "node_id": "S0dPbxPHbETPtDom5hPrGR",
          "type": "MD",
          "hide_input_from_viewers": true,
          "hide_output_from_viewers": true
        },
        "id": "xmzaoKN7KlRa"
      }
    },
    {
      "cell_type": "markdown",
      "source": [
        "For the city of Vancouver, neighbourhood_group is blank, fill it up with \"Vancouver\".  \n",
        "The Vancouver dataset covers only the Airbnb listings in the city of Vancouver, while the Victoria dataset covers properties in a large area around Victoria. This is what is represented in the column neighbourhood_group.  \n",
        "\n",
        "After review, in df_neighbourhoods there is 1 neighborhood in each group except for Vancouver and Victoria."
      ],
      "metadata": {
        "datalore": {
          "node_id": "4ffI5P5mG8QyKSnkOyMmdy",
          "type": "MD",
          "hide_input_from_viewers": true,
          "hide_output_from_viewers": true
        },
        "id": "jYleFylUKlRa"
      }
    },
    {
      "cell_type": "code",
      "source": [
        "# Fill the neighbourhood_group in df_listings too\n",
        "df_listings.loc[(df_listings['City']=='Vancouver'),'neighbourhood_group_cleansed'] = 'Vancouver'\n",
        "# groups by columns\n",
        "grouped = df_listings.groupby('neighbourhood_group_cleansed').size()\n",
        "grouped\n",
        "#Result: there are many listings in each neighborhood_group. It looks like there is no more missing values"
      ],
      "execution_count": null,
      "outputs": [
        {
          "data": {
            "text/html": [
              "<pre>neighbourhood_group_cleansed\n",
              "Central Saanich           112\n",
              "Colwood                   165\n",
              "Esquimalt                 143\n",
              "Highlands                  20\n",
              "Juan de Fuca              358\n",
              "Langford                  436\n",
              "Metchosin                  48\n",
              "North Saanich             141\n",
              "Oak Bay                    77\n",
              "Saanich                   859\n",
              "Salt Spring Island        334\n",
              "Sidney                     97\n",
              "Sooke                     249\n",
              "Southern Gulf Islands     210\n",
              "Vancouver                6695\n",
              "Victoria                 1407\n",
              "View Royal                 79\n",
              "dtype: int64</pre>"
            ]
          },
          "metadata": {},
          "output_type": "display_data"
        }
      ],
      "metadata": {
        "datalore": {
          "node_id": "eHjRhqwUxq4YIaoH2BXevH",
          "type": "CODE",
          "hide_input_from_viewers": true,
          "hide_output_from_viewers": true
        },
        "id": "vGcoEP_FKlRa",
        "outputId": "91562bbe-192f-492a-94b7-ed0f4ee3b6e4"
      }
    },
    {
      "cell_type": "code",
      "source": [
        "df_neighbourhoods.loc[(df_neighbourhoods['City']=='Vancouver'),'neighbourhood_group'] = 'Vancouver'\n",
        "# groups by columns\n",
        "grouped = df_neighbourhoods.groupby('neighbourhood_group').size()\n",
        "grouped\n",
        "#Result: there is 1 neighborhood in each group except for Vancouver and Victoria"
      ],
      "execution_count": null,
      "outputs": [
        {
          "data": {
            "text/html": [
              "<pre>neighbourhood_group\n",
              "Central Saanich           1\n",
              "Colwood                   1\n",
              "Esquimalt                 1\n",
              "Highlands                 1\n",
              "Juan de Fuca              1\n",
              "Langford                  1\n",
              "Metchosin                 1\n",
              "North Saanich             1\n",
              "Oak Bay                   1\n",
              "Saanich                   1\n",
              "Salt Spring Island        1\n",
              "Sidney                    1\n",
              "Sooke                     1\n",
              "Southern Gulf Islands     1\n",
              "Vancouver                23\n",
              "Victoria                 14\n",
              "View Royal                1\n",
              "dtype: int64</pre>"
            ]
          },
          "metadata": {},
          "output_type": "display_data"
        }
      ],
      "metadata": {
        "datalore": {
          "node_id": "ThwocFr0tMMy3XHHVgFJyH",
          "type": "CODE",
          "hide_input_from_viewers": true,
          "hide_output_from_viewers": true
        },
        "id": "Yk7_AA83KlRb",
        "outputId": "94c18518-04f3-4989-eb60-2d52855f7f11"
      }
    },
    {
      "cell_type": "markdown",
      "source": [
        "After review, in df_listings there are many listings in each neighborhood_group."
      ],
      "metadata": {
        "datalore": {
          "node_id": "GkwMOM2Ko7CkczykSyG7n9",
          "type": "MD",
          "hide_input_from_viewers": true,
          "hide_output_from_viewers": true
        },
        "id": "FSJUfARKKlRb"
      }
    },
    {
      "cell_type": "markdown",
      "source": [
        "## n. Missing values"
      ],
      "metadata": {
        "datalore": {
          "node_id": "uHwrLK5yvCbdRlINjKuO0u",
          "type": "MD",
          "hide_input_from_viewers": true,
          "hide_output_from_viewers": true
        },
        "id": "mgg6-jKZKlRb"
      }
    },
    {
      "cell_type": "code",
      "source": [
        "dataframes = [df_neighbourhoods, df_listings, df_reviews, df_calendar]\n",
        "\n",
        "for df in dataframes:\n",
        "    # Find columns with missing values and their total count\n",
        "    missing_values_info = df.isna().sum()\n",
        "\n",
        "    # Display columns with missing values and their total count\n",
        "    print(f\"Columns with missing values in {df.name}:\")\n",
        "    for column, total_missing_values in missing_values_info.items():\n",
        "        if total_missing_values > 0:\n",
        "            print(f\"{column}: {total_missing_values} missing values\")\n",
        "    print(\"\\n\" + \" \" * 2 + \"-\" * 100 + \"\\n\")"
      ],
      "execution_count": null,
      "outputs": [
        {
          "name": "stdout",
          "text": [
            "Columns with missing values in Neighbourhoods:\n",
            "\n",
            "  ----------------------------------------------------------------------------------------------------\n",
            "\n",
            "Columns with missing values in Listings:\n",
            "host_location: 2258 missing values\n",
            "host_about: 4976 missing values\n",
            "host_response_time: 1590 missing values\n",
            "host_response_rate: 1590 missing values\n",
            "host_acceptance_rate: 1253 missing values\n",
            "host_is_superhost: 286 missing values\n",
            "host_neighbourhood: 3574 missing values\n",
            "neighbourhood: 3783 missing values\n",
            "bathrooms_text: 3 missing values\n",
            "calendar_updated: 11430 missing values\n",
            "first_review: 1575 missing values\n",
            "last_review: 1575 missing values\n",
            "review_scores_rating: 1573 missing values\n",
            "review_scores_accuracy: 1587 missing values\n",
            "review_scores_cleanliness: 1587 missing values\n",
            "review_scores_checkin: 1588 missing values\n",
            "review_scores_communication: 1587 missing values\n",
            "review_scores_location: 1588 missing values\n",
            "review_scores_value: 1588 missing values\n",
            "reviews_per_month: 1575 missing values\n",
            "\n",
            "  ----------------------------------------------------------------------------------------------------\n",
            "\n",
            "Columns with missing values in Reviews:\n",
            "reviewer_name: 1 missing values\n",
            "comments: 60 missing values\n",
            "\n",
            "  ----------------------------------------------------------------------------------------------------\n",
            "\n",
            "Columns with missing values in Calendar:\n",
            "minimum_nights: 4 missing values\n",
            "maximum_nights: 4 missing values\n",
            "\n",
            "  ----------------------------------------------------------------------------------------------------\n",
            "\n"
          ],
          "output_type": "stream"
        }
      ],
      "metadata": {
        "datalore": {
          "node_id": "efOjSAg1QGMXWxAngnr2cr",
          "type": "CODE",
          "hide_input_from_viewers": true,
          "hide_output_from_viewers": true
        },
        "id": "JbQIcy6AKlRb",
        "outputId": "49957cae-1dc9-4f78-d532-22311d0cf68c"
      }
    },
    {
      "cell_type": "markdown",
      "source": [
        "We noticed that some characters are still considered not printable even if the comment shows correctly to the human eye. Identifying every case where a character is not printed correctly is known as a tedious and long task. This is just a preliminary check. Reviews'comments are not often used in a statistical analysis, so we can accept a few bad characters for this project."
      ],
      "metadata": {
        "datalore": {
          "node_id": "g6JEeBNsV6e1bPRv7iTWc4",
          "type": "MD",
          "hide_input_from_viewers": true,
          "hide_output_from_viewers": true
        },
        "id": "ZOpTmuLDKlRb"
      }
    },
    {
      "cell_type": "markdown",
      "source": [
        "### i. Identify rows with only '-' or '.' in the comment column"
      ],
      "metadata": {
        "datalore": {
          "node_id": "ZTMPE55DvnNHhT7VKxxdZf",
          "type": "MD",
          "hide_input_from_viewers": true,
          "hide_output_from_viewers": true
        },
        "id": "IlVoP5G_KlRb"
      }
    },
    {
      "cell_type": "code",
      "source": [
        "rows_with_only_dash_or_dot = df_reviews[df_reviews['comments'].fillna('').str.match(r'^[.-]+$')]\n",
        "rows_with_only_dash_or_dot['comments']"
      ],
      "execution_count": null,
      "outputs": [
        {
          "data": {
            "text/html": [
              "<pre>2355      -\n",
              "6066      .\n",
              "6699      -\n",
              "8816      .\n",
              "9795      .\n",
              "         ..\n",
              "558150    .\n",
              "558491    .\n",
              "558545    .\n",
              "558812    .\n",
              "561253    .\n",
              "Name: comments, Length: 565, dtype: object</pre>"
            ]
          },
          "metadata": {},
          "output_type": "display_data"
        }
      ],
      "metadata": {
        "datalore": {
          "node_id": "am6a2Ovx6LTyMPaqpqGMh1",
          "type": "CODE",
          "hide_input_from_viewers": true,
          "hide_output_from_viewers": true
        },
        "id": "XZden5osKlRb",
        "outputId": "bc581ee7-d223-48a9-cea2-978f4dba35e7"
      }
    },
    {
      "cell_type": "markdown",
      "source": [
        "We have discovered that there are 565 rows in the comments column that consist solely of either a period (.) or a hyphen (-)."
      ],
      "metadata": {
        "datalore": {
          "node_id": "2de5pD4GU8DQn2TVAaNjV6",
          "type": "MD",
          "hide_input_from_viewers": true,
          "hide_output_from_viewers": true
        },
        "id": "IllLe1eZKlRb"
      }
    },
    {
      "cell_type": "markdown",
      "source": [
        "### ii. Checking bad characters in comment"
      ],
      "metadata": {
        "datalore": {
          "node_id": "9tPVCSbjp2rZJv9jUb72Ne",
          "type": "MD",
          "hide_input_from_viewers": true,
          "hide_output_from_viewers": true
        },
        "id": "QJBPBPwGKlRb"
      }
    },
    {
      "cell_type": "code",
      "source": [
        "\n",
        "import string  # Importing string module for ASCII characters\n",
        "\n",
        "\n",
        "#\n",
        "# Function to check for non-printable characters\n",
        "def has_bad_chars(comment):\n",
        "    printable = set(string.printable)\n",
        "\n",
        "    if pd.isna(comment):\n",
        "        return False\n",
        "    else:\n",
        "        comment.replace('<br/>','')\n",
        "        return any(char not in printable for char in comment)\n",
        "\n",
        "# Apply the function to identify rows with non-printable characters\n",
        "rows_with_bad_characters = df_reviews[df_reviews['comments'].apply(has_bad_chars)]\n",
        "\n",
        "# Display rows with comments containing non-printable characters\n",
        "rows_with_bad_characters.head()"
      ],
      "execution_count": null,
      "outputs": [
        {
          "data": {
            "text/html": [
              "<div>\n",
              "<style scoped>\n",
              "    .dataframe tbody tr th:only-of-type {\n",
              "        vertical-align: middle;\n",
              "    }\n",
              "\n",
              "    .dataframe tbody tr th {\n",
              "        vertical-align: top;\n",
              "    }\n",
              "\n",
              "    .dataframe thead th {\n",
              "        text-align: right;\n",
              "    }\n",
              "</style>\n",
              "<table border=\"1\" class=\"dataframe\">\n",
              "  <thead>\n",
              "    <tr style=\"text-align: right;\">\n",
              "      <th></th>\n",
              "      <th>listing_id</th>\n",
              "      <th>review_id</th>\n",
              "      <th>date_review</th>\n",
              "      <th>reviewer_id</th>\n",
              "      <th>reviewer_name</th>\n",
              "      <th>comments</th>\n",
              "      <th>City</th>\n",
              "    </tr>\n",
              "  </thead>\n",
              "  <tbody>\n",
              "    <tr>\n",
              "      <th>9</th>\n",
              "      <td>1736349</td>\n",
              "      <td>47125619</td>\n",
              "      <td>2015-09-15</td>\n",
              "      <td>2046334</td>\n",
              "      <td>Mia</td>\n",
              "      <td>I had a very pleasant 4-night stay at Kerry's. She is a friendly and very considerate host. I fe...</td>\n",
              "      <td>Vancouver</td>\n",
              "    </tr>\n",
              "    <tr>\n",
              "      <th>17</th>\n",
              "      <td>654763</td>\n",
              "      <td>68284317</td>\n",
              "      <td>2016-04-04</td>\n",
              "      <td>14147685</td>\n",
              "      <td>Lilia</td>\n",
              "      <td>I had an amazing stay at this suite !&lt;br/&gt;The hosts are easily reachable and nice :) &lt;br/&gt;The fl...</td>\n",
              "      <td>Vancouver</td>\n",
              "    </tr>\n",
              "    <tr>\n",
              "      <th>31</th>\n",
              "      <td>654763</td>\n",
              "      <td>357595314</td>\n",
              "      <td>2018-12-10</td>\n",
              "      <td>12676029</td>\n",
              "      <td>Stephanie</td>\n",
              "      <td>I stayed three months in Allison's suite and it felt like home. It only takes 25 minutes by bus ...</td>\n",
              "      <td>Vancouver</td>\n",
              "    </tr>\n",
              "    <tr>\n",
              "      <th>34</th>\n",
              "      <td>654763</td>\n",
              "      <td>785648933964729267</td>\n",
              "      <td>2022-12-19</td>\n",
              "      <td>460925760</td>\n",
              "      <td>Leanna</td>\n",
              "      <td>I was here for just over 3 months and it was perfect for what I needed! &lt;br/&gt;It looks exactly li...</td>\n",
              "      <td>Vancouver</td>\n",
              "    </tr>\n",
              "    <tr>\n",
              "      <th>78</th>\n",
              "      <td>659986</td>\n",
              "      <td>90565138</td>\n",
              "      <td>2016-08-01</td>\n",
              "      <td>86325954</td>\n",
              "      <td>May</td>\n",
              "      <td>房东人很好，在我们晚上十点回来打不开门时，回短信速度快，然后下来帮我们开门。房子所在街区非常的安静，很大地方street parking。旁边是Queen Elizabeth park，街道干...</td>\n",
              "      <td>Vancouver</td>\n",
              "    </tr>\n",
              "  </tbody>\n",
              "</table>\n",
              "</div>"
            ]
          },
          "metadata": {},
          "output_type": "display_data"
        }
      ],
      "metadata": {
        "datalore": {
          "node_id": "BGr7uPIXB1Q1GTBuZhTbsn",
          "type": "CODE",
          "hide_input_from_viewers": true,
          "hide_output_from_viewers": true
        },
        "id": "XRZs1UMCKlRb",
        "outputId": "5dee9f9a-d929-4361-948c-34dee934a87f"
      }
    },
    {
      "cell_type": "markdown",
      "source": [
        "### iii. Summary of missing values  \n",
        "**Missing values replaced**\n",
        "  - Neighbourhood group(df_neighbourhoods) --  Neighbourhood group data is not available for Vancouver. It was filled with 'Vancouver'\n",
        "  - neighbourhood_group_cleansed -- Filled with 'Vancouver' since all the missing values are related to 'Vancouver' city.\n",
        "  - Bedrooms and beds - Replaced with median to avoid strange fractions\n",
        "  - Bathrooms - Dropped the column since bathrooms has only missing values\n",
        "  \n",
        "**Missing values (no change)**\n",
        "  - host_is_superhost(df_listings)--  There is no common host_id.\n",
        "  - host_response_rate(df_listings) --  there is no common host_id.\n",
        "  - host_acceptance_rate(df_listings) -- There is no common host_id.\n",
        "  - reviews_per_month(df_listings) -- checked common listing_id for the missing values in  reviews_per_month with remaining listing_id.  there is no common listing_id.\n",
        "  \n",
        "**Missing Values(less important)**\n",
        "  - First review and last review(df_listings) - these columns contain date information. Both columns contain a small percentage of missing values.\n",
        "  - host_about -- Description about the host\n",
        "  - comments -- comments about the host by the reviewer. We have identified 565 rows that contain only '-' or '.' and no other values.\n",
        "  - review_scores_rating -- No details available about the column\n",
        "  "
      ],
      "metadata": {
        "datalore": {
          "node_id": "6ZF7EzNRPfJODj96YDAvq2",
          "type": "MD",
          "hide_input_from_viewers": true,
          "hide_output_from_viewers": true
        },
        "id": "PzzgCBMeKlRb"
      }
    },
    {
      "cell_type": "markdown",
      "source": [
        "## o. Outliers\n",
        "\n",
        "\n",
        "Let's check if we have outliers in price, accomodates, review_scores_rating, reviews_per_month, calculated_host_listings_count\n"
      ],
      "metadata": {
        "datalore": {
          "node_id": "WFqMfWN96aAa9lEq6k2utf",
          "type": "MD",
          "hide_input_from_viewers": true,
          "hide_output_from_viewers": true
        },
        "id": "LCNplRltKlRb"
      }
    },
    {
      "cell_type": "code",
      "source": [
        "# Function to detect outliers using IQR method\n",
        "def detect_outliers(column):\n",
        "    Q1 = column.quantile(0.25)\n",
        "    Q3 = column.quantile(0.75)\n",
        "    IQR = Q3 - Q1\n",
        "\n",
        "    lower_bound = Q1 - 1.5 * IQR\n",
        "    upper_bound = Q3 + 1.5 * IQR\n",
        "\n",
        "    outliers = (column < lower_bound) | (column > upper_bound)\n",
        "    return outliers\n",
        "\n",
        "# Detect outliers in the specified column\n",
        "columns_to_check = ['price', 'accommodates', 'review_scores_rating', 'reviews_per_month','calculated_host_listings_count']\n",
        "\n",
        "for column_name in columns_to_check:\n",
        "    outliers = detect_outliers(df_listings[column_name])\n",
        "    num_outliers = outliers.sum()\n",
        "    print(f\"Outliers in {column_name}: {num_outliers}\")"
      ],
      "execution_count": null,
      "outputs": [
        {
          "name": "stdout",
          "text": [
            "Outliers in price: 740\n",
            "Outliers in accommodates: 641\n",
            "Outliers in review_scores_rating: 613\n",
            "Outliers in reviews_per_month: 262\n",
            "Outliers in calculated_host_listings_count: 1670\n"
          ],
          "output_type": "stream"
        }
      ],
      "metadata": {
        "datalore": {
          "node_id": "uxDXMhKCXlQZHGvjIv2040",
          "type": "CODE",
          "hide_input_from_viewers": true,
          "hide_output_from_viewers": true
        },
        "id": "BeQ8N4vaKlRb",
        "outputId": "ef233a89-babd-447a-bf7d-d5eb2f8ae296"
      }
    },
    {
      "cell_type": "markdown",
      "source": [
        "# C. Master Dataset"
      ],
      "metadata": {
        "datalore": {
          "node_id": "4VnHodSm9OdUz3IfPtGVLO",
          "type": "MD",
          "hide_input_from_viewers": true,
          "hide_output_from_viewers": true
        },
        "id": "LoQ8ubcCKlRb"
      }
    },
    {
      "cell_type": "markdown",
      "source": [
        "### a. Adding new columns\n",
        "Before we merge different dataframes let's look at the unique keys in each of them\n",
        "-> Potential primary keys in each dataframe"
      ],
      "metadata": {
        "datalore": {
          "node_id": "kZvRV7SdSjove36Q7AgLzu",
          "type": "MD",
          "hide_input_from_viewers": true,
          "hide_output_from_viewers": true
        },
        "id": "dyuSm2jKKlRb"
      }
    },
    {
      "cell_type": "code",
      "source": [
        "df_neighbourhoods.name = \"df_neighbourhoods\"\n",
        "df_listings.name = \"df_listings\"\n",
        "df_reviews.name = \"df_reviews\"\n",
        "df_calendar.name = \"df_calendar\"\n",
        "dataframes = [df_neighbourhoods, df_listings, df_reviews, df_calendar]\n",
        "\n",
        "\n",
        "def can_serve_as_key(df, col_name):\n",
        "    nb_unique_values = len(df[col_name].unique())\n",
        "    nb_rows = df.shape[0]\n",
        "\n",
        "    if nb_unique_values == nb_rows:\n",
        "        print(\"YES:\", nb_unique_values, \"unique\", col_name, \"values,\", nb_rows, \"rows\", \"\\n\")\n",
        "        return True\n",
        "    return False\n",
        "\n",
        "\n",
        "for df in dataframes:\n",
        "    print(f\"Checking potential keys for {df.name}:\")\n",
        "\n",
        "    # Flag to track if any potential keys are found\n",
        "    keys_found = False\n",
        "\n",
        "    for column in df.columns:\n",
        "        if can_serve_as_key(df, column):\n",
        "            keys_found = True\n",
        "\n",
        "    # Print if no potential keys are found\n",
        "    if not keys_found:\n",
        "        print(\"No potential keys found\\n\")"
      ],
      "execution_count": null,
      "outputs": [
        {
          "name": "stdout",
          "text": [
            "Checking potential keys for df_neighbourhoods:\n",
            "No potential keys found\n",
            "\n",
            "Checking potential keys for df_listings:\n",
            "YES: 11430 unique listing_id values, 11430 rows \n",
            "\n",
            "Checking potential keys for df_reviews:\n",
            "YES: 561280 unique review_id values, 561280 rows \n",
            "\n",
            "Checking potential keys for df_calendar:\n",
            "No potential keys found\n",
            "\n"
          ],
          "output_type": "stream"
        }
      ],
      "metadata": {
        "datalore": {
          "node_id": "muKyLwcYny6HCeLU1BSXMv",
          "type": "CODE",
          "hide_input_from_viewers": true,
          "hide_output_from_viewers": true
        },
        "id": "nIr4LbMoKlRc",
        "outputId": "e85acf11-8a16-42ea-debc-7db9c699bad4"
      }
    },
    {
      "cell_type": "markdown",
      "source": [
        "### b. Add a new column \"Sentiment\" in df_reviews\n",
        "by analyzing comments and categorizing as positive/negative/neutral using a custom sentiment dictionary\n"
      ],
      "metadata": {
        "datalore": {
          "node_id": "kh6VIyeR3RrKZHnG4XGTNU",
          "type": "MD",
          "hide_input_from_viewers": true,
          "hide_output_from_viewers": true
        },
        "id": "pGtQave5KlRc"
      }
    },
    {
      "cell_type": "code",
      "source": [
        "\n",
        "\n",
        "def is_english(text):\n",
        "    # Define a simple check for English based on ASCII character range\n",
        "    return all(ord(char) < 128 for char in text)\n",
        "\n",
        "\n",
        "\n",
        "def analyze_sentiment_with_dict(review):\n",
        "    sentiment_dict = {\n",
        "        'wonderful': 2, 'love': 2, 'great': 2, 'good': 1, 'pleased': 2,\n",
        "        'pretty': 1, 'peaceful': 1, 'super': 2, 'nice': 1, 'awesome': 2,\n",
        "        'loved': 2, 'loving': 2, 'outstanding': 2, 'comfortable': 1,'enjoyed': 2,\n",
        "        'loud': -1, 'disappointing': -2, 'bad': -1, 'horrible': -2,\n",
        "        'awful': -2, 'terrible': -2, 'amazing': 2, 'fantastic': 2,\n",
        "        'excellent': 2, 'horrid': -2, 'hate': -2, 'disgusting': -2,\n",
        "        'disgusted': -2, 'dislike': -1, 'pleasant': 1, 'unpleasant': -1,\n",
        "        'displeased': -1, 'unpleased': -1, 'displeasing': -1,\n",
        "        'satisfactory': 1, 'unsatisfactory': -1, 'satisfied': 1,\n",
        "        'unsatisfied': -1, 'happy': 2, 'sad': -2, 'joyful': 2,\n",
        "        'miserable': -2, 'excited': 2, 'boring': -1, 'fun': 2,\n",
        "        'bored': -2, 'delighted': 2, 'depressed': -2, 'overjoyed': 2,\n",
        "        'angry': -2, 'calm': 1, 'cheerful': 2, 'grim': -2,\n",
        "        'hopeful': 1, 'hopeless': -2, 'merry': 2, 'melancholy': -1,\n",
        "        'peaceful': 1, 'anxious': -1, 'content': 1, 'discontent': -1,\n",
        "        'brilliant': 2, 'average': 0, 'exceptional': 2, 'mediocre': 0,\n",
        "        'stellar': 2, 'ordinary': 0, 'positive': 1, 'negative': -1,\n",
        "        'upbeat': 1, 'downbeat': -1, 'vibrant': 2, 'dull': -1,\n",
        "        'friendly': 1, 'hostile': -1, 'optimistic': 1, 'pessimistic': -1,\n",
        "        'successful': 2, 'failure': -2, 'efficient': 2, 'inefficient': -2,\n",
        "        'pleasant': 1, 'unpleasant': -1, 'cozy': 1, 'uncomfortable': -1,\n",
        "\n",
        "    }\n",
        "\n",
        "    if isinstance(review, str)and is_english(review):\n",
        "        words = review.lower().split()\n",
        "        sentiment_score = sum(sentiment_dict.get(word, 0) for word in words)\n",
        "\n",
        "        if sentiment_score > 0:\n",
        "            return 'Positive'\n",
        "        elif sentiment_score < 0:\n",
        "            return 'Negative'\n",
        "        else:\n",
        "            return 'Neutral'\n",
        "    else:\n",
        "        return 'NaN'\n",
        "\n",
        "# Apply sentiment analysis to the 'comments' column and create a new column 'review_sentiment'\n",
        "df_reviews['review_sentiment'] = df_reviews['comments'].apply(analyze_sentiment_with_dict)\n",
        "\n",
        "\n",
        "\n",
        "\n"
      ],
      "execution_count": null,
      "outputs": [],
      "metadata": {
        "datalore": {
          "node_id": "F2dP7zpfSzyzEzeqn0i2Kv",
          "type": "CODE",
          "hide_input_from_viewers": true,
          "hide_output_from_viewers": true
        },
        "id": "tIzgKE1CKlRc"
      }
    },
    {
      "cell_type": "markdown",
      "source": [
        "We can expand the dictionary list further to make the code more efficient."
      ],
      "metadata": {
        "datalore": {
          "node_id": "uvqlR2LV5VH4yqqAU4VOrT",
          "type": "MD",
          "hide_input_from_viewers": true,
          "hide_output_from_viewers": true
        },
        "id": "LScSdZPcKlRc"
      }
    },
    {
      "cell_type": "code",
      "source": [
        "display(df_reviews[['comments','review_sentiment']])"
      ],
      "execution_count": null,
      "outputs": [
        {
          "data": {
            "text/html": [
              "<div>\n",
              "<style scoped>\n",
              "    .dataframe tbody tr th:only-of-type {\n",
              "        vertical-align: middle;\n",
              "    }\n",
              "\n",
              "    .dataframe tbody tr th {\n",
              "        vertical-align: top;\n",
              "    }\n",
              "\n",
              "    .dataframe thead th {\n",
              "        text-align: right;\n",
              "    }\n",
              "</style>\n",
              "<table border=\"1\" class=\"dataframe\">\n",
              "  <thead>\n",
              "    <tr style=\"text-align: right;\">\n",
              "      <th></th>\n",
              "      <th>comments</th>\n",
              "      <th>review_sentiment</th>\n",
              "    </tr>\n",
              "  </thead>\n",
              "  <tbody>\n",
              "    <tr>\n",
              "      <th>0</th>\n",
              "      <td>We had a wonderful time! The place is cozy, warm (with a fireplace!), and outfitted with every a...</td>\n",
              "      <td>Positive</td>\n",
              "    </tr>\n",
              "    <tr>\n",
              "      <th>1</th>\n",
              "      <td>Kerry was a fantastic host, very friendly and accommodating. She made sure she was home when we ...</td>\n",
              "      <td>Positive</td>\n",
              "    </tr>\n",
              "    <tr>\n",
              "      <th>2</th>\n",
              "      <td>We had a very great time at Kerry's place. She gave us a lot of tips for our trips in and around...</td>\n",
              "      <td>Positive</td>\n",
              "    </tr>\n",
              "    <tr>\n",
              "      <th>3</th>\n",
              "      <td>The place was very comfortable and felt like home.  I liked how I got to park in a garage and ho...</td>\n",
              "      <td>Positive</td>\n",
              "    </tr>\n",
              "    <tr>\n",
              "      <th>4</th>\n",
              "      <td>We had a few great days in the Townhouse! Just the bed is worth it to book this Room. The brathr...</td>\n",
              "      <td>Positive</td>\n",
              "    </tr>\n",
              "    <tr>\n",
              "      <th>...</th>\n",
              "      <td>...</td>\n",
              "      <td>...</td>\n",
              "    </tr>\n",
              "    <tr>\n",
              "      <th>561275</th>\n",
              "      <td>The Airbnb was conform to the description. we appreciated our stay and the neighborhood. The cit...</td>\n",
              "      <td>Neutral</td>\n",
              "    </tr>\n",
              "    <tr>\n",
              "      <th>561276</th>\n",
              "      <td>I really enjoyed staying at Sam &amp; Rosie's. it's a beautiful location a short walk to the ocean a...</td>\n",
              "      <td>Positive</td>\n",
              "    </tr>\n",
              "    <tr>\n",
              "      <th>561277</th>\n",
              "      <td>Located in a quiet and safe neighborhood, this cozy and clean unit is easily accessible as it is...</td>\n",
              "      <td>Positive</td>\n",
              "    </tr>\n",
              "    <tr>\n",
              "      <th>561278</th>\n",
              "      <td>A great choice if your staying in Oak Bay. Steps from the beach, cozy and easy to access, privat...</td>\n",
              "      <td>Positive</td>\n",
              "    </tr>\n",
              "    <tr>\n",
              "      <th>561279</th>\n",
              "      <td>Very nice little garden suite! Matched the description perfectly. A good place to come back to i...</td>\n",
              "      <td>Positive</td>\n",
              "    </tr>\n",
              "  </tbody>\n",
              "</table>\n",
              "<p>561280 rows × 2 columns</p>\n",
              "</div>"
            ]
          },
          "metadata": {},
          "output_type": "display_data"
        }
      ],
      "metadata": {
        "datalore": {
          "node_id": "KvgmZTP6I1RVDVxyaq5rqW",
          "type": "CODE",
          "hide_input_from_viewers": true,
          "hide_output_from_viewers": true
        },
        "id": "3zpxINJCKlRc",
        "outputId": "360a6b72-7024-43b9-d378-c1753a8fdc1c"
      }
    },
    {
      "cell_type": "code",
      "source": [
        "df_reviews['review_sentiment'].value_counts()"
      ],
      "execution_count": null,
      "outputs": [
        {
          "data": {
            "text/html": [
              "<pre>Positive    363137\n",
              "NaN         117427\n",
              "Neutral      79670\n",
              "Negative      1046\n",
              "Name: review_sentiment, dtype: int64</pre>"
            ]
          },
          "metadata": {},
          "output_type": "display_data"
        }
      ],
      "metadata": {
        "datalore": {
          "node_id": "Gz1Gn99DmgbfMrFPy5VGbj",
          "type": "CODE",
          "hide_input_from_viewers": true,
          "hide_output_from_viewers": true
        },
        "id": "DGwymVbpKlRc",
        "outputId": "994c0a4b-6038-475b-8721-79574ccb5cb1"
      }
    },
    {
      "cell_type": "markdown",
      "source": [
        "We have considered all the non english words as NaN's in the review_sentiment column ."
      ],
      "metadata": {
        "datalore": {
          "node_id": "JhS0dIvPF5l1KgTqaR5mz4",
          "type": "MD",
          "hide_input_from_viewers": true,
          "hide_output_from_viewers": true
        },
        "id": "ZA3RZVWbKlRc"
      }
    },
    {
      "cell_type": "markdown",
      "source": [
        "### c. Average price per listing id per quarter\n",
        "\n",
        "This dataframe consists of average price calculated for every listing_id. Further, this is divided into by quarter for every listing. Therefore, we can view what the price looks like for every quarter for each listing id."
      ],
      "metadata": {
        "datalore": {
          "node_id": "jhMPvMcOA2aRTU7iZVu4SL",
          "type": "MD",
          "hide_input_from_viewers": true,
          "hide_output_from_viewers": true
        },
        "id": "a1TnwVJHKlRc"
      }
    },
    {
      "cell_type": "code",
      "source": [
        "#average price per quarter created with quarter column and average price\n",
        "\n",
        "df_calendar['quarter'] = df_calendar['date_cal'].dt.quarter\n",
        "\n",
        "average_price_per_quarter = df_calendar.groupby(['listing_id', 'quarter'])['adjusted_price'].mean().reset_index()\n",
        "\n",
        "average_price_per_quarter.rename(columns={'adjusted_price': 'average_price_per_quarter'}, inplace=True)\n",
        "\n",
        "df_calendar = pd.merge(df_calendar, average_price_per_quarter[['listing_id', 'quarter', 'average_price_per_quarter']], on=['listing_id', 'quarter'], how='left')\n",
        "\n",
        "average_price_per_quarter['average_price_per_quarter'] = average_price_per_quarter['average_price_per_quarter']\n",
        "\n",
        "df_avg_price_listing_id = average_price_per_quarter[['listing_id', 'quarter', 'average_price_per_quarter']].copy()\n",
        "\n",
        "df_avg_price_listing_id.head(5)"
      ],
      "execution_count": null,
      "outputs": [
        {
          "data": {
            "text/html": [
              "<div>\n",
              "<style scoped>\n",
              "    .dataframe tbody tr th:only-of-type {\n",
              "        vertical-align: middle;\n",
              "    }\n",
              "\n",
              "    .dataframe tbody tr th {\n",
              "        vertical-align: top;\n",
              "    }\n",
              "\n",
              "    .dataframe thead th {\n",
              "        text-align: right;\n",
              "    }\n",
              "</style>\n",
              "<table border=\"1\" class=\"dataframe\">\n",
              "  <thead>\n",
              "    <tr style=\"text-align: right;\">\n",
              "      <th></th>\n",
              "      <th>listing_id</th>\n",
              "      <th>quarter</th>\n",
              "      <th>average_price_per_quarter</th>\n",
              "    </tr>\n",
              "  </thead>\n",
              "  <tbody>\n",
              "    <tr>\n",
              "      <th>0</th>\n",
              "      <td>1591</td>\n",
              "      <td>1</td>\n",
              "      <td>209.000000</td>\n",
              "    </tr>\n",
              "    <tr>\n",
              "      <th>1</th>\n",
              "      <td>1591</td>\n",
              "      <td>2</td>\n",
              "      <td>277.461538</td>\n",
              "    </tr>\n",
              "    <tr>\n",
              "      <th>2</th>\n",
              "      <td>1591</td>\n",
              "      <td>3</td>\n",
              "      <td>338.780220</td>\n",
              "    </tr>\n",
              "    <tr>\n",
              "      <th>3</th>\n",
              "      <td>1591</td>\n",
              "      <td>4</td>\n",
              "      <td>253.239130</td>\n",
              "    </tr>\n",
              "    <tr>\n",
              "      <th>4</th>\n",
              "      <td>13188</td>\n",
              "      <td>1</td>\n",
              "      <td>150.428571</td>\n",
              "    </tr>\n",
              "  </tbody>\n",
              "</table>\n",
              "</div>"
            ]
          },
          "metadata": {},
          "output_type": "display_data"
        }
      ],
      "metadata": {
        "datalore": {
          "node_id": "jXdyKns1xWKeliVWHoLsqc",
          "type": "CODE",
          "hide_input_from_viewers": true,
          "hide_output_from_viewers": true
        },
        "id": "KBf1tQtmKlRc",
        "outputId": "05b49ca7-164b-426a-905b-4a5e2a9f8380"
      }
    },
    {
      "cell_type": "code",
      "source": [
        "#quarterly price merged with df_calender\n",
        "\n",
        "df_avg_price_listing_id_pivot = average_price_per_quarter.pivot(index='listing_id', columns='quarter', values='average_price_per_quarter')\n",
        "df_avg_price_listing_id_pivot.columns = ['calc_avg_price_Q1', 'calc_avg_price_Q2', 'calc_avg_price_Q3', 'calc_avg_price_Q4']\n",
        "df_avg_price_listing_id_pivot.reset_index(inplace=True)\n",
        "df_result = pd.merge(df_calendar, df_avg_price_listing_id_pivot, on='listing_id', how='left')\n",
        "df_result.head(5)\n",
        "\n",
        "\n"
      ],
      "execution_count": null,
      "outputs": [
        {
          "data": {
            "text/html": [
              "<div>\n",
              "<style scoped>\n",
              "    .dataframe tbody tr th:only-of-type {\n",
              "        vertical-align: middle;\n",
              "    }\n",
              "\n",
              "    .dataframe tbody tr th {\n",
              "        vertical-align: top;\n",
              "    }\n",
              "\n",
              "    .dataframe thead th {\n",
              "        text-align: right;\n",
              "    }\n",
              "</style>\n",
              "<table border=\"1\" class=\"dataframe\">\n",
              "  <thead>\n",
              "    <tr style=\"text-align: right;\">\n",
              "      <th></th>\n",
              "      <th>listing_id</th>\n",
              "      <th>date_cal</th>\n",
              "      <th>available</th>\n",
              "      <th>price</th>\n",
              "      <th>adjusted_price</th>\n",
              "      <th>minimum_nights</th>\n",
              "      <th>maximum_nights</th>\n",
              "      <th>City</th>\n",
              "      <th>quarter</th>\n",
              "      <th>average_price_per_quarter</th>\n",
              "      <th>calc_avg_price_Q1</th>\n",
              "      <th>calc_avg_price_Q2</th>\n",
              "      <th>calc_avg_price_Q3</th>\n",
              "      <th>calc_avg_price_Q4</th>\n",
              "    </tr>\n",
              "  </thead>\n",
              "  <tbody>\n",
              "    <tr>\n",
              "      <th>0</th>\n",
              "      <td>13188</td>\n",
              "      <td>2023-09-06</td>\n",
              "      <td>f</td>\n",
              "      <td>154.0</td>\n",
              "      <td>154.0</td>\n",
              "      <td>2.0</td>\n",
              "      <td>180.0</td>\n",
              "      <td>Vancouver</td>\n",
              "      <td>3</td>\n",
              "      <td>151.604396</td>\n",
              "      <td>150.428571</td>\n",
              "      <td>150.692308</td>\n",
              "      <td>151.604396</td>\n",
              "      <td>150.282609</td>\n",
              "    </tr>\n",
              "    <tr>\n",
              "      <th>1</th>\n",
              "      <td>13188</td>\n",
              "      <td>2023-09-07</td>\n",
              "      <td>f</td>\n",
              "      <td>150.0</td>\n",
              "      <td>150.0</td>\n",
              "      <td>2.0</td>\n",
              "      <td>180.0</td>\n",
              "      <td>Vancouver</td>\n",
              "      <td>3</td>\n",
              "      <td>151.604396</td>\n",
              "      <td>150.428571</td>\n",
              "      <td>150.692308</td>\n",
              "      <td>151.604396</td>\n",
              "      <td>150.282609</td>\n",
              "    </tr>\n",
              "    <tr>\n",
              "      <th>2</th>\n",
              "      <td>13188</td>\n",
              "      <td>2023-09-08</td>\n",
              "      <td>f</td>\n",
              "      <td>152.0</td>\n",
              "      <td>152.0</td>\n",
              "      <td>2.0</td>\n",
              "      <td>180.0</td>\n",
              "      <td>Vancouver</td>\n",
              "      <td>3</td>\n",
              "      <td>151.604396</td>\n",
              "      <td>150.428571</td>\n",
              "      <td>150.692308</td>\n",
              "      <td>151.604396</td>\n",
              "      <td>150.282609</td>\n",
              "    </tr>\n",
              "    <tr>\n",
              "      <th>3</th>\n",
              "      <td>13188</td>\n",
              "      <td>2023-09-09</td>\n",
              "      <td>t</td>\n",
              "      <td>150.0</td>\n",
              "      <td>150.0</td>\n",
              "      <td>2.0</td>\n",
              "      <td>180.0</td>\n",
              "      <td>Vancouver</td>\n",
              "      <td>3</td>\n",
              "      <td>151.604396</td>\n",
              "      <td>150.428571</td>\n",
              "      <td>150.692308</td>\n",
              "      <td>151.604396</td>\n",
              "      <td>150.282609</td>\n",
              "    </tr>\n",
              "    <tr>\n",
              "      <th>4</th>\n",
              "      <td>13188</td>\n",
              "      <td>2023-09-10</td>\n",
              "      <td>f</td>\n",
              "      <td>151.0</td>\n",
              "      <td>151.0</td>\n",
              "      <td>2.0</td>\n",
              "      <td>180.0</td>\n",
              "      <td>Vancouver</td>\n",
              "      <td>3</td>\n",
              "      <td>151.604396</td>\n",
              "      <td>150.428571</td>\n",
              "      <td>150.692308</td>\n",
              "      <td>151.604396</td>\n",
              "      <td>150.282609</td>\n",
              "    </tr>\n",
              "  </tbody>\n",
              "</table>\n",
              "</div>"
            ]
          },
          "metadata": {},
          "output_type": "display_data"
        }
      ],
      "metadata": {
        "datalore": {
          "node_id": "26FN7TOPMH7bofalPKXlgs",
          "type": "CODE",
          "hide_input_from_viewers": true,
          "hide_output_from_viewers": true
        },
        "id": "jcjURAn-KlRc",
        "outputId": "19fa4165-7a45-4c1b-8f76-602251de99b2"
      }
    },
    {
      "cell_type": "code",
      "source": [
        "#quarterly price merged with df_listings\n",
        "\n",
        "df_listings = pd.merge(df_listings, df_avg_price_listing_id_pivot, on='listing_id', how='left')\n",
        "df_listings.head(5)"
      ],
      "execution_count": null,
      "outputs": [
        {
          "data": {
            "text/html": [
              "<div>\n",
              "<style scoped>\n",
              "    .dataframe tbody tr th:only-of-type {\n",
              "        vertical-align: middle;\n",
              "    }\n",
              "\n",
              "    .dataframe tbody tr th {\n",
              "        vertical-align: top;\n",
              "    }\n",
              "\n",
              "    .dataframe thead th {\n",
              "        text-align: right;\n",
              "    }\n",
              "</style>\n",
              "<table border=\"1\" class=\"dataframe\">\n",
              "  <thead>\n",
              "    <tr style=\"text-align: right;\">\n",
              "      <th></th>\n",
              "      <th>listing_id</th>\n",
              "      <th>host_id</th>\n",
              "      <th>host_since</th>\n",
              "      <th>host_location</th>\n",
              "      <th>host_about</th>\n",
              "      <th>host_response_time</th>\n",
              "      <th>host_response_rate</th>\n",
              "      <th>host_acceptance_rate</th>\n",
              "      <th>host_is_superhost</th>\n",
              "      <th>host_neighbourhood</th>\n",
              "      <th>host_listings_count</th>\n",
              "      <th>host_total_listings_count</th>\n",
              "      <th>host_verifications</th>\n",
              "      <th>host_identity_verified</th>\n",
              "      <th>neighbourhood</th>\n",
              "      <th>neighbourhood_cleansed</th>\n",
              "      <th>neighbourhood_group_cleansed</th>\n",
              "      <th>latitude</th>\n",
              "      <th>longitude</th>\n",
              "      <th>property_type</th>\n",
              "      <th>room_type</th>\n",
              "      <th>accommodates</th>\n",
              "      <th>bathrooms_text</th>\n",
              "      <th>bedrooms</th>\n",
              "      <th>beds</th>\n",
              "      <th>amenities</th>\n",
              "      <th>price</th>\n",
              "      <th>calendar_updated</th>\n",
              "      <th>has_availability</th>\n",
              "      <th>availability_365</th>\n",
              "      <th>number_of_reviews</th>\n",
              "      <th>number_of_reviews_ltm</th>\n",
              "      <th>number_of_reviews_l30d</th>\n",
              "      <th>first_review</th>\n",
              "      <th>last_review</th>\n",
              "      <th>review_scores_rating</th>\n",
              "      <th>review_scores_accuracy</th>\n",
              "      <th>review_scores_cleanliness</th>\n",
              "      <th>review_scores_checkin</th>\n",
              "      <th>review_scores_communication</th>\n",
              "      <th>review_scores_location</th>\n",
              "      <th>review_scores_value</th>\n",
              "      <th>instant_bookable</th>\n",
              "      <th>calculated_host_listings_count</th>\n",
              "      <th>calculated_host_listings_count_entire_homes</th>\n",
              "      <th>calculated_host_listings_count_private_rooms</th>\n",
              "      <th>calculated_host_listings_count_shared_rooms</th>\n",
              "      <th>reviews_per_month</th>\n",
              "      <th>calc_dist_from_center</th>\n",
              "      <th>City</th>\n",
              "      <th>calc_avg_price_Q1</th>\n",
              "      <th>calc_avg_price_Q2</th>\n",
              "      <th>calc_avg_price_Q3</th>\n",
              "      <th>calc_avg_price_Q4</th>\n",
              "    </tr>\n",
              "  </thead>\n",
              "  <tbody>\n",
              "    <tr>\n",
              "      <th>0</th>\n",
              "      <td>13188</td>\n",
              "      <td>51466</td>\n",
              "      <td>2009-11-04</td>\n",
              "      <td>Vancouver, Canada</td>\n",
              "      <td>We are a family who love to travel in comfort and enjoy the ethos and community spirit of AirBNB...</td>\n",
              "      <td>within an hour</td>\n",
              "      <td>1.0</td>\n",
              "      <td>1.00</td>\n",
              "      <td>t</td>\n",
              "      <td>Riley Park</td>\n",
              "      <td>2</td>\n",
              "      <td>3</td>\n",
              "      <td>['email', 'phone']</td>\n",
              "      <td>t</td>\n",
              "      <td>Vancouver, British Columbia, Canada</td>\n",
              "      <td>Riley Park</td>\n",
              "      <td>Vancouver</td>\n",
              "      <td>49.24773</td>\n",
              "      <td>-123.10509</td>\n",
              "      <td>House</td>\n",
              "      <td>Entire home/apt</td>\n",
              "      <td>4</td>\n",
              "      <td>1 bath</td>\n",
              "      <td>2.0</td>\n",
              "      <td>2.0</td>\n",
              "      <td>[\"Carbon monoxide alarm\", \"Dryer\", \"Body soap\", \"Microwave\", \"Pack \\u2019n play/Travel crib\", \"I...</td>\n",
              "      <td>151.0</td>\n",
              "      <td>NaN</td>\n",
              "      <td>t</td>\n",
              "      <td>299</td>\n",
              "      <td>277</td>\n",
              "      <td>21</td>\n",
              "      <td>7</td>\n",
              "      <td>2010-02-21</td>\n",
              "      <td>2023-09-03</td>\n",
              "      <td>4.83</td>\n",
              "      <td>4.87</td>\n",
              "      <td>4.84</td>\n",
              "      <td>4.86</td>\n",
              "      <td>4.92</td>\n",
              "      <td>4.88</td>\n",
              "      <td>4.80</td>\n",
              "      <td>f</td>\n",
              "      <td>2</td>\n",
              "      <td>2</td>\n",
              "      <td>0</td>\n",
              "      <td>0</td>\n",
              "      <td>1.68</td>\n",
              "      <td>4.223747</td>\n",
              "      <td>Vancouver</td>\n",
              "      <td>150.428571</td>\n",
              "      <td>150.692308</td>\n",
              "      <td>151.604396</td>\n",
              "      <td>150.282609</td>\n",
              "    </tr>\n",
              "    <tr>\n",
              "      <th>1</th>\n",
              "      <td>13358</td>\n",
              "      <td>52116</td>\n",
              "      <td>2009-11-07</td>\n",
              "      <td>Vancouver, Canada</td>\n",
              "      <td>I am from Vancouver and in my free time enjoy Yoga, exploring the neighborhoods of my hometown ,...</td>\n",
              "      <td>within an hour</td>\n",
              "      <td>1.0</td>\n",
              "      <td>0.98</td>\n",
              "      <td>f</td>\n",
              "      <td>Downtown Vancouver</td>\n",
              "      <td>1</td>\n",
              "      <td>1</td>\n",
              "      <td>['email', 'phone']</td>\n",
              "      <td>t</td>\n",
              "      <td>NaN</td>\n",
              "      <td>West End</td>\n",
              "      <td>Vancouver</td>\n",
              "      <td>49.28201</td>\n",
              "      <td>-123.12669</td>\n",
              "      <td>Apartment</td>\n",
              "      <td>Entire home/apt</td>\n",
              "      <td>2</td>\n",
              "      <td>1 bath</td>\n",
              "      <td>1.0</td>\n",
              "      <td>1.0</td>\n",
              "      <td>[\"Shower gel\", \"Carbon monoxide alarm\", \"Body soap\", \"Microwave\", \"Iron\", \"Shampoo\", \"Baking she...</td>\n",
              "      <td>215.0</td>\n",
              "      <td>NaN</td>\n",
              "      <td>t</td>\n",
              "      <td>108</td>\n",
              "      <td>476</td>\n",
              "      <td>39</td>\n",
              "      <td>4</td>\n",
              "      <td>2010-06-22</td>\n",
              "      <td>2023-08-20</td>\n",
              "      <td>4.68</td>\n",
              "      <td>4.75</td>\n",
              "      <td>4.81</td>\n",
              "      <td>4.83</td>\n",
              "      <td>4.79</td>\n",
              "      <td>4.92</td>\n",
              "      <td>4.65</td>\n",
              "      <td>f</td>\n",
              "      <td>1</td>\n",
              "      <td>1</td>\n",
              "      <td>0</td>\n",
              "      <td>0</td>\n",
              "      <td>2.96</td>\n",
              "      <td>0.172432</td>\n",
              "      <td>Vancouver</td>\n",
              "      <td>175.054945</td>\n",
              "      <td>179.890110</td>\n",
              "      <td>176.494505</td>\n",
              "      <td>186.086957</td>\n",
              "    </tr>\n",
              "    <tr>\n",
              "      <th>2</th>\n",
              "      <td>13490</td>\n",
              "      <td>52467</td>\n",
              "      <td>2009-11-08</td>\n",
              "      <td>Vancouver, Canada</td>\n",
              "      <td>Hello! My husband Fred and I are actors living in central Vancouver.  We pride ourselves on host...</td>\n",
              "      <td>within an hour</td>\n",
              "      <td>1.0</td>\n",
              "      <td>0.96</td>\n",
              "      <td>t</td>\n",
              "      <td>Kensington-Cedar Cottage</td>\n",
              "      <td>3</td>\n",
              "      <td>4</td>\n",
              "      <td>['email', 'phone']</td>\n",
              "      <td>t</td>\n",
              "      <td>Vancouver, British Columbia, Canada</td>\n",
              "      <td>Kensington-Cedar Cottage</td>\n",
              "      <td>Vancouver</td>\n",
              "      <td>49.25622</td>\n",
              "      <td>-123.06607</td>\n",
              "      <td>House</td>\n",
              "      <td>Entire home/apt</td>\n",
              "      <td>2</td>\n",
              "      <td>1 bath</td>\n",
              "      <td>1.0</td>\n",
              "      <td>1.0</td>\n",
              "      <td>[\"Shower gel\", \"Carbon monoxide alarm\", \"Lake view\", \"Dryer\", \"Indoor fireplace: electric\", \"Cen...</td>\n",
              "      <td>150.0</td>\n",
              "      <td>NaN</td>\n",
              "      <td>t</td>\n",
              "      <td>40</td>\n",
              "      <td>99</td>\n",
              "      <td>5</td>\n",
              "      <td>0</td>\n",
              "      <td>2011-06-02</td>\n",
              "      <td>2023-08-03</td>\n",
              "      <td>4.92</td>\n",
              "      <td>4.93</td>\n",
              "      <td>4.96</td>\n",
              "      <td>4.96</td>\n",
              "      <td>4.97</td>\n",
              "      <td>4.79</td>\n",
              "      <td>4.89</td>\n",
              "      <td>f</td>\n",
              "      <td>1</td>\n",
              "      <td>1</td>\n",
              "      <td>0</td>\n",
              "      <td>0</td>\n",
              "      <td>0.66</td>\n",
              "      <td>5.264514</td>\n",
              "      <td>Vancouver</td>\n",
              "      <td>150.000000</td>\n",
              "      <td>150.000000</td>\n",
              "      <td>150.000000</td>\n",
              "      <td>150.000000</td>\n",
              "    </tr>\n",
              "    <tr>\n",
              "      <th>3</th>\n",
              "      <td>14267</td>\n",
              "      <td>56030</td>\n",
              "      <td>2009-11-20</td>\n",
              "      <td>Vancouver, Canada</td>\n",
              "      <td>We moved into this central Vancouver location 2005.  We were the first residential applicant of ...</td>\n",
              "      <td>NaN</td>\n",
              "      <td>NaN</td>\n",
              "      <td>NaN</td>\n",
              "      <td>f</td>\n",
              "      <td>Kensington-Cedar Cottage</td>\n",
              "      <td>1</td>\n",
              "      <td>1</td>\n",
              "      <td>['email', 'phone']</td>\n",
              "      <td>t</td>\n",
              "      <td>Vancouver, British Columbia, Canada</td>\n",
              "      <td>Kensington-Cedar Cottage</td>\n",
              "      <td>Vancouver</td>\n",
              "      <td>49.24922</td>\n",
              "      <td>-123.08139</td>\n",
              "      <td>House</td>\n",
              "      <td>Entire home/apt</td>\n",
              "      <td>4</td>\n",
              "      <td>1 bath</td>\n",
              "      <td>1.0</td>\n",
              "      <td>2.0</td>\n",
              "      <td>[\"Dryer\", \"Microwave\", \"Pack \\u2019n play/Travel crib\", \"Iron\", \"Shampoo\", \"Pets allowed\", \"Wash...</td>\n",
              "      <td>150.0</td>\n",
              "      <td>NaN</td>\n",
              "      <td>t</td>\n",
              "      <td>31</td>\n",
              "      <td>34</td>\n",
              "      <td>0</td>\n",
              "      <td>0</td>\n",
              "      <td>2010-10-03</td>\n",
              "      <td>2021-07-14</td>\n",
              "      <td>4.76</td>\n",
              "      <td>4.84</td>\n",
              "      <td>4.68</td>\n",
              "      <td>4.90</td>\n",
              "      <td>4.68</td>\n",
              "      <td>4.77</td>\n",
              "      <td>4.71</td>\n",
              "      <td>t</td>\n",
              "      <td>1</td>\n",
              "      <td>1</td>\n",
              "      <td>0</td>\n",
              "      <td>0</td>\n",
              "      <td>0.22</td>\n",
              "      <td>4.962790</td>\n",
              "      <td>Vancouver</td>\n",
              "      <td>150.000000</td>\n",
              "      <td>150.000000</td>\n",
              "      <td>150.000000</td>\n",
              "      <td>150.000000</td>\n",
              "    </tr>\n",
              "    <tr>\n",
              "      <th>4</th>\n",
              "      <td>14424</td>\n",
              "      <td>56709</td>\n",
              "      <td>2009-11-23</td>\n",
              "      <td>Vancouver, Canada</td>\n",
              "      <td>Hi! Thanks for visiting my page... I'm a mother, and a health and wellness coach, living and wor...</td>\n",
              "      <td>within a few hours</td>\n",
              "      <td>1.0</td>\n",
              "      <td>0.78</td>\n",
              "      <td>f</td>\n",
              "      <td>Downtown Eastside</td>\n",
              "      <td>4</td>\n",
              "      <td>4</td>\n",
              "      <td>['email', 'phone']</td>\n",
              "      <td>t</td>\n",
              "      <td>NaN</td>\n",
              "      <td>Downtown Eastside</td>\n",
              "      <td>Vancouver</td>\n",
              "      <td>49.27921</td>\n",
              "      <td>-123.08835</td>\n",
              "      <td>Other</td>\n",
              "      <td>Entire home/apt</td>\n",
              "      <td>2</td>\n",
              "      <td>1 bath</td>\n",
              "      <td>1.0</td>\n",
              "      <td>1.0</td>\n",
              "      <td>[\"Shower gel\", \"Carbon monoxide alarm\", \"Air conditioning\", \"Microwave\", \"Iron\", \"Shampoo\", \"Bak...</td>\n",
              "      <td>135.0</td>\n",
              "      <td>NaN</td>\n",
              "      <td>t</td>\n",
              "      <td>124</td>\n",
              "      <td>269</td>\n",
              "      <td>8</td>\n",
              "      <td>1</td>\n",
              "      <td>2010-02-15</td>\n",
              "      <td>2023-09-03</td>\n",
              "      <td>4.69</td>\n",
              "      <td>4.84</td>\n",
              "      <td>4.93</td>\n",
              "      <td>4.85</td>\n",
              "      <td>4.72</td>\n",
              "      <td>4.60</td>\n",
              "      <td>4.73</td>\n",
              "      <td>f</td>\n",
              "      <td>4</td>\n",
              "      <td>4</td>\n",
              "      <td>0</td>\n",
              "      <td>0</td>\n",
              "      <td>1.63</td>\n",
              "      <td>2.733528</td>\n",
              "      <td>Vancouver</td>\n",
              "      <td>135.000000</td>\n",
              "      <td>135.000000</td>\n",
              "      <td>135.000000</td>\n",
              "      <td>135.000000</td>\n",
              "    </tr>\n",
              "  </tbody>\n",
              "</table>\n",
              "</div>"
            ]
          },
          "metadata": {},
          "output_type": "display_data"
        }
      ],
      "metadata": {
        "datalore": {
          "node_id": "RmVd2JpSrTwgU51vPhxxkH",
          "type": "CODE",
          "hide_input_from_viewers": true,
          "hide_output_from_viewers": true
        },
        "id": "7-YEFnpIKlRc",
        "outputId": "925b0b4a-a6fc-4e8a-e387-e1f507062baf"
      }
    },
    {
      "cell_type": "markdown",
      "source": [
        "### d. Total Number of reviews per host\n",
        "The dataframe df_listings has total number of reviews per listing however no column for total number of reviews per host. hence added a new column which calculates the same."
      ],
      "metadata": {
        "datalore": {
          "node_id": "dIWXyqnrgIrw3h3TWIdPWK",
          "type": "MD",
          "hide_input_from_viewers": true,
          "hide_output_from_viewers": true
        },
        "id": "YnLIkhrKKlRc"
      }
    },
    {
      "cell_type": "code",
      "source": [
        "\n",
        "reviews_host = df_listings.groupby('host_id')['number_of_reviews'].agg(calc_total_host_reviews='sum').reset_index()\n",
        "df_listings = df_listings.merge(\n",
        "    reviews_host,\n",
        "    on= \"host_id\",\n",
        "    how='left'\n",
        ")"
      ],
      "execution_count": null,
      "outputs": [],
      "metadata": {
        "datalore": {
          "node_id": "nvJHef4Oalo6sqwxtjs5Gd",
          "type": "CODE",
          "hide_input_from_viewers": true,
          "hide_output_from_viewers": true
        },
        "id": "PcEJJSf4KlRc"
      }
    },
    {
      "cell_type": "markdown",
      "source": [
        "### e. Calculated number of reviews for last twelve months"
      ],
      "metadata": {
        "datalore": {
          "node_id": "qEbXPrSGFqGYJuxpYo7OaT",
          "type": "MD",
          "hide_input_from_viewers": true,
          "hide_output_from_viewers": true
        },
        "id": "r-u1t-53KlRc"
      }
    },
    {
      "cell_type": "code",
      "source": [
        "\n",
        "# date.today() Returns the current local date\n",
        "last_year_today0 = date.today() + timedelta(days=-365)\n",
        "# convert to pandas timestamp\n",
        "last_year_today = pd.to_datetime(last_year_today0)\n",
        "calc_reviews_ltm = df_reviews[df_reviews['date_review']>last_year_today].groupby('listing_id')['date_review'].agg(calc_reviews_ltm='count').reset_index()\n",
        "df_listings = df_listings.merge(calc_reviews_ltm,on= \"listing_id\",how='left')\n",
        "#display(df_listings.head())"
      ],
      "execution_count": null,
      "outputs": [],
      "metadata": {
        "datalore": {
          "node_id": "7EvyOAt8l0CsTTZrAKsfKz",
          "type": "CODE",
          "hide_input_from_viewers": true,
          "hide_output_from_viewers": true
        },
        "id": "PiZTBkl_KlRc"
      }
    },
    {
      "cell_type": "markdown",
      "source": [],
      "metadata": {
        "datalore": {
          "node_id": "aYPRQXTokjDNgAjIkXgmhb",
          "type": "MD",
          "hide_input_from_viewers": true,
          "hide_output_from_viewers": true
        },
        "id": "rPhdjUvWKlRd"
      }
    },
    {
      "cell_type": "markdown",
      "source": [
        "### f. Add price range and avg price for the coming year for each listing in df_listings"
      ],
      "metadata": {
        "datalore": {
          "node_id": "j7pVHotA64a7gmqDUe4Fl9",
          "type": "MD",
          "hide_input_from_viewers": true,
          "hide_output_from_viewers": true
        },
        "id": "PKY3gDJkKlRd"
      }
    },
    {
      "cell_type": "code",
      "source": [
        "\n",
        "#Calculate the price range from the calendar for each listing in df_calendar\n",
        "grouped = df_calendar.groupby(df_calendar['listing_id'])\n",
        "grouped2 = grouped.agg({'adjusted_price': ['min','max','mean']})\n",
        "grouped2.columns = ['calc_future_min_price', 'calc_future_max_price', 'calc_future_avg_price']\n",
        "# Resetting the index to bring 'listing_id' back as a column\n",
        "grouped2.reset_index(inplace=True)\n",
        "# merge with df_listings, don't add listing_id as we already have it\n",
        "df_listings = df_listings.merge(grouped2, left_on='listing_id', right_on='listing_id', right_index=False)\n",
        "# added the 3 columns, listing_id is not needed, it's already there\n",
        "df_listings.head()"
      ],
      "execution_count": null,
      "outputs": [
        {
          "data": {
            "text/html": [
              "<div>\n",
              "<style scoped>\n",
              "    .dataframe tbody tr th:only-of-type {\n",
              "        vertical-align: middle;\n",
              "    }\n",
              "\n",
              "    .dataframe tbody tr th {\n",
              "        vertical-align: top;\n",
              "    }\n",
              "\n",
              "    .dataframe thead th {\n",
              "        text-align: right;\n",
              "    }\n",
              "</style>\n",
              "<table border=\"1\" class=\"dataframe\">\n",
              "  <thead>\n",
              "    <tr style=\"text-align: right;\">\n",
              "      <th></th>\n",
              "      <th>listing_id</th>\n",
              "      <th>host_id</th>\n",
              "      <th>host_since</th>\n",
              "      <th>host_location</th>\n",
              "      <th>host_about</th>\n",
              "      <th>host_response_time</th>\n",
              "      <th>host_response_rate</th>\n",
              "      <th>host_acceptance_rate</th>\n",
              "      <th>host_is_superhost</th>\n",
              "      <th>host_neighbourhood</th>\n",
              "      <th>host_listings_count</th>\n",
              "      <th>host_total_listings_count</th>\n",
              "      <th>host_verifications</th>\n",
              "      <th>host_identity_verified</th>\n",
              "      <th>neighbourhood</th>\n",
              "      <th>neighbourhood_cleansed</th>\n",
              "      <th>neighbourhood_group_cleansed</th>\n",
              "      <th>latitude</th>\n",
              "      <th>longitude</th>\n",
              "      <th>property_type</th>\n",
              "      <th>room_type</th>\n",
              "      <th>accommodates</th>\n",
              "      <th>bathrooms_text</th>\n",
              "      <th>bedrooms</th>\n",
              "      <th>beds</th>\n",
              "      <th>amenities</th>\n",
              "      <th>price</th>\n",
              "      <th>calendar_updated</th>\n",
              "      <th>has_availability</th>\n",
              "      <th>availability_365</th>\n",
              "      <th>number_of_reviews</th>\n",
              "      <th>number_of_reviews_ltm</th>\n",
              "      <th>number_of_reviews_l30d</th>\n",
              "      <th>first_review</th>\n",
              "      <th>last_review</th>\n",
              "      <th>review_scores_rating</th>\n",
              "      <th>review_scores_accuracy</th>\n",
              "      <th>review_scores_cleanliness</th>\n",
              "      <th>review_scores_checkin</th>\n",
              "      <th>review_scores_communication</th>\n",
              "      <th>review_scores_location</th>\n",
              "      <th>review_scores_value</th>\n",
              "      <th>instant_bookable</th>\n",
              "      <th>calculated_host_listings_count</th>\n",
              "      <th>calculated_host_listings_count_entire_homes</th>\n",
              "      <th>calculated_host_listings_count_private_rooms</th>\n",
              "      <th>calculated_host_listings_count_shared_rooms</th>\n",
              "      <th>reviews_per_month</th>\n",
              "      <th>calc_dist_from_center</th>\n",
              "      <th>City</th>\n",
              "      <th>calc_avg_price_Q1</th>\n",
              "      <th>calc_avg_price_Q2</th>\n",
              "      <th>calc_avg_price_Q3</th>\n",
              "      <th>calc_avg_price_Q4</th>\n",
              "      <th>calc_total_host_reviews</th>\n",
              "      <th>calc_reviews_ltm</th>\n",
              "      <th>calc_future_min_price</th>\n",
              "      <th>calc_future_max_price</th>\n",
              "      <th>calc_future_avg_price</th>\n",
              "    </tr>\n",
              "  </thead>\n",
              "  <tbody>\n",
              "    <tr>\n",
              "      <th>0</th>\n",
              "      <td>13188</td>\n",
              "      <td>51466</td>\n",
              "      <td>2009-11-04</td>\n",
              "      <td>Vancouver, Canada</td>\n",
              "      <td>We are a family who love to travel in comfort and enjoy the ethos and community spirit of AirBNB...</td>\n",
              "      <td>within an hour</td>\n",
              "      <td>1.0</td>\n",
              "      <td>1.00</td>\n",
              "      <td>t</td>\n",
              "      <td>Riley Park</td>\n",
              "      <td>2</td>\n",
              "      <td>3</td>\n",
              "      <td>['email', 'phone']</td>\n",
              "      <td>t</td>\n",
              "      <td>Vancouver, British Columbia, Canada</td>\n",
              "      <td>Riley Park</td>\n",
              "      <td>Vancouver</td>\n",
              "      <td>49.24773</td>\n",
              "      <td>-123.10509</td>\n",
              "      <td>House</td>\n",
              "      <td>Entire home/apt</td>\n",
              "      <td>4</td>\n",
              "      <td>1 bath</td>\n",
              "      <td>2.0</td>\n",
              "      <td>2.0</td>\n",
              "      <td>[\"Carbon monoxide alarm\", \"Dryer\", \"Body soap\", \"Microwave\", \"Pack \\u2019n play/Travel crib\", \"I...</td>\n",
              "      <td>151.0</td>\n",
              "      <td>NaN</td>\n",
              "      <td>t</td>\n",
              "      <td>299</td>\n",
              "      <td>277</td>\n",
              "      <td>21</td>\n",
              "      <td>7</td>\n",
              "      <td>2010-02-21</td>\n",
              "      <td>2023-09-03</td>\n",
              "      <td>4.83</td>\n",
              "      <td>4.87</td>\n",
              "      <td>4.84</td>\n",
              "      <td>4.86</td>\n",
              "      <td>4.92</td>\n",
              "      <td>4.88</td>\n",
              "      <td>4.80</td>\n",
              "      <td>f</td>\n",
              "      <td>2</td>\n",
              "      <td>2</td>\n",
              "      <td>0</td>\n",
              "      <td>0</td>\n",
              "      <td>1.68</td>\n",
              "      <td>4.223747</td>\n",
              "      <td>Vancouver</td>\n",
              "      <td>150.428571</td>\n",
              "      <td>150.692308</td>\n",
              "      <td>151.604396</td>\n",
              "      <td>150.282609</td>\n",
              "      <td>304</td>\n",
              "      <td>21.0</td>\n",
              "      <td>150.0</td>\n",
              "      <td>154.0</td>\n",
              "      <td>150.750685</td>\n",
              "    </tr>\n",
              "    <tr>\n",
              "      <th>1</th>\n",
              "      <td>13358</td>\n",
              "      <td>52116</td>\n",
              "      <td>2009-11-07</td>\n",
              "      <td>Vancouver, Canada</td>\n",
              "      <td>I am from Vancouver and in my free time enjoy Yoga, exploring the neighborhoods of my hometown ,...</td>\n",
              "      <td>within an hour</td>\n",
              "      <td>1.0</td>\n",
              "      <td>0.98</td>\n",
              "      <td>f</td>\n",
              "      <td>Downtown Vancouver</td>\n",
              "      <td>1</td>\n",
              "      <td>1</td>\n",
              "      <td>['email', 'phone']</td>\n",
              "      <td>t</td>\n",
              "      <td>NaN</td>\n",
              "      <td>West End</td>\n",
              "      <td>Vancouver</td>\n",
              "      <td>49.28201</td>\n",
              "      <td>-123.12669</td>\n",
              "      <td>Apartment</td>\n",
              "      <td>Entire home/apt</td>\n",
              "      <td>2</td>\n",
              "      <td>1 bath</td>\n",
              "      <td>1.0</td>\n",
              "      <td>1.0</td>\n",
              "      <td>[\"Shower gel\", \"Carbon monoxide alarm\", \"Body soap\", \"Microwave\", \"Iron\", \"Shampoo\", \"Baking she...</td>\n",
              "      <td>215.0</td>\n",
              "      <td>NaN</td>\n",
              "      <td>t</td>\n",
              "      <td>108</td>\n",
              "      <td>476</td>\n",
              "      <td>39</td>\n",
              "      <td>4</td>\n",
              "      <td>2010-06-22</td>\n",
              "      <td>2023-08-20</td>\n",
              "      <td>4.68</td>\n",
              "      <td>4.75</td>\n",
              "      <td>4.81</td>\n",
              "      <td>4.83</td>\n",
              "      <td>4.79</td>\n",
              "      <td>4.92</td>\n",
              "      <td>4.65</td>\n",
              "      <td>f</td>\n",
              "      <td>1</td>\n",
              "      <td>1</td>\n",
              "      <td>0</td>\n",
              "      <td>0</td>\n",
              "      <td>2.96</td>\n",
              "      <td>0.172432</td>\n",
              "      <td>Vancouver</td>\n",
              "      <td>175.054945</td>\n",
              "      <td>179.890110</td>\n",
              "      <td>176.494505</td>\n",
              "      <td>186.086957</td>\n",
              "      <td>476</td>\n",
              "      <td>37.0</td>\n",
              "      <td>150.0</td>\n",
              "      <td>285.0</td>\n",
              "      <td>179.400000</td>\n",
              "    </tr>\n",
              "    <tr>\n",
              "      <th>2</th>\n",
              "      <td>13490</td>\n",
              "      <td>52467</td>\n",
              "      <td>2009-11-08</td>\n",
              "      <td>Vancouver, Canada</td>\n",
              "      <td>Hello! My husband Fred and I are actors living in central Vancouver.  We pride ourselves on host...</td>\n",
              "      <td>within an hour</td>\n",
              "      <td>1.0</td>\n",
              "      <td>0.96</td>\n",
              "      <td>t</td>\n",
              "      <td>Kensington-Cedar Cottage</td>\n",
              "      <td>3</td>\n",
              "      <td>4</td>\n",
              "      <td>['email', 'phone']</td>\n",
              "      <td>t</td>\n",
              "      <td>Vancouver, British Columbia, Canada</td>\n",
              "      <td>Kensington-Cedar Cottage</td>\n",
              "      <td>Vancouver</td>\n",
              "      <td>49.25622</td>\n",
              "      <td>-123.06607</td>\n",
              "      <td>House</td>\n",
              "      <td>Entire home/apt</td>\n",
              "      <td>2</td>\n",
              "      <td>1 bath</td>\n",
              "      <td>1.0</td>\n",
              "      <td>1.0</td>\n",
              "      <td>[\"Shower gel\", \"Carbon monoxide alarm\", \"Lake view\", \"Dryer\", \"Indoor fireplace: electric\", \"Cen...</td>\n",
              "      <td>150.0</td>\n",
              "      <td>NaN</td>\n",
              "      <td>t</td>\n",
              "      <td>40</td>\n",
              "      <td>99</td>\n",
              "      <td>5</td>\n",
              "      <td>0</td>\n",
              "      <td>2011-06-02</td>\n",
              "      <td>2023-08-03</td>\n",
              "      <td>4.92</td>\n",
              "      <td>4.93</td>\n",
              "      <td>4.96</td>\n",
              "      <td>4.96</td>\n",
              "      <td>4.97</td>\n",
              "      <td>4.79</td>\n",
              "      <td>4.89</td>\n",
              "      <td>f</td>\n",
              "      <td>1</td>\n",
              "      <td>1</td>\n",
              "      <td>0</td>\n",
              "      <td>0</td>\n",
              "      <td>0.66</td>\n",
              "      <td>5.264514</td>\n",
              "      <td>Vancouver</td>\n",
              "      <td>150.000000</td>\n",
              "      <td>150.000000</td>\n",
              "      <td>150.000000</td>\n",
              "      <td>150.000000</td>\n",
              "      <td>99</td>\n",
              "      <td>3.0</td>\n",
              "      <td>150.0</td>\n",
              "      <td>150.0</td>\n",
              "      <td>150.000000</td>\n",
              "    </tr>\n",
              "    <tr>\n",
              "      <th>3</th>\n",
              "      <td>14267</td>\n",
              "      <td>56030</td>\n",
              "      <td>2009-11-20</td>\n",
              "      <td>Vancouver, Canada</td>\n",
              "      <td>We moved into this central Vancouver location 2005.  We were the first residential applicant of ...</td>\n",
              "      <td>NaN</td>\n",
              "      <td>NaN</td>\n",
              "      <td>NaN</td>\n",
              "      <td>f</td>\n",
              "      <td>Kensington-Cedar Cottage</td>\n",
              "      <td>1</td>\n",
              "      <td>1</td>\n",
              "      <td>['email', 'phone']</td>\n",
              "      <td>t</td>\n",
              "      <td>Vancouver, British Columbia, Canada</td>\n",
              "      <td>Kensington-Cedar Cottage</td>\n",
              "      <td>Vancouver</td>\n",
              "      <td>49.24922</td>\n",
              "      <td>-123.08139</td>\n",
              "      <td>House</td>\n",
              "      <td>Entire home/apt</td>\n",
              "      <td>4</td>\n",
              "      <td>1 bath</td>\n",
              "      <td>1.0</td>\n",
              "      <td>2.0</td>\n",
              "      <td>[\"Dryer\", \"Microwave\", \"Pack \\u2019n play/Travel crib\", \"Iron\", \"Shampoo\", \"Pets allowed\", \"Wash...</td>\n",
              "      <td>150.0</td>\n",
              "      <td>NaN</td>\n",
              "      <td>t</td>\n",
              "      <td>31</td>\n",
              "      <td>34</td>\n",
              "      <td>0</td>\n",
              "      <td>0</td>\n",
              "      <td>2010-10-03</td>\n",
              "      <td>2021-07-14</td>\n",
              "      <td>4.76</td>\n",
              "      <td>4.84</td>\n",
              "      <td>4.68</td>\n",
              "      <td>4.90</td>\n",
              "      <td>4.68</td>\n",
              "      <td>4.77</td>\n",
              "      <td>4.71</td>\n",
              "      <td>t</td>\n",
              "      <td>1</td>\n",
              "      <td>1</td>\n",
              "      <td>0</td>\n",
              "      <td>0</td>\n",
              "      <td>0.22</td>\n",
              "      <td>4.962790</td>\n",
              "      <td>Vancouver</td>\n",
              "      <td>150.000000</td>\n",
              "      <td>150.000000</td>\n",
              "      <td>150.000000</td>\n",
              "      <td>150.000000</td>\n",
              "      <td>34</td>\n",
              "      <td>NaN</td>\n",
              "      <td>150.0</td>\n",
              "      <td>150.0</td>\n",
              "      <td>150.000000</td>\n",
              "    </tr>\n",
              "    <tr>\n",
              "      <th>4</th>\n",
              "      <td>14424</td>\n",
              "      <td>56709</td>\n",
              "      <td>2009-11-23</td>\n",
              "      <td>Vancouver, Canada</td>\n",
              "      <td>Hi! Thanks for visiting my page... I'm a mother, and a health and wellness coach, living and wor...</td>\n",
              "      <td>within a few hours</td>\n",
              "      <td>1.0</td>\n",
              "      <td>0.78</td>\n",
              "      <td>f</td>\n",
              "      <td>Downtown Eastside</td>\n",
              "      <td>4</td>\n",
              "      <td>4</td>\n",
              "      <td>['email', 'phone']</td>\n",
              "      <td>t</td>\n",
              "      <td>NaN</td>\n",
              "      <td>Downtown Eastside</td>\n",
              "      <td>Vancouver</td>\n",
              "      <td>49.27921</td>\n",
              "      <td>-123.08835</td>\n",
              "      <td>Other</td>\n",
              "      <td>Entire home/apt</td>\n",
              "      <td>2</td>\n",
              "      <td>1 bath</td>\n",
              "      <td>1.0</td>\n",
              "      <td>1.0</td>\n",
              "      <td>[\"Shower gel\", \"Carbon monoxide alarm\", \"Air conditioning\", \"Microwave\", \"Iron\", \"Shampoo\", \"Bak...</td>\n",
              "      <td>135.0</td>\n",
              "      <td>NaN</td>\n",
              "      <td>t</td>\n",
              "      <td>124</td>\n",
              "      <td>269</td>\n",
              "      <td>8</td>\n",
              "      <td>1</td>\n",
              "      <td>2010-02-15</td>\n",
              "      <td>2023-09-03</td>\n",
              "      <td>4.69</td>\n",
              "      <td>4.84</td>\n",
              "      <td>4.93</td>\n",
              "      <td>4.85</td>\n",
              "      <td>4.72</td>\n",
              "      <td>4.60</td>\n",
              "      <td>4.73</td>\n",
              "      <td>f</td>\n",
              "      <td>4</td>\n",
              "      <td>4</td>\n",
              "      <td>0</td>\n",
              "      <td>0</td>\n",
              "      <td>1.63</td>\n",
              "      <td>2.733528</td>\n",
              "      <td>Vancouver</td>\n",
              "      <td>135.000000</td>\n",
              "      <td>135.000000</td>\n",
              "      <td>135.000000</td>\n",
              "      <td>135.000000</td>\n",
              "      <td>524</td>\n",
              "      <td>6.0</td>\n",
              "      <td>135.0</td>\n",
              "      <td>135.0</td>\n",
              "      <td>135.000000</td>\n",
              "    </tr>\n",
              "  </tbody>\n",
              "</table>\n",
              "</div>"
            ]
          },
          "metadata": {},
          "output_type": "display_data"
        }
      ],
      "metadata": {
        "datalore": {
          "node_id": "TXybuoLVVe25ckN1DKwv4A",
          "type": "CODE",
          "hide_input_from_viewers": true,
          "hide_output_from_viewers": true
        },
        "id": "1T6Jv-s5KlRd",
        "outputId": "8187adfd-8852-4afe-c622-1af2544c18b2"
      }
    },
    {
      "cell_type": "code",
      "source": [
        "df_listings.columns"
      ],
      "execution_count": null,
      "outputs": [
        {
          "data": {
            "text/plain": [
              "Index(['listing_id', 'host_id', 'host_since', 'host_location', 'host_about',\n",
              "       'host_response_time', 'host_response_rate', 'host_acceptance_rate',\n",
              "       'host_is_superhost', 'host_neighbourhood', 'host_listings_count',\n",
              "       'host_total_listings_count', 'host_verifications',\n",
              "       'host_identity_verified', 'neighbourhood', 'neighbourhood_cleansed',\n",
              "       'neighbourhood_group_cleansed', 'latitude', 'longitude',\n",
              "       'property_type', 'room_type', 'accommodates', 'bathrooms_text',\n",
              "       'bedrooms', 'beds', 'amenities', 'price', 'calendar_updated',\n",
              "       'has_availability', 'availability_365', 'number_of_reviews',\n",
              "       'number_of_reviews_ltm', 'number_of_reviews_l30d', 'first_review',\n",
              "       'last_review', 'review_scores_rating', 'review_scores_accuracy',\n",
              "       'review_scores_cleanliness', 'review_scores_checkin',\n",
              "       'review_scores_communication', 'review_scores_location',\n",
              "       'review_scores_value', 'instant_bookable',\n",
              "       'calculated_host_listings_count',\n",
              "       'calculated_host_listings_count_entire_homes',\n",
              "       'calculated_host_listings_count_private_rooms',\n",
              "       'calculated_host_listings_count_shared_rooms', 'reviews_per_month',\n",
              "       'calc_dist_from_center', 'City', 'calc_avg_price_Q1',\n",
              "       'calc_avg_price_Q2', 'calc_avg_price_Q3', 'calc_avg_price_Q4',\n",
              "       'calc_total_host_reviews', 'calc_reviews_ltm', 'calc_future_min_price',\n",
              "       'calc_future_max_price', 'calc_future_avg_price'],\n",
              "      dtype='object')"
            ]
          },
          "metadata": {},
          "output_type": "display_data"
        }
      ],
      "metadata": {
        "datalore": {
          "node_id": "ruRWozQaLzeciuY03Lp0FB",
          "type": "CODE",
          "hide_input_from_viewers": true,
          "hide_output_from_viewers": true
        },
        "id": "a_TTMfWaKlRd",
        "outputId": "e03f0fd3-5128-40ce-8423-443c9fda1861"
      }
    },
    {
      "cell_type": "markdown",
      "source": [
        "### g. COMBINE THE DATASETS\n",
        "\n",
        "Creating a master dataset result by combining listings, neighbourhoods and reviews. Calendar dataset is kept separate as it will be too big to manipulate in memory, aggregation will be done from it further down."
      ],
      "metadata": {
        "datalore": {
          "node_id": "hlS5A0yIJVOZPsBnhcITyC",
          "type": "MD",
          "hide_input_from_viewers": true,
          "hide_output_from_viewers": true
        },
        "id": "S8Hz8_P5KlRd"
      }
    },
    {
      "cell_type": "code",
      "source": [
        "\n",
        "columns_to_include = ['listing_id', 'host_id',\n",
        "       'host_since', 'host_location', 'host_about',\n",
        "       'host_response_time', 'host_response_rate', 'host_acceptance_rate',\n",
        "       'host_is_superhost',\n",
        "       'host_neighbourhood', 'host_listings_count',\n",
        "       'host_total_listings_count', 'host_verifications',\n",
        "       'host_identity_verified',\n",
        "       'neighbourhood_cleansed', 'neighbourhood_group_cleansed',\n",
        "       'property_type', 'room_type', 'accommodates', 'bedrooms', 'beds', 'amenities', 'price',\n",
        "       'has_availability',\n",
        "       'availability_365', 'number_of_reviews',\n",
        "       'number_of_reviews_ltm',  'first_review',\n",
        "       'last_review', 'review_scores_rating',\n",
        "       'calculated_host_listings_count',\n",
        "       'reviews_per_month',\n",
        " # NEW COLUMNS we created\n",
        "      'calc_total_host_reviews',\n",
        "       'calc_reviews_ltm',\n",
        "       'City',\n",
        "       'calc_dist_from_center',\n",
        "       'calc_future_min_price', 'calc_future_max_price', 'calc_future_avg_price' ]\n",
        "master_host = df_listings[columns_to_include]\n",
        "#master_host=tmp_df.rename(columns={'id': 'listing_id'})"
      ],
      "execution_count": null,
      "outputs": [],
      "metadata": {
        "datalore": {
          "node_id": "zChMU8jxtJoGhXKUX2MF3R",
          "type": "CODE",
          "hide_input_from_viewers": true,
          "hide_output_from_viewers": true
        },
        "id": "eoXjhxeBKlRd"
      }
    },
    {
      "cell_type": "markdown",
      "source": [
        "**Merging two datasets, master_host and df_reviews, on the common columns 'listing_id' and 'City' using a left join.**"
      ],
      "metadata": {
        "datalore": {
          "node_id": "XhOQzOaovLGWYMpyLVm6PX",
          "type": "MD",
          "hide_input_from_viewers": true,
          "hide_output_from_viewers": true
        },
        "id": "1Or76octKlRd"
      }
    },
    {
      "cell_type": "code",
      "source": [
        "\n",
        "\n",
        "master_host = master_host.merge(\n",
        "    df_reviews,\n",
        "    on=['listing_id', 'City'],\n",
        "    how='left'\n",
        ")"
      ],
      "execution_count": null,
      "outputs": [],
      "metadata": {
        "datalore": {
          "node_id": "NvloiwMepkltrjIu3Ypnii",
          "type": "CODE",
          "hide_input_from_viewers": true,
          "hide_output_from_viewers": true
        },
        "id": "o61G3mVpKlRd"
      }
    },
    {
      "cell_type": "markdown",
      "source": [
        "### h. Calculate no of reviews per listing and compare with existing column\n",
        "\n",
        "Created \"calc_no_of_reviews\" per listing column and verified if the values match with the existing column \"no of reviews\""
      ],
      "metadata": {
        "datalore": {
          "node_id": "VVwhztMCIbIEvznmP1VqMa",
          "type": "MD",
          "hide_input_from_viewers": true,
          "hide_output_from_viewers": true
        },
        "id": "SWR6cm4gKlRd"
      }
    },
    {
      "cell_type": "code",
      "source": [
        "\n",
        "listing_review_counts = master_host.groupby('listing_id')['review_id'].nunique().reset_index(name = 'calc_no_of_reviews_perlisting')\n",
        "# Merge the calculated counts back into the original DataFrame\n",
        "master_host = master_host.merge(listing_review_counts, on='listing_id', how='left')\n",
        "all(master_host['number_of_reviews'] == master_host['calc_no_of_reviews_perlisting'])"
      ],
      "execution_count": null,
      "outputs": [
        {
          "data": {
            "text/plain": [
              "True"
            ]
          },
          "metadata": {},
          "output_type": "display_data"
        }
      ],
      "metadata": {
        "datalore": {
          "node_id": "GaUay6Xd26mbbzNMpgVuWw",
          "type": "CODE",
          "hide_input_from_viewers": true,
          "hide_output_from_viewers": true
        },
        "id": "bAxxzd9OKlRd",
        "outputId": "cf5109f1-2033-4115-9a87-51d4dcba166a"
      }
    },
    {
      "cell_type": "markdown",
      "source": [
        "# D. Create sum_hosts dataset , the summary of data by host"
      ],
      "metadata": {
        "datalore": {
          "node_id": "lM9ufmlFdZrk2ftwaBymUb",
          "type": "MD",
          "hide_input_from_viewers": true,
          "hide_output_from_viewers": true
        },
        "id": "4ZxOdEaZKlRd"
      }
    },
    {
      "cell_type": "markdown",
      "source": [
        "Create new dataset sum_hosts, it will contain information from the host point of view."
      ],
      "metadata": {
        "datalore": {
          "node_id": "ynY8gS1z9A5lU0n1qHkPZZ",
          "type": "MD",
          "hide_input_from_viewers": true,
          "hide_output_from_viewers": true
        },
        "id": "H0BxvoorKlRd"
      }
    },
    {
      "cell_type": "markdown",
      "source": [
        "## a. Create the base of the dataset"
      ],
      "metadata": {
        "datalore": {
          "node_id": "MGoGGKq6TTJGAsahFLdl9a",
          "type": "MD",
          "hide_input_from_viewers": true,
          "hide_output_from_viewers": true
        },
        "id": "Juv5WA9aKlRd"
      }
    },
    {
      "cell_type": "code",
      "source": [
        "\n",
        "# Create a new dataset sum_hosts\n",
        "sum_hosts = master_host[['host_id']].drop_duplicates()\n",
        "sum_hosts.reset_index(drop=True, inplace=True)\n",
        "display(sum_hosts.head())\n",
        "sum_hosts.shape\n",
        "#type(sum_hosts)"
      ],
      "execution_count": null,
      "outputs": [
        {
          "data": {
            "text/html": [
              "<div>\n",
              "<style scoped>\n",
              "    .dataframe tbody tr th:only-of-type {\n",
              "        vertical-align: middle;\n",
              "    }\n",
              "\n",
              "    .dataframe tbody tr th {\n",
              "        vertical-align: top;\n",
              "    }\n",
              "\n",
              "    .dataframe thead th {\n",
              "        text-align: right;\n",
              "    }\n",
              "</style>\n",
              "<table border=\"1\" class=\"dataframe\">\n",
              "  <thead>\n",
              "    <tr style=\"text-align: right;\">\n",
              "      <th></th>\n",
              "      <th>host_id</th>\n",
              "    </tr>\n",
              "  </thead>\n",
              "  <tbody>\n",
              "    <tr>\n",
              "      <th>0</th>\n",
              "      <td>51466</td>\n",
              "    </tr>\n",
              "    <tr>\n",
              "      <th>1</th>\n",
              "      <td>52116</td>\n",
              "    </tr>\n",
              "    <tr>\n",
              "      <th>2</th>\n",
              "      <td>52467</td>\n",
              "    </tr>\n",
              "    <tr>\n",
              "      <th>3</th>\n",
              "      <td>56030</td>\n",
              "    </tr>\n",
              "    <tr>\n",
              "      <th>4</th>\n",
              "      <td>56709</td>\n",
              "    </tr>\n",
              "  </tbody>\n",
              "</table>\n",
              "</div>"
            ]
          },
          "metadata": {},
          "output_type": "display_data"
        },
        {
          "data": {
            "text/plain": [
              "(7554, 1)"
            ]
          },
          "metadata": {},
          "output_type": "display_data"
        }
      ],
      "metadata": {
        "datalore": {
          "node_id": "PHVZVMzYzz1oeIoID13kwl",
          "type": "CODE",
          "hide_input_from_viewers": true,
          "hide_output_from_viewers": true
        },
        "id": "Da3uFSswKlRd",
        "outputId": "a2437308-23b5-4c50-8415-c2796670bda0"
      }
    },
    {
      "cell_type": "code",
      "source": [
        "# join with the other host columns from the master\n",
        "columns_to_include = ['host_id',\n",
        "       'host_since', 'host_location', 'host_about',\n",
        "       'host_response_time', 'host_response_rate', 'host_acceptance_rate',\n",
        "       'host_is_superhost', 'host_neighbourhood', 'host_listings_count',\n",
        "       'host_total_listings_count', 'host_verifications',\n",
        "       'host_identity_verified',\n",
        "       'City']\n",
        "sum_hosts = pd.merge(sum_hosts, master_host[columns_to_include]).drop_duplicates()\n",
        "display(sum_hosts.head())\n",
        "sum_hosts.shape"
      ],
      "execution_count": null,
      "outputs": [
        {
          "data": {
            "text/html": [
              "<div>\n",
              "<style scoped>\n",
              "    .dataframe tbody tr th:only-of-type {\n",
              "        vertical-align: middle;\n",
              "    }\n",
              "\n",
              "    .dataframe tbody tr th {\n",
              "        vertical-align: top;\n",
              "    }\n",
              "\n",
              "    .dataframe thead th {\n",
              "        text-align: right;\n",
              "    }\n",
              "</style>\n",
              "<table border=\"1\" class=\"dataframe\">\n",
              "  <thead>\n",
              "    <tr style=\"text-align: right;\">\n",
              "      <th></th>\n",
              "      <th>host_id</th>\n",
              "      <th>host_since</th>\n",
              "      <th>host_location</th>\n",
              "      <th>host_about</th>\n",
              "      <th>host_response_time</th>\n",
              "      <th>host_response_rate</th>\n",
              "      <th>host_acceptance_rate</th>\n",
              "      <th>host_is_superhost</th>\n",
              "      <th>host_neighbourhood</th>\n",
              "      <th>host_listings_count</th>\n",
              "      <th>host_total_listings_count</th>\n",
              "      <th>host_verifications</th>\n",
              "      <th>host_identity_verified</th>\n",
              "      <th>City</th>\n",
              "    </tr>\n",
              "  </thead>\n",
              "  <tbody>\n",
              "    <tr>\n",
              "      <th>0</th>\n",
              "      <td>51466</td>\n",
              "      <td>2009-11-04</td>\n",
              "      <td>Vancouver, Canada</td>\n",
              "      <td>We are a family who love to travel in comfort and enjoy the ethos and community spirit of AirBNB...</td>\n",
              "      <td>within an hour</td>\n",
              "      <td>1.0</td>\n",
              "      <td>1.00</td>\n",
              "      <td>t</td>\n",
              "      <td>Riley Park</td>\n",
              "      <td>2</td>\n",
              "      <td>3</td>\n",
              "      <td>['email', 'phone']</td>\n",
              "      <td>t</td>\n",
              "      <td>Vancouver</td>\n",
              "    </tr>\n",
              "    <tr>\n",
              "      <th>304</th>\n",
              "      <td>52116</td>\n",
              "      <td>2009-11-07</td>\n",
              "      <td>Vancouver, Canada</td>\n",
              "      <td>I am from Vancouver and in my free time enjoy Yoga, exploring the neighborhoods of my hometown ,...</td>\n",
              "      <td>within an hour</td>\n",
              "      <td>1.0</td>\n",
              "      <td>0.98</td>\n",
              "      <td>f</td>\n",
              "      <td>Downtown Vancouver</td>\n",
              "      <td>1</td>\n",
              "      <td>1</td>\n",
              "      <td>['email', 'phone']</td>\n",
              "      <td>t</td>\n",
              "      <td>Vancouver</td>\n",
              "    </tr>\n",
              "    <tr>\n",
              "      <th>780</th>\n",
              "      <td>52467</td>\n",
              "      <td>2009-11-08</td>\n",
              "      <td>Vancouver, Canada</td>\n",
              "      <td>Hello! My husband Fred and I are actors living in central Vancouver.  We pride ourselves on host...</td>\n",
              "      <td>within an hour</td>\n",
              "      <td>1.0</td>\n",
              "      <td>0.96</td>\n",
              "      <td>t</td>\n",
              "      <td>Kensington-Cedar Cottage</td>\n",
              "      <td>3</td>\n",
              "      <td>4</td>\n",
              "      <td>['email', 'phone']</td>\n",
              "      <td>t</td>\n",
              "      <td>Vancouver</td>\n",
              "    </tr>\n",
              "    <tr>\n",
              "      <th>879</th>\n",
              "      <td>56030</td>\n",
              "      <td>2009-11-20</td>\n",
              "      <td>Vancouver, Canada</td>\n",
              "      <td>We moved into this central Vancouver location 2005.  We were the first residential applicant of ...</td>\n",
              "      <td>NaN</td>\n",
              "      <td>NaN</td>\n",
              "      <td>NaN</td>\n",
              "      <td>f</td>\n",
              "      <td>Kensington-Cedar Cottage</td>\n",
              "      <td>1</td>\n",
              "      <td>1</td>\n",
              "      <td>['email', 'phone']</td>\n",
              "      <td>t</td>\n",
              "      <td>Vancouver</td>\n",
              "    </tr>\n",
              "    <tr>\n",
              "      <th>913</th>\n",
              "      <td>56709</td>\n",
              "      <td>2009-11-23</td>\n",
              "      <td>Vancouver, Canada</td>\n",
              "      <td>Hi! Thanks for visiting my page... I'm a mother, and a health and wellness coach, living and wor...</td>\n",
              "      <td>within a few hours</td>\n",
              "      <td>1.0</td>\n",
              "      <td>0.78</td>\n",
              "      <td>f</td>\n",
              "      <td>Downtown Eastside</td>\n",
              "      <td>4</td>\n",
              "      <td>4</td>\n",
              "      <td>['email', 'phone']</td>\n",
              "      <td>t</td>\n",
              "      <td>Vancouver</td>\n",
              "    </tr>\n",
              "  </tbody>\n",
              "</table>\n",
              "</div>"
            ]
          },
          "metadata": {},
          "output_type": "display_data"
        },
        {
          "data": {
            "text/plain": [
              "(7572, 14)"
            ]
          },
          "metadata": {},
          "output_type": "display_data"
        }
      ],
      "metadata": {
        "datalore": {
          "node_id": "B8zoDgM1pSSdzwGHtoJG8T",
          "type": "CODE",
          "hide_input_from_viewers": true,
          "hide_output_from_viewers": true
        },
        "id": "8dGJtyB0KlRd",
        "outputId": "2e09c121-9cf9-4ac9-9532-ba478697897e"
      }
    },
    {
      "cell_type": "markdown",
      "source": [
        "Once merged with the master, there is more hosts than before 7572 vs 7554 originally. There are 18 duplicate host_id.  \n",
        "After checking the data associated, it appears that they have properties in Vancouver and Victoria, that explains the difference.  \n",
        "We can keep working on the dataset sum_hosts."
      ],
      "metadata": {
        "datalore": {
          "node_id": "uhBHJbvs5pGPS71AVeVGJi",
          "type": "MD",
          "hide_input_from_viewers": true,
          "hide_output_from_viewers": true
        },
        "id": "uyS28I8JKlRd"
      }
    },
    {
      "cell_type": "code",
      "source": [
        "## Do we have duplicates in host_id? and why?\n",
        "dupl_host_ids = sum_hosts['host_id'].value_counts()\n",
        "print(\"How many duplicate host_id:\",dupl_host_ids[sum_hosts['host_id'].value_counts()>1].size)\n",
        "ids_to_check=dupl_host_ids[sum_hosts['host_id'].value_counts()>1].index\n",
        "print(\"Duplicated host_ids\",ids_to_check)\n",
        "# Check those duplicate host_ids\n",
        "#ids_to_check=[22340772,31635801,7410644,2431363,48947341,367572217,\n",
        "#             21976533,  30434492, 424301869,     97036,  13892350,  34776663,\n",
        "#             87675663,     85132, 446501272,  16794128,   3211112, 227662329]\n",
        "sum_hosts[sum_hosts['host_id'].isin(ids_to_check)].head(10)"
      ],
      "execution_count": null,
      "outputs": [
        {
          "name": "stdout",
          "text": [
            "How many duplicate host_id: 18\n",
            "Duplicated host_ids Int64Index([ 22340772,  31635801,   7410644,   2431363,  48947341, 367572217,\n",
            "             21976533,  30434492, 424301869,     97036,  13892350,  34776663,\n",
            "             87675663,     85132, 446501272,  16794128,   3211112, 227662329],\n",
            "           dtype='int64')\n"
          ],
          "output_type": "stream"
        },
        {
          "data": {
            "text/html": [
              "<div>\n",
              "<style scoped>\n",
              "    .dataframe tbody tr th:only-of-type {\n",
              "        vertical-align: middle;\n",
              "    }\n",
              "\n",
              "    .dataframe tbody tr th {\n",
              "        vertical-align: top;\n",
              "    }\n",
              "\n",
              "    .dataframe thead th {\n",
              "        text-align: right;\n",
              "    }\n",
              "</style>\n",
              "<table border=\"1\" class=\"dataframe\">\n",
              "  <thead>\n",
              "    <tr style=\"text-align: right;\">\n",
              "      <th></th>\n",
              "      <th>host_id</th>\n",
              "      <th>host_since</th>\n",
              "      <th>host_location</th>\n",
              "      <th>host_about</th>\n",
              "      <th>host_response_time</th>\n",
              "      <th>host_response_rate</th>\n",
              "      <th>host_acceptance_rate</th>\n",
              "      <th>host_is_superhost</th>\n",
              "      <th>host_neighbourhood</th>\n",
              "      <th>host_listings_count</th>\n",
              "      <th>host_total_listings_count</th>\n",
              "      <th>host_verifications</th>\n",
              "      <th>host_identity_verified</th>\n",
              "      <th>City</th>\n",
              "    </tr>\n",
              "  </thead>\n",
              "  <tbody>\n",
              "    <tr>\n",
              "      <th>10632</th>\n",
              "      <td>3211112</td>\n",
              "      <td>2012-08-09</td>\n",
              "      <td>Vancouver, Canada</td>\n",
              "      <td>I, my 2 girls &amp; our handsome 20 years old Siamese cat  live between  beautiful Vancouver &amp; most ...</td>\n",
              "      <td>within an hour</td>\n",
              "      <td>1.00</td>\n",
              "      <td>0.98</td>\n",
              "      <td>t</td>\n",
              "      <td>Kitsilano</td>\n",
              "      <td>6</td>\n",
              "      <td>7</td>\n",
              "      <td>['email', 'phone']</td>\n",
              "      <td>t</td>\n",
              "      <td>Vancouver</td>\n",
              "    </tr>\n",
              "    <tr>\n",
              "      <th>10784</th>\n",
              "      <td>3211112</td>\n",
              "      <td>2012-08-09</td>\n",
              "      <td>Vancouver, Canada</td>\n",
              "      <td>I, my 2 girls &amp; our handsome 20 years old Siamese cat  live between  beautiful Vancouver &amp; most ...</td>\n",
              "      <td>within an hour</td>\n",
              "      <td>1.00</td>\n",
              "      <td>0.98</td>\n",
              "      <td>t</td>\n",
              "      <td>Kitsilano</td>\n",
              "      <td>6</td>\n",
              "      <td>7</td>\n",
              "      <td>['email', 'phone']</td>\n",
              "      <td>t</td>\n",
              "      <td>Victoria</td>\n",
              "    </tr>\n",
              "    <tr>\n",
              "      <th>26056</th>\n",
              "      <td>16794128</td>\n",
              "      <td>2014-06-15</td>\n",
              "      <td>Vancouver, Canada</td>\n",
              "      <td>We are a family of four plus a cute dog named Brownie. \\r\\nAs long term residents of Vancouver w...</td>\n",
              "      <td>within an hour</td>\n",
              "      <td>1.00</td>\n",
              "      <td>1.00</td>\n",
              "      <td>t</td>\n",
              "      <td>Riley Park</td>\n",
              "      <td>2</td>\n",
              "      <td>2</td>\n",
              "      <td>['email', 'phone']</td>\n",
              "      <td>t</td>\n",
              "      <td>Vancouver</td>\n",
              "    </tr>\n",
              "    <tr>\n",
              "      <th>26808</th>\n",
              "      <td>16794128</td>\n",
              "      <td>2014-06-15</td>\n",
              "      <td>Vancouver, Canada</td>\n",
              "      <td>We are a family of four plus a cute dog named Brownie. \\r\\nAs long term residents of Vancouver w...</td>\n",
              "      <td>within an hour</td>\n",
              "      <td>1.00</td>\n",
              "      <td>1.00</td>\n",
              "      <td>t</td>\n",
              "      <td>Riley Park</td>\n",
              "      <td>2</td>\n",
              "      <td>2</td>\n",
              "      <td>['email', 'phone']</td>\n",
              "      <td>t</td>\n",
              "      <td>Victoria</td>\n",
              "    </tr>\n",
              "    <tr>\n",
              "      <th>29279</th>\n",
              "      <td>85132</td>\n",
              "      <td>2010-02-24</td>\n",
              "      <td>New Orleans, LA</td>\n",
              "      <td>I'm a veteran of the US NAVY; served from 1971 - '73. For most of my time in New Orleans, I mana...</td>\n",
              "      <td>within a few hours</td>\n",
              "      <td>0.90</td>\n",
              "      <td>0.11</td>\n",
              "      <td>t</td>\n",
              "      <td>Kailua/Kona</td>\n",
              "      <td>89</td>\n",
              "      <td>122</td>\n",
              "      <td>['email', 'phone']</td>\n",
              "      <td>t</td>\n",
              "      <td>Vancouver</td>\n",
              "    </tr>\n",
              "    <tr>\n",
              "      <th>29280</th>\n",
              "      <td>85132</td>\n",
              "      <td>2010-02-24</td>\n",
              "      <td>New Orleans, LA</td>\n",
              "      <td>I'm a veteran of the US NAVY; served from 1971 - '73. For most of my time in New Orleans, I mana...</td>\n",
              "      <td>within a few hours</td>\n",
              "      <td>0.79</td>\n",
              "      <td>0.10</td>\n",
              "      <td>t</td>\n",
              "      <td>Kailua/Kona</td>\n",
              "      <td>89</td>\n",
              "      <td>122</td>\n",
              "      <td>['email', 'phone']</td>\n",
              "      <td>t</td>\n",
              "      <td>Victoria</td>\n",
              "    </tr>\n",
              "    <tr>\n",
              "      <th>40405</th>\n",
              "      <td>21976533</td>\n",
              "      <td>2014-09-30</td>\n",
              "      <td>Vancouver, Canada</td>\n",
              "      <td>We are a family of 5 and think Galiano Island and Vancouver are pretty amazing spots! We hope yo...</td>\n",
              "      <td>within an hour</td>\n",
              "      <td>1.00</td>\n",
              "      <td>1.00</td>\n",
              "      <td>t</td>\n",
              "      <td>Mount Pleasant</td>\n",
              "      <td>2</td>\n",
              "      <td>4</td>\n",
              "      <td>['email', 'phone']</td>\n",
              "      <td>t</td>\n",
              "      <td>Vancouver</td>\n",
              "    </tr>\n",
              "    <tr>\n",
              "      <th>40478</th>\n",
              "      <td>21976533</td>\n",
              "      <td>2014-09-30</td>\n",
              "      <td>Vancouver, Canada</td>\n",
              "      <td>We are a family of 5 and think Galiano Island and Vancouver are pretty amazing spots! We hope yo...</td>\n",
              "      <td>within an hour</td>\n",
              "      <td>1.00</td>\n",
              "      <td>1.00</td>\n",
              "      <td>t</td>\n",
              "      <td>Mount Pleasant</td>\n",
              "      <td>2</td>\n",
              "      <td>4</td>\n",
              "      <td>['email', 'phone']</td>\n",
              "      <td>t</td>\n",
              "      <td>Victoria</td>\n",
              "    </tr>\n",
              "    <tr>\n",
              "      <th>58524</th>\n",
              "      <td>97036</td>\n",
              "      <td>2010-03-21</td>\n",
              "      <td>Vancouver, Canada</td>\n",
              "      <td>Jenny -  Fun Loving. Meaning I love nature, birds, eagles, people and quiet but also love dancin...</td>\n",
              "      <td>within an hour</td>\n",
              "      <td>1.00</td>\n",
              "      <td>0.95</td>\n",
              "      <td>f</td>\n",
              "      <td>Kitsilano</td>\n",
              "      <td>2</td>\n",
              "      <td>8</td>\n",
              "      <td>['email', 'phone']</td>\n",
              "      <td>t</td>\n",
              "      <td>Vancouver</td>\n",
              "    </tr>\n",
              "    <tr>\n",
              "      <th>58527</th>\n",
              "      <td>97036</td>\n",
              "      <td>2010-03-21</td>\n",
              "      <td>Vancouver, Canada</td>\n",
              "      <td>Jenny -  Fun Loving. Meaning I love nature, birds, eagles, people and quiet but also love dancin...</td>\n",
              "      <td>within an hour</td>\n",
              "      <td>1.00</td>\n",
              "      <td>0.94</td>\n",
              "      <td>f</td>\n",
              "      <td>Kitsilano</td>\n",
              "      <td>3</td>\n",
              "      <td>8</td>\n",
              "      <td>['email', 'phone']</td>\n",
              "      <td>t</td>\n",
              "      <td>Victoria</td>\n",
              "    </tr>\n",
              "  </tbody>\n",
              "</table>\n",
              "</div>"
            ]
          },
          "metadata": {},
          "output_type": "display_data"
        }
      ],
      "metadata": {
        "datalore": {
          "node_id": "BZRSyAs8z1lvqRKmIA1Ss5",
          "type": "CODE",
          "hide_input_from_viewers": true,
          "hide_output_from_viewers": true
        },
        "id": "6WRhZTC3KlRd",
        "outputId": "f34666da-156b-473c-a0a1-2797e3e3474b"
      }
    },
    {
      "cell_type": "markdown",
      "source": [
        "**Number of hosts per city**"
      ],
      "metadata": {
        "datalore": {
          "node_id": "wu7iXpC88fYaWYF1REE6nX",
          "type": "MD",
          "hide_input_from_viewers": true,
          "hide_output_from_viewers": true
        },
        "id": "c4_TBupWKlRe"
      }
    },
    {
      "cell_type": "code",
      "source": [
        "\n",
        "# number of hosts per city with total (use pivot_table)\n",
        "#sum_hosts.groupby('City').size()\n",
        "pd.pivot_table(data=sum_hosts, values='host_id', index='City', aggfunc='count', margins=True)\n",
        "#pd.crosstab(index=sum_hosts['City'], columns='hosts', margins=True, margins_name='Total')"
      ],
      "execution_count": null,
      "outputs": [
        {
          "data": {
            "text/html": [
              "<div>\n",
              "<style scoped>\n",
              "    .dataframe tbody tr th:only-of-type {\n",
              "        vertical-align: middle;\n",
              "    }\n",
              "\n",
              "    .dataframe tbody tr th {\n",
              "        vertical-align: top;\n",
              "    }\n",
              "\n",
              "    .dataframe thead th {\n",
              "        text-align: right;\n",
              "    }\n",
              "</style>\n",
              "<table border=\"1\" class=\"dataframe\">\n",
              "  <thead>\n",
              "    <tr style=\"text-align: right;\">\n",
              "      <th></th>\n",
              "      <th>host_id</th>\n",
              "    </tr>\n",
              "    <tr>\n",
              "      <th>City</th>\n",
              "      <th></th>\n",
              "    </tr>\n",
              "  </thead>\n",
              "  <tbody>\n",
              "    <tr>\n",
              "      <th>Vancouver</th>\n",
              "      <td>4546</td>\n",
              "    </tr>\n",
              "    <tr>\n",
              "      <th>Victoria</th>\n",
              "      <td>3026</td>\n",
              "    </tr>\n",
              "    <tr>\n",
              "      <th>All</th>\n",
              "      <td>7572</td>\n",
              "    </tr>\n",
              "  </tbody>\n",
              "</table>\n",
              "</div>"
            ]
          },
          "metadata": {},
          "output_type": "display_data"
        }
      ],
      "metadata": {
        "datalore": {
          "node_id": "ZkQqulFrAm24Qo8xPG6KHh",
          "type": "CODE",
          "hide_input_from_viewers": true,
          "hide_output_from_viewers": true
        },
        "id": "t74nKineKlRe",
        "outputId": "72f6a549-9098-42a0-e7e3-7a19b772c609"
      }
    },
    {
      "cell_type": "markdown",
      "source": [
        "## b. Add calculated columns  \n",
        "\n",
        "Here we have the choice to aggregate by host_id only (any city) or host_id+City. Since we want to be able to compare the 2 cities in a further analysis we chose to aggregate by host_id+City.  "
      ],
      "metadata": {
        "datalore": {
          "node_id": "EtP45LohvVfdOrkS5p4mcy",
          "type": "MD",
          "hide_input_from_viewers": true,
          "hide_output_from_viewers": true
        },
        "id": "UVzjDA65KlRe"
      }
    },
    {
      "cell_type": "markdown",
      "source": [
        "**Number of listings per host**  \n",
        "Add number of listings per host (calc_listings_count) and compare with existing column host_listings_count.\n",
        "\n",
        "Existing host_total_listings_count is equal or higher than host_listings_count.  \n",
        "We assume that host_total_listings_count represents the number of properties the host had overtime but not necessarily currently or the host has properties in another city. We have no way to verify that theory."
      ],
      "metadata": {
        "datalore": {
          "node_id": "V4nADUZsO0vEUJEH7Aat65",
          "type": "MD",
          "hide_input_from_viewers": true,
          "hide_output_from_viewers": true
        },
        "id": "u4CrXxijKlRe"
      }
    },
    {
      "cell_type": "code",
      "source": [
        "\n",
        "# Add calc_listings_count to sum_hosts\n",
        "new_host_col = pd.DataFrame(df_listings[['host_id','City']].groupby(['host_id','City']).size().reset_index(name='calc_listings_count'))\n",
        "sum_hosts = pd.merge(sum_hosts, new_host_col, on=['host_id','City'])\n",
        "\n",
        "display(sum_hosts.head())\n",
        "#sum_hosts.shape"
      ],
      "execution_count": null,
      "outputs": [
        {
          "data": {
            "text/html": [
              "<div>\n",
              "<style scoped>\n",
              "    .dataframe tbody tr th:only-of-type {\n",
              "        vertical-align: middle;\n",
              "    }\n",
              "\n",
              "    .dataframe tbody tr th {\n",
              "        vertical-align: top;\n",
              "    }\n",
              "\n",
              "    .dataframe thead th {\n",
              "        text-align: right;\n",
              "    }\n",
              "</style>\n",
              "<table border=\"1\" class=\"dataframe\">\n",
              "  <thead>\n",
              "    <tr style=\"text-align: right;\">\n",
              "      <th></th>\n",
              "      <th>host_id</th>\n",
              "      <th>host_since</th>\n",
              "      <th>host_location</th>\n",
              "      <th>host_about</th>\n",
              "      <th>host_response_time</th>\n",
              "      <th>host_response_rate</th>\n",
              "      <th>host_acceptance_rate</th>\n",
              "      <th>host_is_superhost</th>\n",
              "      <th>host_neighbourhood</th>\n",
              "      <th>host_listings_count</th>\n",
              "      <th>host_total_listings_count</th>\n",
              "      <th>host_verifications</th>\n",
              "      <th>host_identity_verified</th>\n",
              "      <th>City</th>\n",
              "      <th>calc_listings_count</th>\n",
              "    </tr>\n",
              "  </thead>\n",
              "  <tbody>\n",
              "    <tr>\n",
              "      <th>0</th>\n",
              "      <td>51466</td>\n",
              "      <td>2009-11-04</td>\n",
              "      <td>Vancouver, Canada</td>\n",
              "      <td>We are a family who love to travel in comfort and enjoy the ethos and community spirit of AirBNB...</td>\n",
              "      <td>within an hour</td>\n",
              "      <td>1.0</td>\n",
              "      <td>1.00</td>\n",
              "      <td>t</td>\n",
              "      <td>Riley Park</td>\n",
              "      <td>2</td>\n",
              "      <td>3</td>\n",
              "      <td>['email', 'phone']</td>\n",
              "      <td>t</td>\n",
              "      <td>Vancouver</td>\n",
              "      <td>2</td>\n",
              "    </tr>\n",
              "    <tr>\n",
              "      <th>1</th>\n",
              "      <td>52116</td>\n",
              "      <td>2009-11-07</td>\n",
              "      <td>Vancouver, Canada</td>\n",
              "      <td>I am from Vancouver and in my free time enjoy Yoga, exploring the neighborhoods of my hometown ,...</td>\n",
              "      <td>within an hour</td>\n",
              "      <td>1.0</td>\n",
              "      <td>0.98</td>\n",
              "      <td>f</td>\n",
              "      <td>Downtown Vancouver</td>\n",
              "      <td>1</td>\n",
              "      <td>1</td>\n",
              "      <td>['email', 'phone']</td>\n",
              "      <td>t</td>\n",
              "      <td>Vancouver</td>\n",
              "      <td>1</td>\n",
              "    </tr>\n",
              "    <tr>\n",
              "      <th>2</th>\n",
              "      <td>52467</td>\n",
              "      <td>2009-11-08</td>\n",
              "      <td>Vancouver, Canada</td>\n",
              "      <td>Hello! My husband Fred and I are actors living in central Vancouver.  We pride ourselves on host...</td>\n",
              "      <td>within an hour</td>\n",
              "      <td>1.0</td>\n",
              "      <td>0.96</td>\n",
              "      <td>t</td>\n",
              "      <td>Kensington-Cedar Cottage</td>\n",
              "      <td>3</td>\n",
              "      <td>4</td>\n",
              "      <td>['email', 'phone']</td>\n",
              "      <td>t</td>\n",
              "      <td>Vancouver</td>\n",
              "      <td>1</td>\n",
              "    </tr>\n",
              "    <tr>\n",
              "      <th>3</th>\n",
              "      <td>56030</td>\n",
              "      <td>2009-11-20</td>\n",
              "      <td>Vancouver, Canada</td>\n",
              "      <td>We moved into this central Vancouver location 2005.  We were the first residential applicant of ...</td>\n",
              "      <td>NaN</td>\n",
              "      <td>NaN</td>\n",
              "      <td>NaN</td>\n",
              "      <td>f</td>\n",
              "      <td>Kensington-Cedar Cottage</td>\n",
              "      <td>1</td>\n",
              "      <td>1</td>\n",
              "      <td>['email', 'phone']</td>\n",
              "      <td>t</td>\n",
              "      <td>Vancouver</td>\n",
              "      <td>1</td>\n",
              "    </tr>\n",
              "    <tr>\n",
              "      <th>4</th>\n",
              "      <td>56709</td>\n",
              "      <td>2009-11-23</td>\n",
              "      <td>Vancouver, Canada</td>\n",
              "      <td>Hi! Thanks for visiting my page... I'm a mother, and a health and wellness coach, living and wor...</td>\n",
              "      <td>within a few hours</td>\n",
              "      <td>1.0</td>\n",
              "      <td>0.78</td>\n",
              "      <td>f</td>\n",
              "      <td>Downtown Eastside</td>\n",
              "      <td>4</td>\n",
              "      <td>4</td>\n",
              "      <td>['email', 'phone']</td>\n",
              "      <td>t</td>\n",
              "      <td>Vancouver</td>\n",
              "      <td>4</td>\n",
              "    </tr>\n",
              "  </tbody>\n",
              "</table>\n",
              "</div>"
            ]
          },
          "metadata": {},
          "output_type": "display_data"
        }
      ],
      "metadata": {
        "datalore": {
          "node_id": "W88YxcKVnwIBwYTe2I8lfv",
          "type": "CODE",
          "hide_input_from_viewers": true,
          "hide_output_from_viewers": true
        },
        "id": "P03km2xUKlRe",
        "outputId": "1cbd03a0-63f3-46d5-965f-ea3742bfb2d2"
      }
    },
    {
      "cell_type": "code",
      "source": [
        "\n",
        "# Check if there is a discrepancy with the existing column\n",
        "print(\"Number of hosts with a different 'host_listings_count' and the one we calculated:\",sum_hosts['host_id'][sum_hosts['calc_listings_count']!=sum_hosts['host_listings_count']].shape[0])\n",
        "sum_hosts['host_id'][sum_hosts['calc_listings_count']!=sum_hosts['host_listings_count']].head()"
      ],
      "execution_count": null,
      "outputs": [
        {
          "name": "stdout",
          "text": [
            "Number of hosts with a different 'host_listings_count' and the one we calculated: 1163\n"
          ],
          "output_type": "stream"
        },
        {
          "data": {
            "text/html": [
              "<pre>2       52467\n",
              "17     109845\n",
              "18      52118\n",
              "35    1652613\n",
              "38    1898008\n",
              "Name: host_id, dtype: int64</pre>"
            ]
          },
          "metadata": {},
          "output_type": "display_data"
        }
      ],
      "metadata": {
        "datalore": {
          "node_id": "oSwY47b2NLSYrFM4PsL4LA",
          "type": "CODE",
          "hide_input_from_viewers": true,
          "hide_output_from_viewers": true
        },
        "id": "hY4GSopsKlRe",
        "outputId": "9f9f825d-c957-4976-9ee1-d021156e67db"
      }
    },
    {
      "cell_type": "markdown",
      "source": [
        "There are 1138 discrepancies. Checking in the original csv files showed that our calculation is correct based on those files."
      ],
      "metadata": {
        "datalore": {
          "node_id": "di2Yqh0buYdTAR0ohoqgze",
          "type": "MD",
          "hide_input_from_viewers": true,
          "hide_output_from_viewers": true
        },
        "id": "Tvqo0oT-KlRe"
      }
    },
    {
      "cell_type": "markdown",
      "source": [
        "**For each host, average of distance from center, rating, availability and price for the next 365 days**"
      ],
      "metadata": {
        "datalore": {
          "node_id": "BZMEBhCzjNOuBb72K5UGBg",
          "type": "MD",
          "hide_input_from_viewers": true,
          "hide_output_from_viewers": true
        },
        "id": "4ztYVCRoKlRe"
      }
    },
    {
      "cell_type": "code",
      "source": [
        "\n",
        "# Calculate average of 'calc_dist_from_center','review_scores_rating','availability_365','calc_future_avg_price'\n",
        "# per host and City\n",
        "grouped = df_listings[['host_id','City',\n",
        "                       'calc_dist_from_center','review_scores_rating',\n",
        "                       'availability_365','calc_future_avg_price']].groupby(['host_id','City']).mean().reset_index()\n",
        "# use a dictionary to apply different aggregate function to each column\n",
        "#grouped.agg({'host_id':'count',\n",
        "#             'calc_dist_from_center':'mean'})\n",
        "\n",
        "grouped.rename(columns={'calc_dist_from_center': 'calc_avg_dist_from_center',\n",
        "                        'review_scores_rating':'calc_avg_rating',\n",
        "                        'availability_365':'calc_avg_avail_365'}, inplace=True)\n",
        "#display(grouped.head())\n",
        "sum_hosts = pd.merge(sum_hosts, grouped, on=['host_id','City'])\n",
        "#display(sum_hosts.head())\n",
        "#sum_hosts.shape"
      ],
      "execution_count": null,
      "outputs": [],
      "metadata": {
        "datalore": {
          "node_id": "CDZL7NrkH3Jqb6jqjfZTPx",
          "type": "CODE",
          "hide_input_from_viewers": true,
          "hide_output_from_viewers": true
        },
        "id": "rnPxLikdKlRe"
      }
    },
    {
      "cell_type": "markdown",
      "source": [
        "**Price range per host and City**"
      ],
      "metadata": {
        "datalore": {
          "node_id": "auF3fhbIJ2QuUZa0CQm88l",
          "type": "MD",
          "hide_input_from_viewers": true,
          "hide_output_from_viewers": true
        },
        "id": "ShnJFrT2KlRe"
      }
    },
    {
      "cell_type": "code",
      "source": [
        "# Calculate price range for the future year per host and city\n",
        "grouped = df_listings[['host_id','City',\n",
        "                       'calc_future_min_price', 'calc_future_max_price',]].groupby(['host_id','City'])\n",
        "# use a dictionary to apply different aggregate function to each column\n",
        "grouped = grouped.agg({'calc_future_min_price':'min', 'calc_future_max_price':'max'}).reset_index()\n",
        "\n",
        "sum_hosts = pd.merge(sum_hosts, pd.DataFrame(grouped), on=['host_id','City'])\n",
        "display(sum_hosts.head())\n",
        "#sum_hosts.shape"
      ],
      "execution_count": null,
      "outputs": [
        {
          "data": {
            "text/html": [
              "<div>\n",
              "<style scoped>\n",
              "    .dataframe tbody tr th:only-of-type {\n",
              "        vertical-align: middle;\n",
              "    }\n",
              "\n",
              "    .dataframe tbody tr th {\n",
              "        vertical-align: top;\n",
              "    }\n",
              "\n",
              "    .dataframe thead th {\n",
              "        text-align: right;\n",
              "    }\n",
              "</style>\n",
              "<table border=\"1\" class=\"dataframe\">\n",
              "  <thead>\n",
              "    <tr style=\"text-align: right;\">\n",
              "      <th></th>\n",
              "      <th>host_id</th>\n",
              "      <th>host_since</th>\n",
              "      <th>host_location</th>\n",
              "      <th>host_about</th>\n",
              "      <th>host_response_time</th>\n",
              "      <th>host_response_rate</th>\n",
              "      <th>host_acceptance_rate</th>\n",
              "      <th>host_is_superhost</th>\n",
              "      <th>host_neighbourhood</th>\n",
              "      <th>host_listings_count</th>\n",
              "      <th>host_total_listings_count</th>\n",
              "      <th>host_verifications</th>\n",
              "      <th>host_identity_verified</th>\n",
              "      <th>City</th>\n",
              "      <th>calc_listings_count</th>\n",
              "      <th>calc_avg_dist_from_center</th>\n",
              "      <th>calc_avg_rating</th>\n",
              "      <th>calc_avg_avail_365</th>\n",
              "      <th>calc_future_avg_price</th>\n",
              "      <th>calc_future_min_price</th>\n",
              "      <th>calc_future_max_price</th>\n",
              "    </tr>\n",
              "  </thead>\n",
              "  <tbody>\n",
              "    <tr>\n",
              "      <th>0</th>\n",
              "      <td>51466</td>\n",
              "      <td>2009-11-04</td>\n",
              "      <td>Vancouver, Canada</td>\n",
              "      <td>We are a family who love to travel in comfort and enjoy the ethos and community spirit of AirBNB...</td>\n",
              "      <td>within an hour</td>\n",
              "      <td>1.0</td>\n",
              "      <td>1.00</td>\n",
              "      <td>t</td>\n",
              "      <td>Riley Park</td>\n",
              "      <td>2</td>\n",
              "      <td>3</td>\n",
              "      <td>['email', 'phone']</td>\n",
              "      <td>t</td>\n",
              "      <td>Vancouver</td>\n",
              "      <td>2</td>\n",
              "      <td>4.093911</td>\n",
              "      <td>4.895</td>\n",
              "      <td>150.50</td>\n",
              "      <td>225.375342</td>\n",
              "      <td>150.0</td>\n",
              "      <td>300.0</td>\n",
              "    </tr>\n",
              "    <tr>\n",
              "      <th>1</th>\n",
              "      <td>52116</td>\n",
              "      <td>2009-11-07</td>\n",
              "      <td>Vancouver, Canada</td>\n",
              "      <td>I am from Vancouver and in my free time enjoy Yoga, exploring the neighborhoods of my hometown ,...</td>\n",
              "      <td>within an hour</td>\n",
              "      <td>1.0</td>\n",
              "      <td>0.98</td>\n",
              "      <td>f</td>\n",
              "      <td>Downtown Vancouver</td>\n",
              "      <td>1</td>\n",
              "      <td>1</td>\n",
              "      <td>['email', 'phone']</td>\n",
              "      <td>t</td>\n",
              "      <td>Vancouver</td>\n",
              "      <td>1</td>\n",
              "      <td>0.172432</td>\n",
              "      <td>4.680</td>\n",
              "      <td>108.00</td>\n",
              "      <td>179.400000</td>\n",
              "      <td>150.0</td>\n",
              "      <td>285.0</td>\n",
              "    </tr>\n",
              "    <tr>\n",
              "      <th>2</th>\n",
              "      <td>52467</td>\n",
              "      <td>2009-11-08</td>\n",
              "      <td>Vancouver, Canada</td>\n",
              "      <td>Hello! My husband Fred and I are actors living in central Vancouver.  We pride ourselves on host...</td>\n",
              "      <td>within an hour</td>\n",
              "      <td>1.0</td>\n",
              "      <td>0.96</td>\n",
              "      <td>t</td>\n",
              "      <td>Kensington-Cedar Cottage</td>\n",
              "      <td>3</td>\n",
              "      <td>4</td>\n",
              "      <td>['email', 'phone']</td>\n",
              "      <td>t</td>\n",
              "      <td>Vancouver</td>\n",
              "      <td>1</td>\n",
              "      <td>5.264514</td>\n",
              "      <td>4.920</td>\n",
              "      <td>40.00</td>\n",
              "      <td>150.000000</td>\n",
              "      <td>150.0</td>\n",
              "      <td>150.0</td>\n",
              "    </tr>\n",
              "    <tr>\n",
              "      <th>3</th>\n",
              "      <td>56030</td>\n",
              "      <td>2009-11-20</td>\n",
              "      <td>Vancouver, Canada</td>\n",
              "      <td>We moved into this central Vancouver location 2005.  We were the first residential applicant of ...</td>\n",
              "      <td>NaN</td>\n",
              "      <td>NaN</td>\n",
              "      <td>NaN</td>\n",
              "      <td>f</td>\n",
              "      <td>Kensington-Cedar Cottage</td>\n",
              "      <td>1</td>\n",
              "      <td>1</td>\n",
              "      <td>['email', 'phone']</td>\n",
              "      <td>t</td>\n",
              "      <td>Vancouver</td>\n",
              "      <td>1</td>\n",
              "      <td>4.962790</td>\n",
              "      <td>4.760</td>\n",
              "      <td>31.00</td>\n",
              "      <td>150.000000</td>\n",
              "      <td>150.0</td>\n",
              "      <td>150.0</td>\n",
              "    </tr>\n",
              "    <tr>\n",
              "      <th>4</th>\n",
              "      <td>56709</td>\n",
              "      <td>2009-11-23</td>\n",
              "      <td>Vancouver, Canada</td>\n",
              "      <td>Hi! Thanks for visiting my page... I'm a mother, and a health and wellness coach, living and wor...</td>\n",
              "      <td>within a few hours</td>\n",
              "      <td>1.0</td>\n",
              "      <td>0.78</td>\n",
              "      <td>f</td>\n",
              "      <td>Downtown Eastside</td>\n",
              "      <td>4</td>\n",
              "      <td>4</td>\n",
              "      <td>['email', 'phone']</td>\n",
              "      <td>t</td>\n",
              "      <td>Vancouver</td>\n",
              "      <td>4</td>\n",
              "      <td>3.546602</td>\n",
              "      <td>4.810</td>\n",
              "      <td>114.75</td>\n",
              "      <td>209.021918</td>\n",
              "      <td>100.0</td>\n",
              "      <td>834.0</td>\n",
              "    </tr>\n",
              "  </tbody>\n",
              "</table>\n",
              "</div>"
            ]
          },
          "metadata": {},
          "output_type": "display_data"
        }
      ],
      "metadata": {
        "datalore": {
          "node_id": "2cEv4ys7Adaxb9IUaL0WK9",
          "type": "CODE",
          "hide_input_from_viewers": true,
          "hide_output_from_viewers": true
        },
        "id": "MTRdFlTwKlRe",
        "outputId": "90354376-8b1d-4919-993f-a57db935d7ff"
      }
    },
    {
      "cell_type": "markdown",
      "source": [
        "**Previsional income**\n",
        "\n",
        "average price * average availability for the next 365days"
      ],
      "metadata": {
        "datalore": {
          "node_id": "r6traMxZXh8I0coONK2McJ",
          "type": "MD",
          "hide_input_from_viewers": true,
          "hide_output_from_viewers": true
        },
        "id": "kqU54qYKKlRe"
      }
    },
    {
      "cell_type": "code",
      "source": [
        "\n",
        "# Add calc_income_prev = avg_price/listings * avg availability\n",
        "sum_hosts['calc_income_prev'] = sum_hosts['calc_avg_avail_365']*sum_hosts['calc_future_avg_price']\n",
        "display(sum_hosts.head())"
      ],
      "execution_count": null,
      "outputs": [
        {
          "data": {
            "text/html": [
              "<div>\n",
              "<style scoped>\n",
              "    .dataframe tbody tr th:only-of-type {\n",
              "        vertical-align: middle;\n",
              "    }\n",
              "\n",
              "    .dataframe tbody tr th {\n",
              "        vertical-align: top;\n",
              "    }\n",
              "\n",
              "    .dataframe thead th {\n",
              "        text-align: right;\n",
              "    }\n",
              "</style>\n",
              "<table border=\"1\" class=\"dataframe\">\n",
              "  <thead>\n",
              "    <tr style=\"text-align: right;\">\n",
              "      <th></th>\n",
              "      <th>host_id</th>\n",
              "      <th>host_since</th>\n",
              "      <th>host_location</th>\n",
              "      <th>host_about</th>\n",
              "      <th>host_response_time</th>\n",
              "      <th>host_response_rate</th>\n",
              "      <th>host_acceptance_rate</th>\n",
              "      <th>host_is_superhost</th>\n",
              "      <th>host_neighbourhood</th>\n",
              "      <th>host_listings_count</th>\n",
              "      <th>host_total_listings_count</th>\n",
              "      <th>host_verifications</th>\n",
              "      <th>host_identity_verified</th>\n",
              "      <th>City</th>\n",
              "      <th>calc_listings_count</th>\n",
              "      <th>calc_avg_dist_from_center</th>\n",
              "      <th>calc_avg_rating</th>\n",
              "      <th>calc_avg_avail_365</th>\n",
              "      <th>calc_future_avg_price</th>\n",
              "      <th>calc_future_min_price</th>\n",
              "      <th>calc_future_max_price</th>\n",
              "      <th>calc_income_prev</th>\n",
              "    </tr>\n",
              "  </thead>\n",
              "  <tbody>\n",
              "    <tr>\n",
              "      <th>0</th>\n",
              "      <td>51466</td>\n",
              "      <td>2009-11-04</td>\n",
              "      <td>Vancouver, Canada</td>\n",
              "      <td>We are a family who love to travel in comfort and enjoy the ethos and community spirit of AirBNB...</td>\n",
              "      <td>within an hour</td>\n",
              "      <td>1.0</td>\n",
              "      <td>1.00</td>\n",
              "      <td>t</td>\n",
              "      <td>Riley Park</td>\n",
              "      <td>2</td>\n",
              "      <td>3</td>\n",
              "      <td>['email', 'phone']</td>\n",
              "      <td>t</td>\n",
              "      <td>Vancouver</td>\n",
              "      <td>2</td>\n",
              "      <td>4.093911</td>\n",
              "      <td>4.895</td>\n",
              "      <td>150.50</td>\n",
              "      <td>225.375342</td>\n",
              "      <td>150.0</td>\n",
              "      <td>300.0</td>\n",
              "      <td>33918.989041</td>\n",
              "    </tr>\n",
              "    <tr>\n",
              "      <th>1</th>\n",
              "      <td>52116</td>\n",
              "      <td>2009-11-07</td>\n",
              "      <td>Vancouver, Canada</td>\n",
              "      <td>I am from Vancouver and in my free time enjoy Yoga, exploring the neighborhoods of my hometown ,...</td>\n",
              "      <td>within an hour</td>\n",
              "      <td>1.0</td>\n",
              "      <td>0.98</td>\n",
              "      <td>f</td>\n",
              "      <td>Downtown Vancouver</td>\n",
              "      <td>1</td>\n",
              "      <td>1</td>\n",
              "      <td>['email', 'phone']</td>\n",
              "      <td>t</td>\n",
              "      <td>Vancouver</td>\n",
              "      <td>1</td>\n",
              "      <td>0.172432</td>\n",
              "      <td>4.680</td>\n",
              "      <td>108.00</td>\n",
              "      <td>179.400000</td>\n",
              "      <td>150.0</td>\n",
              "      <td>285.0</td>\n",
              "      <td>19375.200000</td>\n",
              "    </tr>\n",
              "    <tr>\n",
              "      <th>2</th>\n",
              "      <td>52467</td>\n",
              "      <td>2009-11-08</td>\n",
              "      <td>Vancouver, Canada</td>\n",
              "      <td>Hello! My husband Fred and I are actors living in central Vancouver.  We pride ourselves on host...</td>\n",
              "      <td>within an hour</td>\n",
              "      <td>1.0</td>\n",
              "      <td>0.96</td>\n",
              "      <td>t</td>\n",
              "      <td>Kensington-Cedar Cottage</td>\n",
              "      <td>3</td>\n",
              "      <td>4</td>\n",
              "      <td>['email', 'phone']</td>\n",
              "      <td>t</td>\n",
              "      <td>Vancouver</td>\n",
              "      <td>1</td>\n",
              "      <td>5.264514</td>\n",
              "      <td>4.920</td>\n",
              "      <td>40.00</td>\n",
              "      <td>150.000000</td>\n",
              "      <td>150.0</td>\n",
              "      <td>150.0</td>\n",
              "      <td>6000.000000</td>\n",
              "    </tr>\n",
              "    <tr>\n",
              "      <th>3</th>\n",
              "      <td>56030</td>\n",
              "      <td>2009-11-20</td>\n",
              "      <td>Vancouver, Canada</td>\n",
              "      <td>We moved into this central Vancouver location 2005.  We were the first residential applicant of ...</td>\n",
              "      <td>NaN</td>\n",
              "      <td>NaN</td>\n",
              "      <td>NaN</td>\n",
              "      <td>f</td>\n",
              "      <td>Kensington-Cedar Cottage</td>\n",
              "      <td>1</td>\n",
              "      <td>1</td>\n",
              "      <td>['email', 'phone']</td>\n",
              "      <td>t</td>\n",
              "      <td>Vancouver</td>\n",
              "      <td>1</td>\n",
              "      <td>4.962790</td>\n",
              "      <td>4.760</td>\n",
              "      <td>31.00</td>\n",
              "      <td>150.000000</td>\n",
              "      <td>150.0</td>\n",
              "      <td>150.0</td>\n",
              "      <td>4650.000000</td>\n",
              "    </tr>\n",
              "    <tr>\n",
              "      <th>4</th>\n",
              "      <td>56709</td>\n",
              "      <td>2009-11-23</td>\n",
              "      <td>Vancouver, Canada</td>\n",
              "      <td>Hi! Thanks for visiting my page... I'm a mother, and a health and wellness coach, living and wor...</td>\n",
              "      <td>within a few hours</td>\n",
              "      <td>1.0</td>\n",
              "      <td>0.78</td>\n",
              "      <td>f</td>\n",
              "      <td>Downtown Eastside</td>\n",
              "      <td>4</td>\n",
              "      <td>4</td>\n",
              "      <td>['email', 'phone']</td>\n",
              "      <td>t</td>\n",
              "      <td>Vancouver</td>\n",
              "      <td>4</td>\n",
              "      <td>3.546602</td>\n",
              "      <td>4.810</td>\n",
              "      <td>114.75</td>\n",
              "      <td>209.021918</td>\n",
              "      <td>100.0</td>\n",
              "      <td>834.0</td>\n",
              "      <td>23985.265068</td>\n",
              "    </tr>\n",
              "  </tbody>\n",
              "</table>\n",
              "</div>"
            ]
          },
          "metadata": {},
          "output_type": "display_data"
        }
      ],
      "metadata": {
        "datalore": {
          "node_id": "wkFUAAQrqlZabpL0hrEBML",
          "type": "CODE",
          "hide_input_from_viewers": true,
          "hide_output_from_viewers": true
        },
        "id": "74uqWR98KlRe",
        "outputId": "a3d98364-6c3a-4468-c86c-432813cbd024"
      }
    },
    {
      "cell_type": "markdown",
      "source": [
        "**First and Last review ever, total number of reviews per host and city**"
      ],
      "metadata": {
        "datalore": {
          "node_id": "Gw3r84IjTT3hPnmnUHcBXu",
          "type": "MD",
          "hide_input_from_viewers": true,
          "hide_output_from_viewers": true
        },
        "id": "EOBt5F2bKlRe"
      }
    },
    {
      "cell_type": "code",
      "source": [
        "\n",
        "# Add calc_first_review ever per host and city\n",
        "# Add calc_last_review ever per host and city\n",
        "# Add calc_total_reviews total per host and city\n",
        "\n",
        "grouped = master_host[['host_id','City',\n",
        "                       'review_id', 'date_review',]].groupby(['host_id','City'])\n",
        "# use a dictionary to apply different aggregate function to each column\n",
        "grouped = grouped.agg({'review_id':'count', 'date_review':['min','max']}).reset_index()\n",
        "grouped.columns=['host_id', 'City', 'calc_total_reviews', 'calc_first_review', 'calc_last_review']\n",
        "\n",
        "sum_hosts = pd.merge(sum_hosts, pd.DataFrame(grouped), on=['host_id','City'])\n",
        "display(sum_hosts.head())\n",
        "sum_hosts.shape"
      ],
      "execution_count": null,
      "outputs": [
        {
          "data": {
            "text/html": [
              "<div>\n",
              "<style scoped>\n",
              "    .dataframe tbody tr th:only-of-type {\n",
              "        vertical-align: middle;\n",
              "    }\n",
              "\n",
              "    .dataframe tbody tr th {\n",
              "        vertical-align: top;\n",
              "    }\n",
              "\n",
              "    .dataframe thead th {\n",
              "        text-align: right;\n",
              "    }\n",
              "</style>\n",
              "<table border=\"1\" class=\"dataframe\">\n",
              "  <thead>\n",
              "    <tr style=\"text-align: right;\">\n",
              "      <th></th>\n",
              "      <th>host_id</th>\n",
              "      <th>host_since</th>\n",
              "      <th>host_location</th>\n",
              "      <th>host_about</th>\n",
              "      <th>host_response_time</th>\n",
              "      <th>host_response_rate</th>\n",
              "      <th>host_acceptance_rate</th>\n",
              "      <th>host_is_superhost</th>\n",
              "      <th>host_neighbourhood</th>\n",
              "      <th>host_listings_count</th>\n",
              "      <th>host_total_listings_count</th>\n",
              "      <th>host_verifications</th>\n",
              "      <th>host_identity_verified</th>\n",
              "      <th>City</th>\n",
              "      <th>calc_listings_count</th>\n",
              "      <th>calc_avg_dist_from_center</th>\n",
              "      <th>calc_avg_rating</th>\n",
              "      <th>calc_avg_avail_365</th>\n",
              "      <th>calc_future_avg_price</th>\n",
              "      <th>calc_future_min_price</th>\n",
              "      <th>calc_future_max_price</th>\n",
              "      <th>calc_income_prev</th>\n",
              "      <th>calc_total_reviews</th>\n",
              "      <th>calc_first_review</th>\n",
              "      <th>calc_last_review</th>\n",
              "    </tr>\n",
              "  </thead>\n",
              "  <tbody>\n",
              "    <tr>\n",
              "      <th>0</th>\n",
              "      <td>51466</td>\n",
              "      <td>2009-11-04</td>\n",
              "      <td>Vancouver, Canada</td>\n",
              "      <td>We are a family who love to travel in comfort and enjoy the ethos and community spirit of AirBNB...</td>\n",
              "      <td>within an hour</td>\n",
              "      <td>1.0</td>\n",
              "      <td>1.00</td>\n",
              "      <td>t</td>\n",
              "      <td>Riley Park</td>\n",
              "      <td>2</td>\n",
              "      <td>3</td>\n",
              "      <td>['email', 'phone']</td>\n",
              "      <td>t</td>\n",
              "      <td>Vancouver</td>\n",
              "      <td>2</td>\n",
              "      <td>4.093911</td>\n",
              "      <td>4.895</td>\n",
              "      <td>150.50</td>\n",
              "      <td>225.375342</td>\n",
              "      <td>150.0</td>\n",
              "      <td>300.0</td>\n",
              "      <td>33918.989041</td>\n",
              "      <td>304</td>\n",
              "      <td>2010-02-21</td>\n",
              "      <td>2023-09-03</td>\n",
              "    </tr>\n",
              "    <tr>\n",
              "      <th>1</th>\n",
              "      <td>52116</td>\n",
              "      <td>2009-11-07</td>\n",
              "      <td>Vancouver, Canada</td>\n",
              "      <td>I am from Vancouver and in my free time enjoy Yoga, exploring the neighborhoods of my hometown ,...</td>\n",
              "      <td>within an hour</td>\n",
              "      <td>1.0</td>\n",
              "      <td>0.98</td>\n",
              "      <td>f</td>\n",
              "      <td>Downtown Vancouver</td>\n",
              "      <td>1</td>\n",
              "      <td>1</td>\n",
              "      <td>['email', 'phone']</td>\n",
              "      <td>t</td>\n",
              "      <td>Vancouver</td>\n",
              "      <td>1</td>\n",
              "      <td>0.172432</td>\n",
              "      <td>4.680</td>\n",
              "      <td>108.00</td>\n",
              "      <td>179.400000</td>\n",
              "      <td>150.0</td>\n",
              "      <td>285.0</td>\n",
              "      <td>19375.200000</td>\n",
              "      <td>476</td>\n",
              "      <td>2010-06-22</td>\n",
              "      <td>2023-08-20</td>\n",
              "    </tr>\n",
              "    <tr>\n",
              "      <th>2</th>\n",
              "      <td>52467</td>\n",
              "      <td>2009-11-08</td>\n",
              "      <td>Vancouver, Canada</td>\n",
              "      <td>Hello! My husband Fred and I are actors living in central Vancouver.  We pride ourselves on host...</td>\n",
              "      <td>within an hour</td>\n",
              "      <td>1.0</td>\n",
              "      <td>0.96</td>\n",
              "      <td>t</td>\n",
              "      <td>Kensington-Cedar Cottage</td>\n",
              "      <td>3</td>\n",
              "      <td>4</td>\n",
              "      <td>['email', 'phone']</td>\n",
              "      <td>t</td>\n",
              "      <td>Vancouver</td>\n",
              "      <td>1</td>\n",
              "      <td>5.264514</td>\n",
              "      <td>4.920</td>\n",
              "      <td>40.00</td>\n",
              "      <td>150.000000</td>\n",
              "      <td>150.0</td>\n",
              "      <td>150.0</td>\n",
              "      <td>6000.000000</td>\n",
              "      <td>99</td>\n",
              "      <td>2011-06-02</td>\n",
              "      <td>2023-08-03</td>\n",
              "    </tr>\n",
              "    <tr>\n",
              "      <th>3</th>\n",
              "      <td>56030</td>\n",
              "      <td>2009-11-20</td>\n",
              "      <td>Vancouver, Canada</td>\n",
              "      <td>We moved into this central Vancouver location 2005.  We were the first residential applicant of ...</td>\n",
              "      <td>NaN</td>\n",
              "      <td>NaN</td>\n",
              "      <td>NaN</td>\n",
              "      <td>f</td>\n",
              "      <td>Kensington-Cedar Cottage</td>\n",
              "      <td>1</td>\n",
              "      <td>1</td>\n",
              "      <td>['email', 'phone']</td>\n",
              "      <td>t</td>\n",
              "      <td>Vancouver</td>\n",
              "      <td>1</td>\n",
              "      <td>4.962790</td>\n",
              "      <td>4.760</td>\n",
              "      <td>31.00</td>\n",
              "      <td>150.000000</td>\n",
              "      <td>150.0</td>\n",
              "      <td>150.0</td>\n",
              "      <td>4650.000000</td>\n",
              "      <td>34</td>\n",
              "      <td>2010-10-03</td>\n",
              "      <td>2021-07-14</td>\n",
              "    </tr>\n",
              "    <tr>\n",
              "      <th>4</th>\n",
              "      <td>56709</td>\n",
              "      <td>2009-11-23</td>\n",
              "      <td>Vancouver, Canada</td>\n",
              "      <td>Hi! Thanks for visiting my page... I'm a mother, and a health and wellness coach, living and wor...</td>\n",
              "      <td>within a few hours</td>\n",
              "      <td>1.0</td>\n",
              "      <td>0.78</td>\n",
              "      <td>f</td>\n",
              "      <td>Downtown Eastside</td>\n",
              "      <td>4</td>\n",
              "      <td>4</td>\n",
              "      <td>['email', 'phone']</td>\n",
              "      <td>t</td>\n",
              "      <td>Vancouver</td>\n",
              "      <td>4</td>\n",
              "      <td>3.546602</td>\n",
              "      <td>4.810</td>\n",
              "      <td>114.75</td>\n",
              "      <td>209.021918</td>\n",
              "      <td>100.0</td>\n",
              "      <td>834.0</td>\n",
              "      <td>23985.265068</td>\n",
              "      <td>524</td>\n",
              "      <td>2010-02-15</td>\n",
              "      <td>2023-09-03</td>\n",
              "    </tr>\n",
              "  </tbody>\n",
              "</table>\n",
              "</div>"
            ]
          },
          "metadata": {},
          "output_type": "display_data"
        },
        {
          "data": {
            "text/plain": [
              "(7572, 25)"
            ]
          },
          "metadata": {},
          "output_type": "display_data"
        }
      ],
      "metadata": {
        "datalore": {
          "node_id": "9Ya0U08N6GIPwHAraQw01o",
          "type": "CODE",
          "hide_input_from_viewers": true,
          "hide_output_from_viewers": true
        },
        "id": "nHnR8YLSKlRe",
        "outputId": "6da4a836-83d4-4af0-a411-8783e805fe5f"
      }
    },
    {
      "cell_type": "markdown",
      "source": [
        "# E. Create sum_neighbourhoods dataset, the summary of data by neighbourhood"
      ],
      "metadata": {
        "datalore": {
          "node_id": "1tVKp8sDtTZNVhVmF0WQ4e",
          "type": "MD",
          "hide_input_from_viewers": true,
          "hide_output_from_viewers": true
        },
        "id": "GBwgKFxQKlRf"
      }
    },
    {
      "cell_type": "markdown",
      "source": [
        "Create new dataset sum_neighbhoods, it will contain information from the neighbourhood point of view."
      ],
      "metadata": {
        "datalore": {
          "node_id": "TfwOt5BfTcsf5SYkSkWVhM",
          "type": "MD",
          "hide_input_from_viewers": true,
          "hide_output_from_viewers": true
        },
        "id": "XGLyFAEmKlRf"
      }
    },
    {
      "cell_type": "markdown",
      "source": [
        "## a. Create the base of the dataset  \n",
        "And add the column number of listings per neighbourhood  "
      ],
      "metadata": {
        "datalore": {
          "node_id": "rO1k1sIwY0EmG3lDxmVxmt",
          "type": "MD",
          "hide_input_from_viewers": true,
          "hide_output_from_viewers": true
        },
        "id": "eGi3dNM6KlRf"
      }
    },
    {
      "cell_type": "code",
      "source": [
        "\n",
        "# Create a new dataset sum_hosts\n",
        "sum_neighbourhoods = master_host[['neighbourhood_cleansed']].drop_duplicates()\n",
        "sum_neighbourhoods.reset_index(drop=True, inplace=True)\n",
        "display(sum_neighbourhoods.head())\n",
        "sum_neighbourhoods.shape\n",
        "#type(sum_hosts)"
      ],
      "execution_count": null,
      "outputs": [
        {
          "data": {
            "text/html": [
              "<div>\n",
              "<style scoped>\n",
              "    .dataframe tbody tr th:only-of-type {\n",
              "        vertical-align: middle;\n",
              "    }\n",
              "\n",
              "    .dataframe tbody tr th {\n",
              "        vertical-align: top;\n",
              "    }\n",
              "\n",
              "    .dataframe thead th {\n",
              "        text-align: right;\n",
              "    }\n",
              "</style>\n",
              "<table border=\"1\" class=\"dataframe\">\n",
              "  <thead>\n",
              "    <tr style=\"text-align: right;\">\n",
              "      <th></th>\n",
              "      <th>neighbourhood_cleansed</th>\n",
              "    </tr>\n",
              "  </thead>\n",
              "  <tbody>\n",
              "    <tr>\n",
              "      <th>0</th>\n",
              "      <td>Riley Park</td>\n",
              "    </tr>\n",
              "    <tr>\n",
              "      <th>1</th>\n",
              "      <td>West End</td>\n",
              "    </tr>\n",
              "    <tr>\n",
              "      <th>2</th>\n",
              "      <td>Kensington-Cedar Cottage</td>\n",
              "    </tr>\n",
              "    <tr>\n",
              "      <th>3</th>\n",
              "      <td>Downtown Eastside</td>\n",
              "    </tr>\n",
              "    <tr>\n",
              "      <th>4</th>\n",
              "      <td>Hastings-Sunrise</td>\n",
              "    </tr>\n",
              "  </tbody>\n",
              "</table>\n",
              "</div>"
            ]
          },
          "metadata": {},
          "output_type": "display_data"
        },
        {
          "data": {
            "text/plain": [
              "(51, 1)"
            ]
          },
          "metadata": {},
          "output_type": "display_data"
        }
      ],
      "metadata": {
        "datalore": {
          "node_id": "aytr2QNH85zf8bRYPBGdw3",
          "type": "CODE",
          "hide_input_from_viewers": true,
          "hide_output_from_viewers": true
        },
        "id": "59L2fA6mKlRf",
        "outputId": "5c21e3c2-8a8a-4dae-a4c3-65ee7c446279"
      }
    },
    {
      "cell_type": "code",
      "source": [
        "# join with the other host columns from the master\n",
        "columns_to_include = ['neighbourhood_cleansed',\n",
        "                      'neighbourhood_group_cleansed',\n",
        "                      'City']\n",
        "sum_neighbourhoods = pd.merge(sum_neighbourhoods, master_host[columns_to_include]).drop_duplicates()\n",
        "# Rename the main columns to shorter names\n",
        "sum_neighbourhoods.rename(columns={'neighbourhood_cleansed':'neighb_name',\n",
        "                                   'neighbourhood_group_cleansed':'neighb_group'}, inplace=True)\n",
        "\n",
        "display(sum_neighbourhoods.head())\n",
        "sum_neighbourhoods.shape"
      ],
      "execution_count": null,
      "outputs": [
        {
          "data": {
            "text/html": [
              "<div>\n",
              "<style scoped>\n",
              "    .dataframe tbody tr th:only-of-type {\n",
              "        vertical-align: middle;\n",
              "    }\n",
              "\n",
              "    .dataframe tbody tr th {\n",
              "        vertical-align: top;\n",
              "    }\n",
              "\n",
              "    .dataframe thead th {\n",
              "        text-align: right;\n",
              "    }\n",
              "</style>\n",
              "<table border=\"1\" class=\"dataframe\">\n",
              "  <thead>\n",
              "    <tr style=\"text-align: right;\">\n",
              "      <th></th>\n",
              "      <th>neighb_name</th>\n",
              "      <th>neighb_group</th>\n",
              "      <th>City</th>\n",
              "    </tr>\n",
              "  </thead>\n",
              "  <tbody>\n",
              "    <tr>\n",
              "      <th>0</th>\n",
              "      <td>Riley Park</td>\n",
              "      <td>Vancouver</td>\n",
              "      <td>Vancouver</td>\n",
              "    </tr>\n",
              "    <tr>\n",
              "      <th>16397</th>\n",
              "      <td>West End</td>\n",
              "      <td>Vancouver</td>\n",
              "      <td>Vancouver</td>\n",
              "    </tr>\n",
              "    <tr>\n",
              "      <th>32787</th>\n",
              "      <td>Kensington-Cedar Cottage</td>\n",
              "      <td>Vancouver</td>\n",
              "      <td>Vancouver</td>\n",
              "    </tr>\n",
              "    <tr>\n",
              "      <th>50780</th>\n",
              "      <td>Downtown Eastside</td>\n",
              "      <td>Vancouver</td>\n",
              "      <td>Vancouver</td>\n",
              "    </tr>\n",
              "    <tr>\n",
              "      <th>71964</th>\n",
              "      <td>Hastings-Sunrise</td>\n",
              "      <td>Vancouver</td>\n",
              "      <td>Vancouver</td>\n",
              "    </tr>\n",
              "  </tbody>\n",
              "</table>\n",
              "</div>"
            ]
          },
          "metadata": {},
          "output_type": "display_data"
        },
        {
          "data": {
            "text/plain": [
              "(52, 3)"
            ]
          },
          "metadata": {},
          "output_type": "display_data"
        }
      ],
      "metadata": {
        "datalore": {
          "node_id": "uSudFUXSkch5XqcRZq0WEv",
          "type": "CODE",
          "hide_input_from_viewers": true,
          "hide_output_from_viewers": true
        },
        "id": "oLBBA2D9KlRf",
        "outputId": "64e9be78-e0ba-4802-a37e-745aa9f1bf07"
      }
    },
    {
      "cell_type": "markdown",
      "source": [
        "Once merged with the master, there is more 1 neighbourhood than before. There is 1 duplicate neighb_name.  \n",
        "After checking the data associated, it appears that there is a neighborhood named Downtown in Vancouver and Victoria, that explains the difference.\n",
        "We can keep working on the dataset sum_neighbourhoods."
      ],
      "metadata": {
        "datalore": {
          "node_id": "PDSdorwzgv1rJjDSREy3eU",
          "type": "MD",
          "hide_input_from_viewers": true,
          "hide_output_from_viewers": true
        },
        "id": "67axjXO5KlRf"
      }
    },
    {
      "cell_type": "code",
      "source": [
        "## Do we have duplicates in neighb_name? and why?\n",
        "dupl_ids = sum_neighbourhoods['neighb_name'].value_counts()\n",
        "print(\"How many duplicate neighb_name:\",dupl_ids[sum_neighbourhoods['neighb_name'].value_counts()>1].size)\n",
        "ids_to_check=dupl_ids[sum_neighbourhoods['neighb_name'].value_counts()>1].index\n",
        "print(\"Duplicated neighb_name\",ids_to_check)\n",
        "\n",
        "sum_neighbourhoods[sum_neighbourhoods['neighb_name'].isin(ids_to_check)].head(10)"
      ],
      "execution_count": null,
      "outputs": [
        {
          "name": "stdout",
          "text": [
            "How many duplicate neighb_name: 1\n",
            "Duplicated neighb_name Index(['Downtown'], dtype='object')\n"
          ],
          "output_type": "stream"
        },
        {
          "data": {
            "text/html": [
              "<div>\n",
              "<style scoped>\n",
              "    .dataframe tbody tr th:only-of-type {\n",
              "        vertical-align: middle;\n",
              "    }\n",
              "\n",
              "    .dataframe tbody tr th {\n",
              "        vertical-align: top;\n",
              "    }\n",
              "\n",
              "    .dataframe thead th {\n",
              "        text-align: right;\n",
              "    }\n",
              "</style>\n",
              "<table border=\"1\" class=\"dataframe\">\n",
              "  <thead>\n",
              "    <tr style=\"text-align: right;\">\n",
              "      <th></th>\n",
              "      <th>neighb_name</th>\n",
              "      <th>neighb_group</th>\n",
              "      <th>City</th>\n",
              "    </tr>\n",
              "  </thead>\n",
              "  <tbody>\n",
              "    <tr>\n",
              "      <th>123427</th>\n",
              "      <td>Downtown</td>\n",
              "      <td>Vancouver</td>\n",
              "      <td>Vancouver</td>\n",
              "    </tr>\n",
              "    <tr>\n",
              "      <th>194868</th>\n",
              "      <td>Downtown</td>\n",
              "      <td>Victoria</td>\n",
              "      <td>Victoria</td>\n",
              "    </tr>\n",
              "  </tbody>\n",
              "</table>\n",
              "</div>"
            ]
          },
          "metadata": {},
          "output_type": "display_data"
        }
      ],
      "metadata": {
        "datalore": {
          "node_id": "o50jxSCiT8DbmsqsElrs0b",
          "type": "CODE",
          "hide_input_from_viewers": true,
          "hide_output_from_viewers": true
        },
        "id": "gYv2fgp7KlRf",
        "outputId": "b915602a-4875-41c8-b5c0-63a62ae9d369"
      }
    },
    {
      "cell_type": "markdown",
      "source": [
        "## b. Add calculated columns\n",
        "Here we have the choice to aggregate by neighb_name only (any city) or neighb_name+City. Since we want to be able to compare the 2 cities in a further analysis we chose to aggregate by neighb_name+City.  "
      ],
      "metadata": {
        "datalore": {
          "node_id": "zAYvgQ7GoBt6h5W35C0Z3C",
          "type": "MD",
          "hide_input_from_viewers": true,
          "hide_output_from_viewers": true
        },
        "id": "1HtOuHRBKlRf"
      }
    },
    {
      "cell_type": "markdown",
      "source": [
        "**Number of listings per neighborhood**"
      ],
      "metadata": {
        "datalore": {
          "node_id": "8veoVBOuZki1UIYlZcLKOW",
          "type": "MD",
          "hide_input_from_viewers": true,
          "hide_output_from_viewers": true
        },
        "id": "MCBUoz96KlRf"
      }
    },
    {
      "cell_type": "code",
      "source": [
        "\n",
        "# Add calc_listings_count to sum_neighbourhoods\n",
        "new_neighb_col = pd.DataFrame(df_listings[['neighbourhood_cleansed','City']].groupby(['neighbourhood_cleansed','City']).size().reset_index(name='calc_listings_count'))\n",
        "sum_neighbourhoods = pd.merge(sum_neighbourhoods, new_neighb_col, left_on=['neighb_name','City'], right_on=['neighbourhood_cleansed','City'])\n",
        "#remove the duplicate column neighbourhood_cleansed\n",
        "sum_neighbourhoods.drop(['neighbourhood_cleansed'], axis=1, inplace=True)\n",
        "display(sum_neighbourhoods.head())\n",
        "sum_neighbourhoods.shape"
      ],
      "execution_count": null,
      "outputs": [
        {
          "data": {
            "text/html": [
              "<div>\n",
              "<style scoped>\n",
              "    .dataframe tbody tr th:only-of-type {\n",
              "        vertical-align: middle;\n",
              "    }\n",
              "\n",
              "    .dataframe tbody tr th {\n",
              "        vertical-align: top;\n",
              "    }\n",
              "\n",
              "    .dataframe thead th {\n",
              "        text-align: right;\n",
              "    }\n",
              "</style>\n",
              "<table border=\"1\" class=\"dataframe\">\n",
              "  <thead>\n",
              "    <tr style=\"text-align: right;\">\n",
              "      <th></th>\n",
              "      <th>neighb_name</th>\n",
              "      <th>neighb_group</th>\n",
              "      <th>City</th>\n",
              "      <th>calc_listings_count</th>\n",
              "    </tr>\n",
              "  </thead>\n",
              "  <tbody>\n",
              "    <tr>\n",
              "      <th>0</th>\n",
              "      <td>Riley Park</td>\n",
              "      <td>Vancouver</td>\n",
              "      <td>Vancouver</td>\n",
              "      <td>324</td>\n",
              "    </tr>\n",
              "    <tr>\n",
              "      <th>1</th>\n",
              "      <td>West End</td>\n",
              "      <td>Vancouver</td>\n",
              "      <td>Vancouver</td>\n",
              "      <td>512</td>\n",
              "    </tr>\n",
              "    <tr>\n",
              "      <th>2</th>\n",
              "      <td>Kensington-Cedar Cottage</td>\n",
              "      <td>Vancouver</td>\n",
              "      <td>Vancouver</td>\n",
              "      <td>427</td>\n",
              "    </tr>\n",
              "    <tr>\n",
              "      <th>3</th>\n",
              "      <td>Downtown Eastside</td>\n",
              "      <td>Vancouver</td>\n",
              "      <td>Vancouver</td>\n",
              "      <td>350</td>\n",
              "    </tr>\n",
              "    <tr>\n",
              "      <th>4</th>\n",
              "      <td>Hastings-Sunrise</td>\n",
              "      <td>Vancouver</td>\n",
              "      <td>Vancouver</td>\n",
              "      <td>276</td>\n",
              "    </tr>\n",
              "  </tbody>\n",
              "</table>\n",
              "</div>"
            ]
          },
          "metadata": {},
          "output_type": "display_data"
        },
        {
          "data": {
            "text/plain": [
              "(52, 4)"
            ]
          },
          "metadata": {},
          "output_type": "display_data"
        }
      ],
      "metadata": {
        "datalore": {
          "node_id": "9RtHYawQ8H1uQMnHYZMFuu",
          "type": "CODE",
          "hide_input_from_viewers": true,
          "hide_output_from_viewers": true
        },
        "id": "o7LqsOJ-KlRf",
        "outputId": "f2340f12-efb6-4007-ee1c-a219d1e8a398"
      }
    },
    {
      "cell_type": "markdown",
      "source": [
        "**For each neighborhood, average of distance from center, rating, availability and price for the next 365 days**"
      ],
      "metadata": {
        "datalore": {
          "node_id": "i8qsCdyTbCJXTSYCMQe3Cf",
          "type": "MD",
          "hide_input_from_viewers": true,
          "hide_output_from_viewers": true
        },
        "id": "V0401BrzKlRf"
      }
    },
    {
      "cell_type": "code",
      "source": [
        "\n",
        "# Calculate average of 'calc_dist_from_center','review_scores_rating','availability_365','calc_future_avg_price'\n",
        "# per neighborhood and City\n",
        "grouped = df_listings[['neighbourhood_cleansed','City',\n",
        "                       'calc_dist_from_center','review_scores_rating',\n",
        "                       'availability_365','calc_future_avg_price']].groupby(['neighbourhood_cleansed','City']).mean().reset_index()\n",
        "grouped.rename(columns={'calc_dist_from_center': 'calc_avg_dist_from_center',\n",
        "                        'review_scores_rating':'calc_avg_rating',\n",
        "                        'availability_365':'calc_avg_avail_365'}, inplace=True)\n",
        "sum_neighbourhoods = pd.merge(sum_neighbourhoods, grouped, left_on=['neighb_name','City'], right_on=['neighbourhood_cleansed','City'])\n",
        "#remove the duplicate column neighbourhood_cleansed\n",
        "sum_neighbourhoods.drop(['neighbourhood_cleansed'], axis=1, inplace=True)\n",
        "display(sum_neighbourhoods.head())\n",
        "sum_neighbourhoods.shape"
      ],
      "execution_count": null,
      "outputs": [
        {
          "data": {
            "text/html": [
              "<div>\n",
              "<style scoped>\n",
              "    .dataframe tbody tr th:only-of-type {\n",
              "        vertical-align: middle;\n",
              "    }\n",
              "\n",
              "    .dataframe tbody tr th {\n",
              "        vertical-align: top;\n",
              "    }\n",
              "\n",
              "    .dataframe thead th {\n",
              "        text-align: right;\n",
              "    }\n",
              "</style>\n",
              "<table border=\"1\" class=\"dataframe\">\n",
              "  <thead>\n",
              "    <tr style=\"text-align: right;\">\n",
              "      <th></th>\n",
              "      <th>neighb_name</th>\n",
              "      <th>neighb_group</th>\n",
              "      <th>City</th>\n",
              "      <th>calc_listings_count</th>\n",
              "      <th>calc_avg_dist_from_center</th>\n",
              "      <th>calc_avg_rating</th>\n",
              "      <th>calc_avg_avail_365</th>\n",
              "      <th>calc_future_avg_price</th>\n",
              "    </tr>\n",
              "  </thead>\n",
              "  <tbody>\n",
              "    <tr>\n",
              "      <th>0</th>\n",
              "      <td>Riley Park</td>\n",
              "      <td>Vancouver</td>\n",
              "      <td>Vancouver</td>\n",
              "      <td>324</td>\n",
              "      <td>4.466205</td>\n",
              "      <td>4.779153</td>\n",
              "      <td>155.330247</td>\n",
              "      <td>236.398935</td>\n",
              "    </tr>\n",
              "    <tr>\n",
              "      <th>1</th>\n",
              "      <td>West End</td>\n",
              "      <td>Vancouver</td>\n",
              "      <td>Vancouver</td>\n",
              "      <td>512</td>\n",
              "      <td>0.693393</td>\n",
              "      <td>4.754296</td>\n",
              "      <td>139.433594</td>\n",
              "      <td>255.801696</td>\n",
              "    </tr>\n",
              "    <tr>\n",
              "      <th>2</th>\n",
              "      <td>Kensington-Cedar Cottage</td>\n",
              "      <td>Vancouver</td>\n",
              "      <td>Vancouver</td>\n",
              "      <td>427</td>\n",
              "      <td>5.457005</td>\n",
              "      <td>4.780780</td>\n",
              "      <td>130.962529</td>\n",
              "      <td>191.772192</td>\n",
              "    </tr>\n",
              "    <tr>\n",
              "      <th>3</th>\n",
              "      <td>Downtown Eastside</td>\n",
              "      <td>Vancouver</td>\n",
              "      <td>Vancouver</td>\n",
              "      <td>350</td>\n",
              "      <td>1.982408</td>\n",
              "      <td>4.795443</td>\n",
              "      <td>143.685714</td>\n",
              "      <td>247.624023</td>\n",
              "    </tr>\n",
              "    <tr>\n",
              "      <th>4</th>\n",
              "      <td>Hastings-Sunrise</td>\n",
              "      <td>Vancouver</td>\n",
              "      <td>Vancouver</td>\n",
              "      <td>276</td>\n",
              "      <td>6.185626</td>\n",
              "      <td>4.811855</td>\n",
              "      <td>135.072464</td>\n",
              "      <td>182.054268</td>\n",
              "    </tr>\n",
              "  </tbody>\n",
              "</table>\n",
              "</div>"
            ]
          },
          "metadata": {},
          "output_type": "display_data"
        },
        {
          "data": {
            "text/plain": [
              "(52, 8)"
            ]
          },
          "metadata": {},
          "output_type": "display_data"
        }
      ],
      "metadata": {
        "datalore": {
          "node_id": "rw5Xh8b64pK44xvTI7xqsX",
          "type": "CODE",
          "hide_input_from_viewers": true,
          "hide_output_from_viewers": true
        },
        "id": "z2qnW69mKlRf",
        "outputId": "78079a64-7f99-41f6-e549-6e685ac6d5fc"
      }
    },
    {
      "cell_type": "markdown",
      "source": [
        "**Price range per neighborhood and city**"
      ],
      "metadata": {
        "datalore": {
          "node_id": "S2G05Bha5K3GXbFiVwer2F",
          "type": "MD",
          "hide_input_from_viewers": true,
          "hide_output_from_viewers": true
        },
        "id": "xK6n0abZKlRf"
      }
    },
    {
      "cell_type": "code",
      "source": [
        "# Calculate price range for the future year per host and city\n",
        "grouped = df_listings[['neighbourhood_cleansed','City',\n",
        "                       'calc_future_min_price', 'calc_future_max_price',]].groupby(['neighbourhood_cleansed','City'])\n",
        "# use a dictionary to apply different aggregate function to each column\n",
        "grouped = grouped.agg({'calc_future_min_price':'min', 'calc_future_max_price':'max'}).reset_index()\n",
        "\n",
        "sum_neighbourhoods = pd.merge(sum_neighbourhoods, grouped, left_on=['neighb_name','City'], right_on=['neighbourhood_cleansed','City'])\n",
        "#remove the duplicate column neighbourhood_cleansed\n",
        "sum_neighbourhoods.drop(['neighbourhood_cleansed'], axis=1, inplace=True)\n",
        "display(sum_neighbourhoods.head())\n",
        "sum_neighbourhoods.shape"
      ],
      "execution_count": null,
      "outputs": [
        {
          "data": {
            "text/html": [
              "<div>\n",
              "<style scoped>\n",
              "    .dataframe tbody tr th:only-of-type {\n",
              "        vertical-align: middle;\n",
              "    }\n",
              "\n",
              "    .dataframe tbody tr th {\n",
              "        vertical-align: top;\n",
              "    }\n",
              "\n",
              "    .dataframe thead th {\n",
              "        text-align: right;\n",
              "    }\n",
              "</style>\n",
              "<table border=\"1\" class=\"dataframe\">\n",
              "  <thead>\n",
              "    <tr style=\"text-align: right;\">\n",
              "      <th></th>\n",
              "      <th>neighb_name</th>\n",
              "      <th>neighb_group</th>\n",
              "      <th>City</th>\n",
              "      <th>calc_listings_count</th>\n",
              "      <th>calc_avg_dist_from_center</th>\n",
              "      <th>calc_avg_rating</th>\n",
              "      <th>calc_avg_avail_365</th>\n",
              "      <th>calc_future_avg_price</th>\n",
              "      <th>calc_future_min_price</th>\n",
              "      <th>calc_future_max_price</th>\n",
              "    </tr>\n",
              "  </thead>\n",
              "  <tbody>\n",
              "    <tr>\n",
              "      <th>0</th>\n",
              "      <td>Riley Park</td>\n",
              "      <td>Vancouver</td>\n",
              "      <td>Vancouver</td>\n",
              "      <td>324</td>\n",
              "      <td>4.466205</td>\n",
              "      <td>4.779153</td>\n",
              "      <td>155.330247</td>\n",
              "      <td>236.398935</td>\n",
              "      <td>34.0</td>\n",
              "      <td>2500.0</td>\n",
              "    </tr>\n",
              "    <tr>\n",
              "      <th>1</th>\n",
              "      <td>West End</td>\n",
              "      <td>Vancouver</td>\n",
              "      <td>Vancouver</td>\n",
              "      <td>512</td>\n",
              "      <td>0.693393</td>\n",
              "      <td>4.754296</td>\n",
              "      <td>139.433594</td>\n",
              "      <td>255.801696</td>\n",
              "      <td>14.0</td>\n",
              "      <td>3500.0</td>\n",
              "    </tr>\n",
              "    <tr>\n",
              "      <th>2</th>\n",
              "      <td>Kensington-Cedar Cottage</td>\n",
              "      <td>Vancouver</td>\n",
              "      <td>Vancouver</td>\n",
              "      <td>427</td>\n",
              "      <td>5.457005</td>\n",
              "      <td>4.780780</td>\n",
              "      <td>130.962529</td>\n",
              "      <td>191.772192</td>\n",
              "      <td>24.0</td>\n",
              "      <td>3500.0</td>\n",
              "    </tr>\n",
              "    <tr>\n",
              "      <th>3</th>\n",
              "      <td>Downtown Eastside</td>\n",
              "      <td>Vancouver</td>\n",
              "      <td>Vancouver</td>\n",
              "      <td>350</td>\n",
              "      <td>1.982408</td>\n",
              "      <td>4.795443</td>\n",
              "      <td>143.685714</td>\n",
              "      <td>247.624023</td>\n",
              "      <td>27.0</td>\n",
              "      <td>1763.0</td>\n",
              "    </tr>\n",
              "    <tr>\n",
              "      <th>4</th>\n",
              "      <td>Hastings-Sunrise</td>\n",
              "      <td>Vancouver</td>\n",
              "      <td>Vancouver</td>\n",
              "      <td>276</td>\n",
              "      <td>6.185626</td>\n",
              "      <td>4.811855</td>\n",
              "      <td>135.072464</td>\n",
              "      <td>182.054268</td>\n",
              "      <td>25.0</td>\n",
              "      <td>2160.0</td>\n",
              "    </tr>\n",
              "  </tbody>\n",
              "</table>\n",
              "</div>"
            ]
          },
          "metadata": {},
          "output_type": "display_data"
        },
        {
          "data": {
            "text/plain": [
              "(52, 10)"
            ]
          },
          "metadata": {},
          "output_type": "display_data"
        }
      ],
      "metadata": {
        "datalore": {
          "node_id": "6dsYHPURbbG6YSRP6ZTAGo",
          "type": "CODE",
          "hide_input_from_viewers": true,
          "hide_output_from_viewers": true
        },
        "id": "kwmPDxe1KlRf",
        "outputId": "be4120d0-a7c6-4712-97c1-4c319b785a5a"
      }
    },
    {
      "cell_type": "markdown",
      "source": [
        "**Number of hosts by neighborhood**"
      ],
      "metadata": {
        "datalore": {
          "node_id": "567geT7vAaGiz1gS3v2wnz",
          "type": "MD",
          "hide_input_from_viewers": true,
          "hide_output_from_viewers": true
        },
        "id": "2KoG8LjHKlRf"
      }
    },
    {
      "cell_type": "code",
      "source": [
        "\n",
        "# Calculate nb hosts per neighborhood and City\n",
        "grouped0 = df_listings[['neighbourhood_cleansed','City',\n",
        "                       'host_id']].drop_duplicates()\n",
        "grouped = grouped0[['neighbourhood_cleansed','City',\n",
        "                       'host_id']].groupby(['neighbourhood_cleansed','City']).size().reset_index(name='calc_total_hosts')\n",
        "\n",
        "sum_neighbourhoods = pd.merge(sum_neighbourhoods, grouped, left_on=['neighb_name','City'], right_on=['neighbourhood_cleansed','City'])\n",
        "#remove the duplicate column neighbourhood_cleansed\n",
        "sum_neighbourhoods.drop(['neighbourhood_cleansed'], axis=1, inplace=True)\n",
        "display(sum_neighbourhoods.head())\n",
        "sum_neighbourhoods.shape"
      ],
      "execution_count": null,
      "outputs": [
        {
          "data": {
            "text/html": [
              "<div>\n",
              "<style scoped>\n",
              "    .dataframe tbody tr th:only-of-type {\n",
              "        vertical-align: middle;\n",
              "    }\n",
              "\n",
              "    .dataframe tbody tr th {\n",
              "        vertical-align: top;\n",
              "    }\n",
              "\n",
              "    .dataframe thead th {\n",
              "        text-align: right;\n",
              "    }\n",
              "</style>\n",
              "<table border=\"1\" class=\"dataframe\">\n",
              "  <thead>\n",
              "    <tr style=\"text-align: right;\">\n",
              "      <th></th>\n",
              "      <th>neighb_name</th>\n",
              "      <th>neighb_group</th>\n",
              "      <th>City</th>\n",
              "      <th>calc_listings_count</th>\n",
              "      <th>calc_avg_dist_from_center</th>\n",
              "      <th>calc_avg_rating</th>\n",
              "      <th>calc_avg_avail_365</th>\n",
              "      <th>calc_future_avg_price</th>\n",
              "      <th>calc_future_min_price</th>\n",
              "      <th>calc_future_max_price</th>\n",
              "      <th>calc_total_hosts_x</th>\n",
              "      <th>calc_total_hosts_y</th>\n",
              "    </tr>\n",
              "  </thead>\n",
              "  <tbody>\n",
              "    <tr>\n",
              "      <th>0</th>\n",
              "      <td>Riley Park</td>\n",
              "      <td>Vancouver</td>\n",
              "      <td>Vancouver</td>\n",
              "      <td>324</td>\n",
              "      <td>4.466205</td>\n",
              "      <td>4.779153</td>\n",
              "      <td>155.330247</td>\n",
              "      <td>236.398935</td>\n",
              "      <td>34.0</td>\n",
              "      <td>2500.0</td>\n",
              "      <td>324</td>\n",
              "      <td>236</td>\n",
              "    </tr>\n",
              "    <tr>\n",
              "      <th>1</th>\n",
              "      <td>West End</td>\n",
              "      <td>Vancouver</td>\n",
              "      <td>Vancouver</td>\n",
              "      <td>512</td>\n",
              "      <td>0.693393</td>\n",
              "      <td>4.754296</td>\n",
              "      <td>139.433594</td>\n",
              "      <td>255.801696</td>\n",
              "      <td>14.0</td>\n",
              "      <td>3500.0</td>\n",
              "      <td>512</td>\n",
              "      <td>321</td>\n",
              "    </tr>\n",
              "    <tr>\n",
              "      <th>2</th>\n",
              "      <td>Kensington-Cedar Cottage</td>\n",
              "      <td>Vancouver</td>\n",
              "      <td>Vancouver</td>\n",
              "      <td>427</td>\n",
              "      <td>5.457005</td>\n",
              "      <td>4.780780</td>\n",
              "      <td>130.962529</td>\n",
              "      <td>191.772192</td>\n",
              "      <td>24.0</td>\n",
              "      <td>3500.0</td>\n",
              "      <td>427</td>\n",
              "      <td>322</td>\n",
              "    </tr>\n",
              "    <tr>\n",
              "      <th>3</th>\n",
              "      <td>Downtown Eastside</td>\n",
              "      <td>Vancouver</td>\n",
              "      <td>Vancouver</td>\n",
              "      <td>350</td>\n",
              "      <td>1.982408</td>\n",
              "      <td>4.795443</td>\n",
              "      <td>143.685714</td>\n",
              "      <td>247.624023</td>\n",
              "      <td>27.0</td>\n",
              "      <td>1763.0</td>\n",
              "      <td>350</td>\n",
              "      <td>311</td>\n",
              "    </tr>\n",
              "    <tr>\n",
              "      <th>4</th>\n",
              "      <td>Hastings-Sunrise</td>\n",
              "      <td>Vancouver</td>\n",
              "      <td>Vancouver</td>\n",
              "      <td>276</td>\n",
              "      <td>6.185626</td>\n",
              "      <td>4.811855</td>\n",
              "      <td>135.072464</td>\n",
              "      <td>182.054268</td>\n",
              "      <td>25.0</td>\n",
              "      <td>2160.0</td>\n",
              "      <td>276</td>\n",
              "      <td>216</td>\n",
              "    </tr>\n",
              "  </tbody>\n",
              "</table>\n",
              "</div>"
            ]
          },
          "metadata": {},
          "output_type": "display_data"
        }
      ],
      "metadata": {
        "datalore": {
          "node_id": "nUR4tOURI0eA5truJIjQd9",
          "type": "CODE",
          "hide_input_from_viewers": true,
          "hide_output_from_viewers": true
        },
        "id": "J_YJKBKaKlRf",
        "outputId": "e110a88b-ef37-4c31-cd51-224ec0ced6ea"
      }
    },
    {
      "cell_type": "markdown",
      "source": [
        "**Nb total of reviews per neighborhood**"
      ],
      "metadata": {
        "datalore": {
          "node_id": "t42SJY1jBTEbZcKH51OLN1",
          "type": "MD",
          "hide_input_from_viewers": true,
          "hide_output_from_viewers": true
        },
        "id": "tNcDNcosKlRg"
      }
    },
    {
      "cell_type": "code",
      "source": [
        "\n",
        "# Add calc_total_reviews total per neighborhood and city\n",
        "grouped = master_host[['neighbourhood_cleansed','City',\n",
        "                       'review_id']].groupby(['neighbourhood_cleansed','City']).size().reset_index(name='calc_total_reviews')\n",
        "#grouped.columns=['host_id', 'City', 'calc_total_reviews', 'calc_first_review', 'calc_last_review']\n",
        "\n",
        "sum_neighbourhoods = pd.merge(sum_neighbourhoods, grouped, left_on=['neighb_name','City'], right_on=['neighbourhood_cleansed','City'])\n",
        "#remove the duplicate column neighbourhood_cleansed\n",
        "sum_neighbourhoods.drop(['neighbourhood_cleansed'], axis=1, inplace=True)\n",
        "display(sum_neighbourhoods.head())\n",
        "sum_neighbourhoods.shape"
      ],
      "execution_count": null,
      "outputs": [
        {
          "data": {
            "text/html": [
              "<div>\n",
              "<style scoped>\n",
              "    .dataframe tbody tr th:only-of-type {\n",
              "        vertical-align: middle;\n",
              "    }\n",
              "\n",
              "    .dataframe tbody tr th {\n",
              "        vertical-align: top;\n",
              "    }\n",
              "\n",
              "    .dataframe thead th {\n",
              "        text-align: right;\n",
              "    }\n",
              "</style>\n",
              "<table border=\"1\" class=\"dataframe\">\n",
              "  <thead>\n",
              "    <tr style=\"text-align: right;\">\n",
              "      <th></th>\n",
              "      <th>neighb_name</th>\n",
              "      <th>neighb_group</th>\n",
              "      <th>City</th>\n",
              "      <th>calc_listings_count</th>\n",
              "      <th>calc_avg_dist_from_center</th>\n",
              "      <th>calc_avg_rating</th>\n",
              "      <th>calc_avg_avail_365</th>\n",
              "      <th>calc_future_avg_price</th>\n",
              "      <th>calc_future_min_price</th>\n",
              "      <th>calc_future_max_price</th>\n",
              "      <th>calc_total_hosts_x</th>\n",
              "      <th>calc_total_hosts_y</th>\n",
              "      <th>calc_total_reviews</th>\n",
              "    </tr>\n",
              "  </thead>\n",
              "  <tbody>\n",
              "    <tr>\n",
              "      <th>0</th>\n",
              "      <td>Riley Park</td>\n",
              "      <td>Vancouver</td>\n",
              "      <td>Vancouver</td>\n",
              "      <td>324</td>\n",
              "      <td>4.466205</td>\n",
              "      <td>4.779153</td>\n",
              "      <td>155.330247</td>\n",
              "      <td>236.398935</td>\n",
              "      <td>34.0</td>\n",
              "      <td>2500.0</td>\n",
              "      <td>324</td>\n",
              "      <td>236</td>\n",
              "      <td>16397</td>\n",
              "    </tr>\n",
              "    <tr>\n",
              "      <th>1</th>\n",
              "      <td>West End</td>\n",
              "      <td>Vancouver</td>\n",
              "      <td>Vancouver</td>\n",
              "      <td>512</td>\n",
              "      <td>0.693393</td>\n",
              "      <td>4.754296</td>\n",
              "      <td>139.433594</td>\n",
              "      <td>255.801696</td>\n",
              "      <td>14.0</td>\n",
              "      <td>3500.0</td>\n",
              "      <td>512</td>\n",
              "      <td>321</td>\n",
              "      <td>16390</td>\n",
              "    </tr>\n",
              "    <tr>\n",
              "      <th>2</th>\n",
              "      <td>Kensington-Cedar Cottage</td>\n",
              "      <td>Vancouver</td>\n",
              "      <td>Vancouver</td>\n",
              "      <td>427</td>\n",
              "      <td>5.457005</td>\n",
              "      <td>4.780780</td>\n",
              "      <td>130.962529</td>\n",
              "      <td>191.772192</td>\n",
              "      <td>24.0</td>\n",
              "      <td>3500.0</td>\n",
              "      <td>427</td>\n",
              "      <td>322</td>\n",
              "      <td>17993</td>\n",
              "    </tr>\n",
              "    <tr>\n",
              "      <th>3</th>\n",
              "      <td>Downtown Eastside</td>\n",
              "      <td>Vancouver</td>\n",
              "      <td>Vancouver</td>\n",
              "      <td>350</td>\n",
              "      <td>1.982408</td>\n",
              "      <td>4.795443</td>\n",
              "      <td>143.685714</td>\n",
              "      <td>247.624023</td>\n",
              "      <td>27.0</td>\n",
              "      <td>1763.0</td>\n",
              "      <td>350</td>\n",
              "      <td>311</td>\n",
              "      <td>21184</td>\n",
              "    </tr>\n",
              "    <tr>\n",
              "      <th>4</th>\n",
              "      <td>Hastings-Sunrise</td>\n",
              "      <td>Vancouver</td>\n",
              "      <td>Vancouver</td>\n",
              "      <td>276</td>\n",
              "      <td>6.185626</td>\n",
              "      <td>4.811855</td>\n",
              "      <td>135.072464</td>\n",
              "      <td>182.054268</td>\n",
              "      <td>25.0</td>\n",
              "      <td>2160.0</td>\n",
              "      <td>276</td>\n",
              "      <td>216</td>\n",
              "      <td>12989</td>\n",
              "    </tr>\n",
              "  </tbody>\n",
              "</table>\n",
              "</div>"
            ]
          },
          "metadata": {},
          "output_type": "display_data"
        },
        {
          "data": {
            "text/plain": [
              "(52, 13)"
            ]
          },
          "metadata": {},
          "output_type": "display_data"
        }
      ],
      "metadata": {
        "datalore": {
          "node_id": "hAzAtFapADphCmndYxwSAb",
          "type": "CODE",
          "hide_input_from_viewers": true,
          "hide_output_from_viewers": true
        },
        "id": "LPc9cDRaKlRg",
        "outputId": "eae37647-5e0c-43d8-f4ab-332c47a4db40"
      }
    },
    {
      "cell_type": "markdown",
      "source": [
        "**Average price based on neighbourhood_group**"
      ],
      "metadata": {
        "datalore": {
          "node_id": "46eXN6Sh3HM5dqynTbsyip",
          "type": "MD",
          "hide_input_from_viewers": true,
          "hide_output_from_viewers": true
        },
        "id": "zHqDglsCKlRg"
      }
    },
    {
      "cell_type": "markdown",
      "source": [
        "## c. Read Geojson file and generate a map in an html file\n",
        "Done for Vancouver and Victoria"
      ],
      "metadata": {
        "datalore": {
          "node_id": "FqFVHwVPkPpZ6mQ9k92zao",
          "type": "MD",
          "hide_input_from_viewers": true,
          "hide_output_from_viewers": true
        },
        "id": "P9CjuNq0KlRg"
      }
    },
    {
      "cell_type": "code",
      "source": [
        "\n",
        "import folium\n",
        "import json\n",
        "#Map of neighborhoods for VANCOUVER\n",
        "#Use the same center of the city than for the distance to the center\n",
        "# Latitude and Longitude of center of downtown in Vancouver (Burrard @ Robson), taken from Google Maps\n",
        "Van_center = (49.283308, -123.1253938)\n",
        "# Latitude and Longitude of center of downtown in Victoria (Fairmont), taken from Google Maps\n",
        "Vic_center = (48.421755, -123.368611)\n",
        "\n",
        "# Load the GeoJSON data from the file\n",
        "with open('Van_neighbourhoods.geojson', 'r') as file:\n",
        "    geojson_data = json.load(file)\n",
        "\n",
        "# Create a folium map centered at a specific location\n",
        "van_map = folium.Map(location=[49.283308, -123.1253938], zoom_start=12)  # Vancouver center\n",
        "\n",
        "# Iterate through features in the GeoJSON data\n",
        "for feature in geojson_data['features']:\n",
        "    # Extract coordinates for MultiPolygon\n",
        "    coordinates = feature['geometry']['coordinates']\n",
        "\n",
        "    # Plot MultiPolygon on the map\n",
        "    folium.GeoJson(\n",
        "        {\n",
        "            'type': 'Feature',\n",
        "            'geometry': {\n",
        "                'type': 'MultiPolygon',\n",
        "                'coordinates': coordinates\n",
        "            },\n",
        "            'properties': feature['properties']\n",
        "        },\n",
        "        #Name of the neighbourhood\n",
        "        tooltip=feature['properties']['neighbourhood']\n",
        "    ).add_to(van_map)\n",
        "\n",
        "# Save the map as an HTML file\n",
        "van_map.save('Van_map_with_geojson.html')"
      ],
      "execution_count": null,
      "outputs": [],
      "metadata": {
        "datalore": {
          "node_id": "tNkqE7wuGqDOMixt2SkrUz",
          "type": "CODE",
          "hide_input_from_viewers": true,
          "hide_output_from_viewers": true
        },
        "id": "UB1OR9egKlRg"
      }
    },
    {
      "cell_type": "code",
      "source": [
        "\n",
        "#Map of neighborhoods for VICTORIA\n",
        "#Use the same center of the city than for the distance to the center\n",
        "# Latitude and Longitude of center of downtown in Vancouver (Burrard @ Robson), taken from Google Maps\n",
        "Van_center = (49.283308, -123.1253938)\n",
        "# Latitude and Longitude of center of downtown in Victoria (Fairmont), taken from Google Maps\n",
        "Vic_center = (48.421755, -123.368611)\n",
        "\n",
        "# Load the GeoJSON data from the file\n",
        "with open('Vic_neighbourhoods.geojson', 'r') as file:\n",
        "    geojson_data = json.load(file)\n",
        "\n",
        "# Create a folium map centered at a specific location\n",
        "vic_map = folium.Map(location=[48.4275, -123.3673], zoom_start=12)  #Victoria center\n",
        "\n",
        "# Iterate through features in the GeoJSON data\n",
        "for feature in geojson_data['features']:\n",
        "    # Extract coordinates for MultiPolygon\n",
        "    coordinates = feature['geometry']['coordinates']\n",
        "\n",
        "    # Plot MultiPolygon on the map\n",
        "    folium.GeoJson(\n",
        "        {\n",
        "            'type': 'Feature',\n",
        "            'geometry': {\n",
        "                'type': 'MultiPolygon',\n",
        "                'coordinates': coordinates\n",
        "            },\n",
        "            'properties': feature['properties']\n",
        "        },\n",
        "        #Name of the neighbourhood\n",
        "        tooltip=feature['properties']['neighbourhood']\n",
        "    ).add_to(vic_map)\n",
        "\n",
        "# Save the Victoria map as an HTML file\n",
        "vic_map.save('Vic_map_with_geojson.html')"
      ],
      "execution_count": null,
      "outputs": [],
      "metadata": {
        "datalore": {
          "node_id": "cslChZ67nDMxw4eq04ABBl",
          "type": "CODE",
          "hide_input_from_viewers": true,
          "hide_output_from_viewers": true
        },
        "id": "UVk5ygWhKlRg"
      }
    },
    {
      "cell_type": "markdown",
      "source": [
        "# F. Graphs"
      ],
      "metadata": {
        "datalore": {
          "node_id": "Goq8lcA3GBPLMaN2r2TG7N",
          "type": "MD",
          "hide_input_from_viewers": true,
          "hide_output_from_viewers": true
        },
        "id": "crq2S2nHKlRg"
      }
    },
    {
      "cell_type": "markdown",
      "source": [
        "## a. Average price comparison between Vancouver & Victoria city"
      ],
      "metadata": {
        "datalore": {
          "node_id": "XrhxNAAnXuDcQwVYb33Dis",
          "type": "MD",
          "hide_input_from_viewers": true,
          "hide_output_from_viewers": true
        },
        "id": "ljb7fa2YKlRg"
      }
    },
    {
      "cell_type": "code",
      "source": [
        "\n",
        "# Bar plot for average price comparison\n",
        "average_price = df.groupby('City')['price'].mean()\n",
        "average_price.plot(kind='bar', rot=0, color=['skyblue', 'lightgreen'])\n",
        "plt.title('Average Price Comparison')\n",
        "plt.xlabel('City')\n",
        "plt.ylabel('Average Price')\n",
        "plt.show()"
      ],
      "execution_count": null,
      "outputs": [
        {
          "data": {
            "image/png": "[encoded data removed]"
          },
          "metadata": {
            "image/png": {}
          },
          "output_type": "display_data"
        }
      ],
      "metadata": {
        "datalore": {
          "node_id": "PZlI4D9Hub3OeY33sw0FPN",
          "type": "CODE",
          "hide_input_from_viewers": true,
          "hide_output_from_viewers": true
        },
        "id": "HfGEA2pKKlRg",
        "outputId": "9a0dc57f-6f2b-4ac4-bc21-83c3fa55a232"
      }
    },
    {
      "cell_type": "markdown",
      "source": [
        "## b. Average price for Quarter 1 comparing Vancouver and Victoria city"
      ],
      "metadata": {
        "datalore": {
          "node_id": "jxuiSddlsheseberOu9y6O",
          "type": "MD",
          "hide_input_from_viewers": true,
          "hide_output_from_viewers": true
        },
        "id": "Ed39JLgYKlRg"
      }
    },
    {
      "cell_type": "code",
      "source": [
        "\n",
        "# Boxplot for average price for Quarter 1 comparing Vancouver and Victoria\n",
        "plt.figure(figsize=(12, 6))\n",
        "sns.boxplot(x='City', y='calc_avg_price_Q1', data=df_listings)\n",
        "plt.title('Average Price Q1 Comparison')\n",
        "plt.xlabel('City')\n",
        "plt.ylabel('Average Price Q1')\n",
        "plt.show()"
      ],
      "execution_count": null,
      "outputs": [
        {
          "data": {
            "image/png": "[encoded data removed]"
          },
          "metadata": {
            "image/png": {}
          },
          "output_type": "display_data"
        }
      ],
      "metadata": {
        "datalore": {
          "node_id": "t8pxeqCc3vkxOCXvKvzQiO",
          "type": "CODE",
          "hide_input_from_viewers": true,
          "hide_output_from_viewers": true
        },
        "id": "6QBRaD5MKlRg",
        "outputId": "4f3278f5-bc1e-424d-8b98-54700955e9a0"
      }
    },
    {
      "cell_type": "markdown",
      "source": [
        "## c. Average price for Quarter 2 comparing Vancouver and Victoria city"
      ],
      "metadata": {
        "datalore": {
          "node_id": "aXGOHtUAUmD0JsKgoJ8Myk",
          "type": "MD",
          "hide_input_from_viewers": true,
          "hide_output_from_viewers": true
        },
        "id": "5Z0AdZfGKlRg"
      }
    },
    {
      "cell_type": "code",
      "source": [
        "\n",
        "# Boxplot for average price for Quarter 2 comparing Vancouver and Victoria\n",
        "plt.figure(figsize=(12, 6))\n",
        "sns.boxplot(x='City', y='calc_avg_price_Q2', data=df_listings)\n",
        "plt.title('Average Price Q2 Comparison')\n",
        "plt.xlabel('City')\n",
        "plt.ylabel('Average Price Q2')\n",
        "plt.show()"
      ],
      "execution_count": null,
      "outputs": [
        {
          "data": {
            "image/png": "[encoded data removed]"
          },
          "metadata": {
            "image/png": {}
          },
          "output_type": "display_data"
        }
      ],
      "metadata": {
        "datalore": {
          "node_id": "FMLUuMNa5fo7DF9vlMPC1C",
          "type": "CODE",
          "hide_input_from_viewers": true,
          "hide_output_from_viewers": true
        },
        "id": "PP66wcUNKlRg",
        "outputId": "7fbba8c1-4dc9-4a84-a4da-353dfd5e9eef"
      }
    },
    {
      "cell_type": "markdown",
      "source": [
        "## d. Average price for Quarter 3 comparing Vancouver and Victoria city"
      ],
      "metadata": {
        "datalore": {
          "node_id": "7lxrQzk6XtLJZThblaiF1H",
          "type": "MD",
          "hide_input_from_viewers": true,
          "hide_output_from_viewers": true
        },
        "id": "JHIlLTl6KlRg"
      }
    },
    {
      "cell_type": "code",
      "source": [
        "\n",
        "# Boxplot for average price for Quarter 3 comparing Vancouver and Victoria\n",
        "plt.figure(figsize=(12, 6))\n",
        "sns.boxplot(x='City', y='calc_avg_price_Q3', data=df_listings)\n",
        "plt.title('Average Price Q3 Comparison')\n",
        "plt.xlabel('City')\n",
        "plt.ylabel('Average Price Q3')\n",
        "plt.show()"
      ],
      "execution_count": null,
      "outputs": [
        {
          "data": {
            "image/png": "[encoded data removed]"
          },
          "metadata": {
            "image/png": {}
          },
          "output_type": "display_data"
        }
      ],
      "metadata": {
        "datalore": {
          "node_id": "EBfNYhLYKQDXw1XhlPMAZy",
          "type": "CODE",
          "hide_input_from_viewers": true,
          "hide_output_from_viewers": true
        },
        "id": "FDjAQ5C9KlRg",
        "outputId": "41a0612d-9103-4882-9882-b9eeeb0b4c0b"
      }
    },
    {
      "cell_type": "markdown",
      "source": [
        "## e. Average price for Quarter 4 comparing Vancouver and Victoria city"
      ],
      "metadata": {
        "datalore": {
          "node_id": "rYk89aNly6zqXKEPuVch1H",
          "type": "MD",
          "hide_input_from_viewers": true,
          "hide_output_from_viewers": true
        },
        "id": "zKO6ty4CKlRg"
      }
    },
    {
      "cell_type": "code",
      "source": [
        "\n",
        "# Boxplot for average price for Quarter 4 comparing Vancouver and Victoria\n",
        "plt.figure(figsize=(12, 6))\n",
        "sns.boxplot(x='City', y='calc_avg_price_Q4', data=df_listings)\n",
        "plt.title('Average Price Q4 Comparison')\n",
        "plt.xlabel('City')\n",
        "plt.ylabel('Average Price Q4')\n",
        "plt.show()"
      ],
      "execution_count": null,
      "outputs": [
        {
          "data": {
            "image/png": "[encoded data removed]"
          },
          "metadata": {
            "image/png": {}
          },
          "output_type": "display_data"
        }
      ],
      "metadata": {
        "datalore": {
          "node_id": "OnnRqlTOetaqMf3haSjneN",
          "type": "CODE",
          "hide_input_from_viewers": true,
          "hide_output_from_viewers": true
        },
        "id": "_9pT413lKlRh",
        "outputId": "82872a0b-0a9f-4e17-f843-6be46f3c7d28"
      }
    },
    {
      "cell_type": "markdown",
      "source": [
        "## f. Number of reviews comparison between Vancouver & Victoria city"
      ],
      "metadata": {
        "datalore": {
          "node_id": "xeQaVH2pWlbXtFvljiYyfP",
          "type": "MD",
          "hide_input_from_viewers": true,
          "hide_output_from_viewers": true
        },
        "id": "B8ONCMg-KlRh"
      }
    },
    {
      "cell_type": "code",
      "source": [
        "\n",
        "# Compare number of reviews\n",
        "plt.figure(figsize=(10, 6))\n",
        "sns.boxplot(x='City', y='number_of_reviews', data=df_listings)\n",
        "plt.title('Number of Reviews Comparison')\n",
        "plt.xlabel('City')\n",
        "plt.ylabel('Number of Reviews')\n",
        "plt.show()"
      ],
      "execution_count": null,
      "outputs": [
        {
          "data": {
            "image/png": "[encoded data removed]"
          },
          "metadata": {
            "image/png": {}
          },
          "output_type": "display_data"
        }
      ],
      "metadata": {
        "datalore": {
          "node_id": "2bFsc1bGUvZRKrJ6XQ0hCL",
          "type": "CODE",
          "hide_input_from_viewers": true,
          "hide_output_from_viewers": true
        },
        "id": "N81gky3ZKlRh",
        "outputId": "27460e63-936f-423f-fefb-e64c5dcf0ba0"
      }
    },
    {
      "cell_type": "markdown",
      "source": [
        "## g. Review sentiment comparison between Vancouver & Victoria city"
      ],
      "metadata": {
        "datalore": {
          "node_id": "wZOJ1kExj7j6oZcVFzRTMW",
          "type": "MD",
          "hide_input_from_viewers": true,
          "hide_output_from_viewers": true
        },
        "id": "8Rsz2ELAKlRh"
      }
    },
    {
      "cell_type": "code",
      "source": [
        "\n",
        "# Countplot for sentiment distribution in each city\n",
        "plt.figure(figsize=(8, 6))\n",
        "sns.countplot(x='review_sentiment', hue='City', data=df_reviews)\n",
        "plt.title('Review Sentiment Comparison')\n",
        "plt.xlabel('Review Sentiment')\n",
        "plt.ylabel('Count')\n",
        "plt.show()"
      ],
      "execution_count": null,
      "outputs": [
        {
          "data": {
            "image/png": "[encoded data removed]"
          },
          "metadata": {
            "image/png": {}
          },
          "output_type": "display_data"
        }
      ],
      "metadata": {
        "datalore": {
          "node_id": "OfwEV1GNcb2kmpOfGkbk5Y",
          "type": "CODE",
          "hide_input_from_viewers": true,
          "hide_output_from_viewers": true
        },
        "id": "J99euShEKlRh",
        "outputId": "524447f5-d83a-44eb-bdce-bbc04fe85d93"
      }
    },
    {
      "cell_type": "markdown",
      "source": [
        "## h. Boxplot to compare the price for different room type"
      ],
      "metadata": {
        "datalore": {
          "node_id": "04zj8XpAGZMdWb2r7CQh6P",
          "type": "MD",
          "hide_input_from_viewers": true,
          "hide_output_from_viewers": true
        },
        "id": "E9wyxL-tKlRh"
      }
    },
    {
      "cell_type": "code",
      "source": [
        "\n",
        "import seaborn as sns\n",
        "df_listings_copy['log_price'] = np.log(df_listings_copy['price'])\n",
        "sns.catplot(\n",
        "    data=df_listings_copy,\n",
        "    x='room_type', y='log_price', kind='box',\n",
        "    height=6, aspect=1.8, width=0.5\n",
        ")"
      ],
      "execution_count": null,
      "outputs": [
        {
          "data": {
            "text/plain": [
              "<seaborn.axisgrid.FacetGrid at 0x7f22502f8850>"
            ]
          },
          "metadata": {},
          "output_type": "display_data"
        },
        {
          "data": {
            "image/png": "[encoded data removed]"
          },
          "metadata": {
            "image/png": {}
          },
          "output_type": "display_data"
        }
      ],
      "metadata": {
        "datalore": {
          "node_id": "cJt6t6AHwwVOdfxW20YyFG",
          "type": "CODE",
          "hide_input_from_viewers": true,
          "hide_output_from_viewers": true
        },
        "id": "OIoko4dxKlRh",
        "outputId": "e425439b-4355-44c8-d9c3-acacb240589c"
      }
    },
    {
      "cell_type": "markdown",
      "source": [
        "# G. Conclusion"
      ],
      "metadata": {
        "datalore": {
          "node_id": "Xx0kIFUEJhWOt2aobsvMAP",
          "type": "MD",
          "hide_input_from_viewers": true,
          "hide_output_from_viewers": true
        },
        "id": "1dQmqjvQKlRh"
      }
    },
    {
      "cell_type": "markdown",
      "source": [
        "We have done some data cleaning and review before amalgamating the different datasets in a master one. We added some calculated columns mainly by aggregation per host or neighbourhood.  \n",
        "We also created 2 summary datasets to allow a future analysis from the host point of view or from the neighborhood point of view.  \n",
        "After this preparation work, we believe the data is ready for further statistical analysis and modeling.  \n",
        "\n",
        "Analysis could answer to questions like :  \n",
        "What are the 3 hot spots in Victoria and Vancouver for having a AirBnb?  \n",
        "What are the factors that would lead to a better income from having a property rented with AirBnB?  \n",
        "As a visitor which neighbourhood would give the best price for the location?  "
      ],
      "metadata": {
        "datalore": {
          "node_id": "ahqfveK2JLJHwE6oayDBSs",
          "type": "MD",
          "hide_input_from_viewers": true,
          "hide_output_from_viewers": true
        },
        "id": "YJqHybReKlRh"
      }
    },
    {
      "cell_type": "code",
      "source": [
        "sum_hosts.columns"
      ],
      "execution_count": null,
      "outputs": [
        {
          "data": {
            "text/plain": [
              "Index(['host_id', 'host_since', 'host_location', 'host_about',\n",
              "       'host_response_time', 'host_response_rate', 'host_acceptance_rate',\n",
              "       'host_is_superhost', 'host_neighbourhood', 'host_listings_count',\n",
              "       'host_total_listings_count', 'host_verifications',\n",
              "       'host_identity_verified', 'City', 'calc_listings_count',\n",
              "       'calc_avg_dist_from_center', 'calc_avg_rating', 'calc_avg_avail_365',\n",
              "       'calc_future_avg_price', 'calc_future_min_price',\n",
              "       'calc_future_max_price', 'calc_income_prev', 'calc_total_reviews',\n",
              "       'calc_first_review', 'calc_last_review'],\n",
              "      dtype='object')"
            ]
          },
          "metadata": {},
          "output_type": "display_data"
        }
      ],
      "metadata": {
        "datalore": {
          "node_id": "sFip9AZI0wlNpi3LwcmX4e",
          "type": "CODE",
          "hide_input_from_viewers": true,
          "hide_output_from_viewers": true
        },
        "id": "OMLCF1fzKlRh",
        "outputId": "0d271490-b833-40c5-fb87-e05e5e14eabf"
      }
    },
    {
      "cell_type": "code",
      "source": [
        "sum_neighbourhoods.columns"
      ],
      "execution_count": null,
      "outputs": [
        {
          "data": {
            "text/plain": [
              "Index(['neighb_name', 'neighb_group', 'City', 'calc_listings_count',\n",
              "       'calc_avg_dist_from_center', 'calc_avg_rating', 'calc_avg_avail_365',\n",
              "       'calc_future_avg_price', 'calc_future_min_price',\n",
              "       'calc_future_max_price', 'calc_total_hosts_x', 'calc_total_hosts_y',\n",
              "       'calc_total_reviews'],\n",
              "      dtype='object')"
            ]
          },
          "metadata": {},
          "output_type": "display_data"
        }
      ],
      "metadata": {
        "datalore": {
          "node_id": "aYbY52GetpmixJ6RE1jsru",
          "type": "CODE",
          "hide_input_from_viewers": true,
          "hide_output_from_viewers": true
        },
        "id": "up8Xqn7QKlRh",
        "outputId": "436c2c59-2ef0-4fb4-9c70-bfc381d84253"
      }
    }
  ],
  "metadata": {
    "kernelspec": {
      "display_name": "Python",
      "language": "python",
      "name": "python"
    },
    "datalore": {
      "computation_mode": "JUPYTER",
      "package_manager": "pip",
      "base_environment": "default",
      "packages": [
        {
          "name": "openpyxl",
          "version": "3.2.0b1",
          "source": "PIP"
        },
        {
          "name": "geopy",
          "version": "2.4.1",
          "source": "PIP"
        },
        {
          "name": "folium",
          "version": "0.15.0",
          "source": "PIP"
        }
      ],
      "report_row_ids": [
        "p3GaBDPX5tJLMxykKURjNQ",
        "4d6bEXv5WoNfUp8PB8AFaT",
        "cVR9cy0ZiJyoKOMawyPoYh",
        "tY4jqjpH0OIgS9hDO5ALFU",
        "NSOdLPjjuBXXxlQzIsk0VH"
      ],
      "version": 3
    },
    "colab": {
      "provenance": []
    }
  },
  "nbformat": 4,
  "nbformat_minor": 0
}